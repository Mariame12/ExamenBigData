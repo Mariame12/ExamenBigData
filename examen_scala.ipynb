{
  "cells": [
    {
      "cell_type": "markdown",
      "id": "d034781b",
      "metadata": {
        "id": "d034781b"
      },
      "source": [
        "# Projet detection des transactions frauduleuses"
      ]
    },
    {
      "cell_type": "markdown",
      "id": "1wkpVScwIYzO",
      "metadata": {
        "id": "1wkpVScwIYzO"
      },
      "source": [
        ":Nom des etudiants : *Mariame Sas CONTE 218254: et Oumar Alpha yaya CISSE 218015*\n",
        "\n"
      ]
    },
    {
      "cell_type": "markdown",
      "id": "d411f6f2",
      "metadata": {
        "id": "d411f6f2"
      },
      "source": [
        "## Exploration des données"
      ]
    },
    {
      "cell_type": "code",
      "execution_count": null,
      "id": "cBefW90fwvcE",
      "metadata": {
        "colab": {
          "base_uri": "https://localhost:8080/"
        },
        "id": "cBefW90fwvcE",
        "outputId": "d83c49a1-232a-4ce1-d1ed-c87c064bc114"
      },
      "outputs": [
        {
          "name": "stdout",
          "output_type": "stream",
          "text": [
            "Collecting pyspark\n",
            "  Downloading pyspark-3.5.1.tar.gz (317.0 MB)\n",
            "\u001b[2K     \u001b[90m━━━━━━━━━━━━━━━━━━━━━━━━━━━━━━━━━━━━━━━━\u001b[0m \u001b[32m317.0/317.0 MB\u001b[0m \u001b[31m2.2 MB/s\u001b[0m eta \u001b[36m0:00:00\u001b[0m\n",
            "\u001b[?25h  Preparing metadata (setup.py) ... \u001b[?25l\u001b[?25hdone\n",
            "Requirement already satisfied: py4j==0.10.9.7 in /usr/local/lib/python3.10/dist-packages (from pyspark) (0.10.9.7)\n",
            "Building wheels for collected packages: pyspark\n",
            "  Building wheel for pyspark (setup.py) ... \u001b[?25l\u001b[?25hdone\n",
            "  Created wheel for pyspark: filename=pyspark-3.5.1-py2.py3-none-any.whl size=317488491 sha256=2294adf255beb5dec876bd4457644fb1ee85cd4dba190d2b9d92d40f55c3c823\n",
            "  Stored in directory: /root/.cache/pip/wheels/80/1d/60/2c256ed38dddce2fdd93be545214a63e02fbd8d74fb0b7f3a6\n",
            "Successfully built pyspark\n",
            "Installing collected packages: pyspark\n",
            "Successfully installed pyspark-3.5.1\n"
          ]
        }
      ],
      "source": [
        "pip install pyspark"
      ]
    },
    {
      "cell_type": "code",
      "execution_count": null,
      "id": "b2093935",
      "metadata": {
        "id": "b2093935"
      },
      "outputs": [],
      "source": [
        "# Importation des bibliotheques\n",
        "from pyspark.sql import SparkSession\n",
        "from matplotlib import pyplot as plt\n",
        "import seaborn as sns\n",
        "from sklearn.utils import resample\n",
        "import pandas as pd\n",
        "from pyspark.ml.feature import VectorAssembler\n",
        "from pyspark.ml.classification import RandomForestClassifier, GBTClassifier, LogisticRegression, DecisionTreeClassifier\n",
        "from pyspark.sql import functions as F\n",
        "from pyspark.ml.tuning import ParamGridBuilder, CrossValidator\n",
        "from pyspark.ml.evaluation import BinaryClassificationEvaluator\n",
        "from pyspark.ml.feature import ChiSqSelector\n",
        "from pyspark.ml.evaluation import MulticlassClassificationEvaluator\n",
        "from google.colab import drive\n",
        "from pyspark.ml import PipelineModel"
      ]
    },
    {
      "cell_type": "code",
      "execution_count": null,
      "id": "d605d2db",
      "metadata": {
        "id": "d605d2db"
      },
      "outputs": [],
      "source": [
        "spark = SparkSession.builder \\\n",
        "                    .master('local[*]') \\\n",
        "                    .appName('Detection de fraude') \\\n",
        "                    .getOrCreate()"
      ]
    },
    {
      "cell_type": "code",
      "execution_count": null,
      "id": "c345cc13",
      "metadata": {
        "id": "c345cc13"
      },
      "outputs": [],
      "source": [
        "#Importation de la base de donnees\n",
        "df = spark.read.csv('creditcard.csv',\n",
        "                         sep=',',\n",
        "                         header=True, inferSchema =True)"
      ]
    },
    {
      "cell_type": "code",
      "execution_count": null,
      "id": "7979c3f1",
      "metadata": {
        "colab": {
          "base_uri": "https://localhost:8080/",
          "height": 256
        },
        "id": "7979c3f1",
        "outputId": "f3d10304-e1f1-4e55-92f6-a976169cb793"
      },
      "outputs": [
        {
          "data": {
            "application/vnd.google.colaboratory.intrinsic+json": {
              "type": "dataframe"
            },
            "text/html": [
              "\n",
              "  <div id=\"df-e54de23f-7a93-4265-918a-4063e2cb96f1\" class=\"colab-df-container\">\n",
              "    <div>\n",
              "<style scoped>\n",
              "    .dataframe tbody tr th:only-of-type {\n",
              "        vertical-align: middle;\n",
              "    }\n",
              "\n",
              "    .dataframe tbody tr th {\n",
              "        vertical-align: top;\n",
              "    }\n",
              "\n",
              "    .dataframe thead th {\n",
              "        text-align: right;\n",
              "    }\n",
              "</style>\n",
              "<table border=\"1\" class=\"dataframe\">\n",
              "  <thead>\n",
              "    <tr style=\"text-align: right;\">\n",
              "      <th></th>\n",
              "      <th>Time</th>\n",
              "      <th>V1</th>\n",
              "      <th>V2</th>\n",
              "      <th>V3</th>\n",
              "      <th>V4</th>\n",
              "      <th>V5</th>\n",
              "      <th>V6</th>\n",
              "      <th>V7</th>\n",
              "      <th>V8</th>\n",
              "      <th>V9</th>\n",
              "      <th>...</th>\n",
              "      <th>V21</th>\n",
              "      <th>V22</th>\n",
              "      <th>V23</th>\n",
              "      <th>V24</th>\n",
              "      <th>V25</th>\n",
              "      <th>V26</th>\n",
              "      <th>V27</th>\n",
              "      <th>V28</th>\n",
              "      <th>Amount</th>\n",
              "      <th>Class</th>\n",
              "    </tr>\n",
              "  </thead>\n",
              "  <tbody>\n",
              "    <tr>\n",
              "      <th>0</th>\n",
              "      <td>0</td>\n",
              "      <td>-1.359807</td>\n",
              "      <td>-0.072781</td>\n",
              "      <td>2.536347</td>\n",
              "      <td>1.378155</td>\n",
              "      <td>-0.338321</td>\n",
              "      <td>0.462388</td>\n",
              "      <td>0.239599</td>\n",
              "      <td>0.098698</td>\n",
              "      <td>0.363787</td>\n",
              "      <td>...</td>\n",
              "      <td>-0.018307</td>\n",
              "      <td>0.277838</td>\n",
              "      <td>-0.110474</td>\n",
              "      <td>0.066928</td>\n",
              "      <td>0.128539</td>\n",
              "      <td>-0.189115</td>\n",
              "      <td>0.133558</td>\n",
              "      <td>-0.021053</td>\n",
              "      <td>149.62</td>\n",
              "      <td>0</td>\n",
              "    </tr>\n",
              "    <tr>\n",
              "      <th>1</th>\n",
              "      <td>0</td>\n",
              "      <td>1.191857</td>\n",
              "      <td>0.266151</td>\n",
              "      <td>0.166480</td>\n",
              "      <td>0.448154</td>\n",
              "      <td>0.060018</td>\n",
              "      <td>-0.082361</td>\n",
              "      <td>-0.078803</td>\n",
              "      <td>0.085102</td>\n",
              "      <td>-0.255425</td>\n",
              "      <td>...</td>\n",
              "      <td>-0.225775</td>\n",
              "      <td>-0.638672</td>\n",
              "      <td>0.101288</td>\n",
              "      <td>-0.339846</td>\n",
              "      <td>0.167170</td>\n",
              "      <td>0.125895</td>\n",
              "      <td>-0.008983</td>\n",
              "      <td>0.014724</td>\n",
              "      <td>2.69</td>\n",
              "      <td>0</td>\n",
              "    </tr>\n",
              "    <tr>\n",
              "      <th>2</th>\n",
              "      <td>1</td>\n",
              "      <td>-1.358354</td>\n",
              "      <td>-1.340163</td>\n",
              "      <td>1.773209</td>\n",
              "      <td>0.379780</td>\n",
              "      <td>-0.503198</td>\n",
              "      <td>1.800499</td>\n",
              "      <td>0.791461</td>\n",
              "      <td>0.247676</td>\n",
              "      <td>-1.514654</td>\n",
              "      <td>...</td>\n",
              "      <td>0.247998</td>\n",
              "      <td>0.771679</td>\n",
              "      <td>0.909412</td>\n",
              "      <td>-0.689281</td>\n",
              "      <td>-0.327642</td>\n",
              "      <td>-0.139097</td>\n",
              "      <td>-0.055353</td>\n",
              "      <td>-0.059752</td>\n",
              "      <td>378.66</td>\n",
              "      <td>0</td>\n",
              "    </tr>\n",
              "    <tr>\n",
              "      <th>3</th>\n",
              "      <td>1</td>\n",
              "      <td>-0.966272</td>\n",
              "      <td>-0.185226</td>\n",
              "      <td>1.792993</td>\n",
              "      <td>-0.863291</td>\n",
              "      <td>-0.010309</td>\n",
              "      <td>1.247203</td>\n",
              "      <td>0.237609</td>\n",
              "      <td>0.377436</td>\n",
              "      <td>-1.387024</td>\n",
              "      <td>...</td>\n",
              "      <td>-0.108300</td>\n",
              "      <td>0.005274</td>\n",
              "      <td>-0.190321</td>\n",
              "      <td>-1.175575</td>\n",
              "      <td>0.647376</td>\n",
              "      <td>-0.221929</td>\n",
              "      <td>0.062723</td>\n",
              "      <td>0.061458</td>\n",
              "      <td>123.50</td>\n",
              "      <td>0</td>\n",
              "    </tr>\n",
              "    <tr>\n",
              "      <th>4</th>\n",
              "      <td>2</td>\n",
              "      <td>-1.158233</td>\n",
              "      <td>0.877737</td>\n",
              "      <td>1.548718</td>\n",
              "      <td>0.403034</td>\n",
              "      <td>-0.407193</td>\n",
              "      <td>0.095921</td>\n",
              "      <td>0.592941</td>\n",
              "      <td>-0.270533</td>\n",
              "      <td>0.817739</td>\n",
              "      <td>...</td>\n",
              "      <td>-0.009431</td>\n",
              "      <td>0.798278</td>\n",
              "      <td>-0.137458</td>\n",
              "      <td>0.141267</td>\n",
              "      <td>-0.206010</td>\n",
              "      <td>0.502292</td>\n",
              "      <td>0.219422</td>\n",
              "      <td>0.215153</td>\n",
              "      <td>69.99</td>\n",
              "      <td>0</td>\n",
              "    </tr>\n",
              "  </tbody>\n",
              "</table>\n",
              "<p>5 rows × 31 columns</p>\n",
              "</div>\n",
              "    <div class=\"colab-df-buttons\">\n",
              "\n",
              "  <div class=\"colab-df-container\">\n",
              "    <button class=\"colab-df-convert\" onclick=\"convertToInteractive('df-e54de23f-7a93-4265-918a-4063e2cb96f1')\"\n",
              "            title=\"Convert this dataframe to an interactive table.\"\n",
              "            style=\"display:none;\">\n",
              "\n",
              "  <svg xmlns=\"http://www.w3.org/2000/svg\" height=\"24px\" viewBox=\"0 -960 960 960\">\n",
              "    <path d=\"M120-120v-720h720v720H120Zm60-500h600v-160H180v160Zm220 220h160v-160H400v160Zm0 220h160v-160H400v160ZM180-400h160v-160H180v160Zm440 0h160v-160H620v160ZM180-180h160v-160H180v160Zm440 0h160v-160H620v160Z\"/>\n",
              "  </svg>\n",
              "    </button>\n",
              "\n",
              "  <style>\n",
              "    .colab-df-container {\n",
              "      display:flex;\n",
              "      gap: 12px;\n",
              "    }\n",
              "\n",
              "    .colab-df-convert {\n",
              "      background-color: #E8F0FE;\n",
              "      border: none;\n",
              "      border-radius: 50%;\n",
              "      cursor: pointer;\n",
              "      display: none;\n",
              "      fill: #1967D2;\n",
              "      height: 32px;\n",
              "      padding: 0 0 0 0;\n",
              "      width: 32px;\n",
              "    }\n",
              "\n",
              "    .colab-df-convert:hover {\n",
              "      background-color: #E2EBFA;\n",
              "      box-shadow: 0px 1px 2px rgba(60, 64, 67, 0.3), 0px 1px 3px 1px rgba(60, 64, 67, 0.15);\n",
              "      fill: #174EA6;\n",
              "    }\n",
              "\n",
              "    .colab-df-buttons div {\n",
              "      margin-bottom: 4px;\n",
              "    }\n",
              "\n",
              "    [theme=dark] .colab-df-convert {\n",
              "      background-color: #3B4455;\n",
              "      fill: #D2E3FC;\n",
              "    }\n",
              "\n",
              "    [theme=dark] .colab-df-convert:hover {\n",
              "      background-color: #434B5C;\n",
              "      box-shadow: 0px 1px 3px 1px rgba(0, 0, 0, 0.15);\n",
              "      filter: drop-shadow(0px 1px 2px rgba(0, 0, 0, 0.3));\n",
              "      fill: #FFFFFF;\n",
              "    }\n",
              "  </style>\n",
              "\n",
              "    <script>\n",
              "      const buttonEl =\n",
              "        document.querySelector('#df-e54de23f-7a93-4265-918a-4063e2cb96f1 button.colab-df-convert');\n",
              "      buttonEl.style.display =\n",
              "        google.colab.kernel.accessAllowed ? 'block' : 'none';\n",
              "\n",
              "      async function convertToInteractive(key) {\n",
              "        const element = document.querySelector('#df-e54de23f-7a93-4265-918a-4063e2cb96f1');\n",
              "        const dataTable =\n",
              "          await google.colab.kernel.invokeFunction('convertToInteractive',\n",
              "                                                    [key], {});\n",
              "        if (!dataTable) return;\n",
              "\n",
              "        const docLinkHtml = 'Like what you see? Visit the ' +\n",
              "          '<a target=\"_blank\" href=https://colab.research.google.com/notebooks/data_table.ipynb>data table notebook</a>'\n",
              "          + ' to learn more about interactive tables.';\n",
              "        element.innerHTML = '';\n",
              "        dataTable['output_type'] = 'display_data';\n",
              "        await google.colab.output.renderOutput(dataTable, element);\n",
              "        const docLink = document.createElement('div');\n",
              "        docLink.innerHTML = docLinkHtml;\n",
              "        element.appendChild(docLink);\n",
              "      }\n",
              "    </script>\n",
              "  </div>\n",
              "\n",
              "\n",
              "<div id=\"df-5b54aad2-40c2-41b3-a7dc-3c389e05c3e4\">\n",
              "  <button class=\"colab-df-quickchart\" onclick=\"quickchart('df-5b54aad2-40c2-41b3-a7dc-3c389e05c3e4')\"\n",
              "            title=\"Suggest charts\"\n",
              "            style=\"display:none;\">\n",
              "\n",
              "<svg xmlns=\"http://www.w3.org/2000/svg\" height=\"24px\"viewBox=\"0 0 24 24\"\n",
              "     width=\"24px\">\n",
              "    <g>\n",
              "        <path d=\"M19 3H5c-1.1 0-2 .9-2 2v14c0 1.1.9 2 2 2h14c1.1 0 2-.9 2-2V5c0-1.1-.9-2-2-2zM9 17H7v-7h2v7zm4 0h-2V7h2v10zm4 0h-2v-4h2v4z\"/>\n",
              "    </g>\n",
              "</svg>\n",
              "  </button>\n",
              "\n",
              "<style>\n",
              "  .colab-df-quickchart {\n",
              "      --bg-color: #E8F0FE;\n",
              "      --fill-color: #1967D2;\n",
              "      --hover-bg-color: #E2EBFA;\n",
              "      --hover-fill-color: #174EA6;\n",
              "      --disabled-fill-color: #AAA;\n",
              "      --disabled-bg-color: #DDD;\n",
              "  }\n",
              "\n",
              "  [theme=dark] .colab-df-quickchart {\n",
              "      --bg-color: #3B4455;\n",
              "      --fill-color: #D2E3FC;\n",
              "      --hover-bg-color: #434B5C;\n",
              "      --hover-fill-color: #FFFFFF;\n",
              "      --disabled-bg-color: #3B4455;\n",
              "      --disabled-fill-color: #666;\n",
              "  }\n",
              "\n",
              "  .colab-df-quickchart {\n",
              "    background-color: var(--bg-color);\n",
              "    border: none;\n",
              "    border-radius: 50%;\n",
              "    cursor: pointer;\n",
              "    display: none;\n",
              "    fill: var(--fill-color);\n",
              "    height: 32px;\n",
              "    padding: 0;\n",
              "    width: 32px;\n",
              "  }\n",
              "\n",
              "  .colab-df-quickchart:hover {\n",
              "    background-color: var(--hover-bg-color);\n",
              "    box-shadow: 0 1px 2px rgba(60, 64, 67, 0.3), 0 1px 3px 1px rgba(60, 64, 67, 0.15);\n",
              "    fill: var(--button-hover-fill-color);\n",
              "  }\n",
              "\n",
              "  .colab-df-quickchart-complete:disabled,\n",
              "  .colab-df-quickchart-complete:disabled:hover {\n",
              "    background-color: var(--disabled-bg-color);\n",
              "    fill: var(--disabled-fill-color);\n",
              "    box-shadow: none;\n",
              "  }\n",
              "\n",
              "  .colab-df-spinner {\n",
              "    border: 2px solid var(--fill-color);\n",
              "    border-color: transparent;\n",
              "    border-bottom-color: var(--fill-color);\n",
              "    animation:\n",
              "      spin 1s steps(1) infinite;\n",
              "  }\n",
              "\n",
              "  @keyframes spin {\n",
              "    0% {\n",
              "      border-color: transparent;\n",
              "      border-bottom-color: var(--fill-color);\n",
              "      border-left-color: var(--fill-color);\n",
              "    }\n",
              "    20% {\n",
              "      border-color: transparent;\n",
              "      border-left-color: var(--fill-color);\n",
              "      border-top-color: var(--fill-color);\n",
              "    }\n",
              "    30% {\n",
              "      border-color: transparent;\n",
              "      border-left-color: var(--fill-color);\n",
              "      border-top-color: var(--fill-color);\n",
              "      border-right-color: var(--fill-color);\n",
              "    }\n",
              "    40% {\n",
              "      border-color: transparent;\n",
              "      border-right-color: var(--fill-color);\n",
              "      border-top-color: var(--fill-color);\n",
              "    }\n",
              "    60% {\n",
              "      border-color: transparent;\n",
              "      border-right-color: var(--fill-color);\n",
              "    }\n",
              "    80% {\n",
              "      border-color: transparent;\n",
              "      border-right-color: var(--fill-color);\n",
              "      border-bottom-color: var(--fill-color);\n",
              "    }\n",
              "    90% {\n",
              "      border-color: transparent;\n",
              "      border-bottom-color: var(--fill-color);\n",
              "    }\n",
              "  }\n",
              "</style>\n",
              "\n",
              "  <script>\n",
              "    async function quickchart(key) {\n",
              "      const quickchartButtonEl =\n",
              "        document.querySelector('#' + key + ' button');\n",
              "      quickchartButtonEl.disabled = true;  // To prevent multiple clicks.\n",
              "      quickchartButtonEl.classList.add('colab-df-spinner');\n",
              "      try {\n",
              "        const charts = await google.colab.kernel.invokeFunction(\n",
              "            'suggestCharts', [key], {});\n",
              "      } catch (error) {\n",
              "        console.error('Error during call to suggestCharts:', error);\n",
              "      }\n",
              "      quickchartButtonEl.classList.remove('colab-df-spinner');\n",
              "      quickchartButtonEl.classList.add('colab-df-quickchart-complete');\n",
              "    }\n",
              "    (() => {\n",
              "      let quickchartButtonEl =\n",
              "        document.querySelector('#df-5b54aad2-40c2-41b3-a7dc-3c389e05c3e4 button');\n",
              "      quickchartButtonEl.style.display =\n",
              "        google.colab.kernel.accessAllowed ? 'block' : 'none';\n",
              "    })();\n",
              "  </script>\n",
              "</div>\n",
              "\n",
              "    </div>\n",
              "  </div>\n"
            ],
            "text/plain": [
              "   Time        V1        V2        V3        V4        V5        V6        V7  \\\n",
              "0     0 -1.359807 -0.072781  2.536347  1.378155 -0.338321  0.462388  0.239599   \n",
              "1     0  1.191857  0.266151  0.166480  0.448154  0.060018 -0.082361 -0.078803   \n",
              "2     1 -1.358354 -1.340163  1.773209  0.379780 -0.503198  1.800499  0.791461   \n",
              "3     1 -0.966272 -0.185226  1.792993 -0.863291 -0.010309  1.247203  0.237609   \n",
              "4     2 -1.158233  0.877737  1.548718  0.403034 -0.407193  0.095921  0.592941   \n",
              "\n",
              "         V8        V9  ...       V21       V22       V23       V24       V25  \\\n",
              "0  0.098698  0.363787  ... -0.018307  0.277838 -0.110474  0.066928  0.128539   \n",
              "1  0.085102 -0.255425  ... -0.225775 -0.638672  0.101288 -0.339846  0.167170   \n",
              "2  0.247676 -1.514654  ...  0.247998  0.771679  0.909412 -0.689281 -0.327642   \n",
              "3  0.377436 -1.387024  ... -0.108300  0.005274 -0.190321 -1.175575  0.647376   \n",
              "4 -0.270533  0.817739  ... -0.009431  0.798278 -0.137458  0.141267 -0.206010   \n",
              "\n",
              "        V26       V27       V28  Amount  Class  \n",
              "0 -0.189115  0.133558 -0.021053  149.62      0  \n",
              "1  0.125895 -0.008983  0.014724    2.69      0  \n",
              "2 -0.139097 -0.055353 -0.059752  378.66      0  \n",
              "3 -0.221929  0.062723  0.061458  123.50      0  \n",
              "4  0.502292  0.219422  0.215153   69.99      0  \n",
              "\n",
              "[5 rows x 31 columns]"
            ]
          },
          "execution_count": 5,
          "metadata": {},
          "output_type": "execute_result"
        }
      ],
      "source": [
        "#Voir les 5 premieres lignes du dataframe\n",
        "df.limit(5).toPandas()"
      ]
    },
    {
      "cell_type": "code",
      "execution_count": null,
      "id": "b4c4a6a4",
      "metadata": {
        "id": "b4c4a6a4"
      },
      "outputs": [],
      "source": [
        "df = df.toPandas()"
      ]
    },
    {
      "cell_type": "code",
      "execution_count": null,
      "id": "9fe69be4",
      "metadata": {
        "colab": {
          "base_uri": "https://localhost:8080/",
          "height": 256
        },
        "id": "9fe69be4",
        "outputId": "5a3f898c-b60d-42ee-b394-173d8dfa7c5f"
      },
      "outputs": [
        {
          "data": {
            "application/vnd.google.colaboratory.intrinsic+json": {
              "type": "dataframe"
            },
            "text/html": [
              "\n",
              "  <div id=\"df-f605223f-f809-4a04-87ca-947bfb61c175\" class=\"colab-df-container\">\n",
              "    <div>\n",
              "<style scoped>\n",
              "    .dataframe tbody tr th:only-of-type {\n",
              "        vertical-align: middle;\n",
              "    }\n",
              "\n",
              "    .dataframe tbody tr th {\n",
              "        vertical-align: top;\n",
              "    }\n",
              "\n",
              "    .dataframe thead th {\n",
              "        text-align: right;\n",
              "    }\n",
              "</style>\n",
              "<table border=\"1\" class=\"dataframe\">\n",
              "  <thead>\n",
              "    <tr style=\"text-align: right;\">\n",
              "      <th></th>\n",
              "      <th>Time</th>\n",
              "      <th>V1</th>\n",
              "      <th>V2</th>\n",
              "      <th>V3</th>\n",
              "      <th>V4</th>\n",
              "      <th>V5</th>\n",
              "      <th>V6</th>\n",
              "      <th>V7</th>\n",
              "      <th>V8</th>\n",
              "      <th>V9</th>\n",
              "      <th>...</th>\n",
              "      <th>V21</th>\n",
              "      <th>V22</th>\n",
              "      <th>V23</th>\n",
              "      <th>V24</th>\n",
              "      <th>V25</th>\n",
              "      <th>V26</th>\n",
              "      <th>V27</th>\n",
              "      <th>V28</th>\n",
              "      <th>Amount</th>\n",
              "      <th>Class</th>\n",
              "    </tr>\n",
              "  </thead>\n",
              "  <tbody>\n",
              "    <tr>\n",
              "      <th>53566</th>\n",
              "      <td>46047</td>\n",
              "      <td>-2.885416</td>\n",
              "      <td>-2.647887</td>\n",
              "      <td>1.903441</td>\n",
              "      <td>3.726885</td>\n",
              "      <td>3.800798</td>\n",
              "      <td>-1.644480</td>\n",
              "      <td>-1.924198</td>\n",
              "      <td>0.707696</td>\n",
              "      <td>-1.070468</td>\n",
              "      <td>...</td>\n",
              "      <td>0.284893</td>\n",
              "      <td>-0.268122</td>\n",
              "      <td>0.977417</td>\n",
              "      <td>0.136853</td>\n",
              "      <td>-1.144367</td>\n",
              "      <td>-0.535616</td>\n",
              "      <td>0.098494</td>\n",
              "      <td>0.305740</td>\n",
              "      <td>19.02</td>\n",
              "      <td>0</td>\n",
              "    </tr>\n",
              "    <tr>\n",
              "      <th>53567</th>\n",
              "      <td>46048</td>\n",
              "      <td>1.061410</td>\n",
              "      <td>0.045830</td>\n",
              "      <td>0.970401</td>\n",
              "      <td>1.102883</td>\n",
              "      <td>-0.490685</td>\n",
              "      <td>0.219968</td>\n",
              "      <td>-0.424285</td>\n",
              "      <td>0.235960</td>\n",
              "      <td>0.016498</td>\n",
              "      <td>...</td>\n",
              "      <td>0.033158</td>\n",
              "      <td>0.067127</td>\n",
              "      <td>0.053801</td>\n",
              "      <td>-0.010221</td>\n",
              "      <td>0.209877</td>\n",
              "      <td>-0.484136</td>\n",
              "      <td>0.057583</td>\n",
              "      <td>0.028018</td>\n",
              "      <td>28.70</td>\n",
              "      <td>0</td>\n",
              "    </tr>\n",
              "    <tr>\n",
              "      <th>53568</th>\n",
              "      <td>46048</td>\n",
              "      <td>-0.202740</td>\n",
              "      <td>0.295074</td>\n",
              "      <td>1.924698</td>\n",
              "      <td>1.009344</td>\n",
              "      <td>-0.235931</td>\n",
              "      <td>-0.272232</td>\n",
              "      <td>0.261015</td>\n",
              "      <td>-0.162146</td>\n",
              "      <td>-0.583849</td>\n",
              "      <td>...</td>\n",
              "      <td>0.321731</td>\n",
              "      <td>1.056540</td>\n",
              "      <td>0.093902</td>\n",
              "      <td>0.608566</td>\n",
              "      <td>-0.931546</td>\n",
              "      <td>0.466156</td>\n",
              "      <td>0.016695</td>\n",
              "      <td>-0.024568</td>\n",
              "      <td>54.81</td>\n",
              "      <td>0</td>\n",
              "    </tr>\n",
              "    <tr>\n",
              "      <th>53569</th>\n",
              "      <td>46048</td>\n",
              "      <td>-0.730116</td>\n",
              "      <td>0.796820</td>\n",
              "      <td>2.122484</td>\n",
              "      <td>-1.318082</td>\n",
              "      <td>0.019762</td>\n",
              "      <td>-0.857857</td>\n",
              "      <td>0.975752</td>\n",
              "      <td>-0.399896</td>\n",
              "      <td>0.359189</td>\n",
              "      <td>...</td>\n",
              "      <td>-0.149736</td>\n",
              "      <td>0.093479</td>\n",
              "      <td>-0.056586</td>\n",
              "      <td>0.650087</td>\n",
              "      <td>-0.473889</td>\n",
              "      <td>0.662115</td>\n",
              "      <td>0.060486</td>\n",
              "      <td>-0.208536</td>\n",
              "      <td>4.53</td>\n",
              "      <td>0</td>\n",
              "    </tr>\n",
              "    <tr>\n",
              "      <th>53570</th>\n",
              "      <td>46050</td>\n",
              "      <td>0.791672</td>\n",
              "      <td>-0.522991</td>\n",
              "      <td>0.036747</td>\n",
              "      <td>1.204803</td>\n",
              "      <td>-0.262390</td>\n",
              "      <td>-0.056153</td>\n",
              "      <td>0.263614</td>\n",
              "      <td>-0.130209</td>\n",
              "      <td>0.125423</td>\n",
              "      <td>...</td>\n",
              "      <td>0.013131</td>\n",
              "      <td>-0.503993</td>\n",
              "      <td>-0.318508</td>\n",
              "      <td>-0.618493</td>\n",
              "      <td>0.463969</td>\n",
              "      <td>-0.444773</td>\n",
              "      <td>-0.013372</td>\n",
              "      <td>0.066450</td>\n",
              "      <td>258.83</td>\n",
              "      <td>0</td>\n",
              "    </tr>\n",
              "  </tbody>\n",
              "</table>\n",
              "<p>5 rows × 31 columns</p>\n",
              "</div>\n",
              "    <div class=\"colab-df-buttons\">\n",
              "\n",
              "  <div class=\"colab-df-container\">\n",
              "    <button class=\"colab-df-convert\" onclick=\"convertToInteractive('df-f605223f-f809-4a04-87ca-947bfb61c175')\"\n",
              "            title=\"Convert this dataframe to an interactive table.\"\n",
              "            style=\"display:none;\">\n",
              "\n",
              "  <svg xmlns=\"http://www.w3.org/2000/svg\" height=\"24px\" viewBox=\"0 -960 960 960\">\n",
              "    <path d=\"M120-120v-720h720v720H120Zm60-500h600v-160H180v160Zm220 220h160v-160H400v160Zm0 220h160v-160H400v160ZM180-400h160v-160H180v160Zm440 0h160v-160H620v160ZM180-180h160v-160H180v160Zm440 0h160v-160H620v160Z\"/>\n",
              "  </svg>\n",
              "    </button>\n",
              "\n",
              "  <style>\n",
              "    .colab-df-container {\n",
              "      display:flex;\n",
              "      gap: 12px;\n",
              "    }\n",
              "\n",
              "    .colab-df-convert {\n",
              "      background-color: #E8F0FE;\n",
              "      border: none;\n",
              "      border-radius: 50%;\n",
              "      cursor: pointer;\n",
              "      display: none;\n",
              "      fill: #1967D2;\n",
              "      height: 32px;\n",
              "      padding: 0 0 0 0;\n",
              "      width: 32px;\n",
              "    }\n",
              "\n",
              "    .colab-df-convert:hover {\n",
              "      background-color: #E2EBFA;\n",
              "      box-shadow: 0px 1px 2px rgba(60, 64, 67, 0.3), 0px 1px 3px 1px rgba(60, 64, 67, 0.15);\n",
              "      fill: #174EA6;\n",
              "    }\n",
              "\n",
              "    .colab-df-buttons div {\n",
              "      margin-bottom: 4px;\n",
              "    }\n",
              "\n",
              "    [theme=dark] .colab-df-convert {\n",
              "      background-color: #3B4455;\n",
              "      fill: #D2E3FC;\n",
              "    }\n",
              "\n",
              "    [theme=dark] .colab-df-convert:hover {\n",
              "      background-color: #434B5C;\n",
              "      box-shadow: 0px 1px 3px 1px rgba(0, 0, 0, 0.15);\n",
              "      filter: drop-shadow(0px 1px 2px rgba(0, 0, 0, 0.3));\n",
              "      fill: #FFFFFF;\n",
              "    }\n",
              "  </style>\n",
              "\n",
              "    <script>\n",
              "      const buttonEl =\n",
              "        document.querySelector('#df-f605223f-f809-4a04-87ca-947bfb61c175 button.colab-df-convert');\n",
              "      buttonEl.style.display =\n",
              "        google.colab.kernel.accessAllowed ? 'block' : 'none';\n",
              "\n",
              "      async function convertToInteractive(key) {\n",
              "        const element = document.querySelector('#df-f605223f-f809-4a04-87ca-947bfb61c175');\n",
              "        const dataTable =\n",
              "          await google.colab.kernel.invokeFunction('convertToInteractive',\n",
              "                                                    [key], {});\n",
              "        if (!dataTable) return;\n",
              "\n",
              "        const docLinkHtml = 'Like what you see? Visit the ' +\n",
              "          '<a target=\"_blank\" href=https://colab.research.google.com/notebooks/data_table.ipynb>data table notebook</a>'\n",
              "          + ' to learn more about interactive tables.';\n",
              "        element.innerHTML = '';\n",
              "        dataTable['output_type'] = 'display_data';\n",
              "        await google.colab.output.renderOutput(dataTable, element);\n",
              "        const docLink = document.createElement('div');\n",
              "        docLink.innerHTML = docLinkHtml;\n",
              "        element.appendChild(docLink);\n",
              "      }\n",
              "    </script>\n",
              "  </div>\n",
              "\n",
              "\n",
              "<div id=\"df-f8512e96-2c2f-4c63-86de-941023a996ae\">\n",
              "  <button class=\"colab-df-quickchart\" onclick=\"quickchart('df-f8512e96-2c2f-4c63-86de-941023a996ae')\"\n",
              "            title=\"Suggest charts\"\n",
              "            style=\"display:none;\">\n",
              "\n",
              "<svg xmlns=\"http://www.w3.org/2000/svg\" height=\"24px\"viewBox=\"0 0 24 24\"\n",
              "     width=\"24px\">\n",
              "    <g>\n",
              "        <path d=\"M19 3H5c-1.1 0-2 .9-2 2v14c0 1.1.9 2 2 2h14c1.1 0 2-.9 2-2V5c0-1.1-.9-2-2-2zM9 17H7v-7h2v7zm4 0h-2V7h2v10zm4 0h-2v-4h2v4z\"/>\n",
              "    </g>\n",
              "</svg>\n",
              "  </button>\n",
              "\n",
              "<style>\n",
              "  .colab-df-quickchart {\n",
              "      --bg-color: #E8F0FE;\n",
              "      --fill-color: #1967D2;\n",
              "      --hover-bg-color: #E2EBFA;\n",
              "      --hover-fill-color: #174EA6;\n",
              "      --disabled-fill-color: #AAA;\n",
              "      --disabled-bg-color: #DDD;\n",
              "  }\n",
              "\n",
              "  [theme=dark] .colab-df-quickchart {\n",
              "      --bg-color: #3B4455;\n",
              "      --fill-color: #D2E3FC;\n",
              "      --hover-bg-color: #434B5C;\n",
              "      --hover-fill-color: #FFFFFF;\n",
              "      --disabled-bg-color: #3B4455;\n",
              "      --disabled-fill-color: #666;\n",
              "  }\n",
              "\n",
              "  .colab-df-quickchart {\n",
              "    background-color: var(--bg-color);\n",
              "    border: none;\n",
              "    border-radius: 50%;\n",
              "    cursor: pointer;\n",
              "    display: none;\n",
              "    fill: var(--fill-color);\n",
              "    height: 32px;\n",
              "    padding: 0;\n",
              "    width: 32px;\n",
              "  }\n",
              "\n",
              "  .colab-df-quickchart:hover {\n",
              "    background-color: var(--hover-bg-color);\n",
              "    box-shadow: 0 1px 2px rgba(60, 64, 67, 0.3), 0 1px 3px 1px rgba(60, 64, 67, 0.15);\n",
              "    fill: var(--button-hover-fill-color);\n",
              "  }\n",
              "\n",
              "  .colab-df-quickchart-complete:disabled,\n",
              "  .colab-df-quickchart-complete:disabled:hover {\n",
              "    background-color: var(--disabled-bg-color);\n",
              "    fill: var(--disabled-fill-color);\n",
              "    box-shadow: none;\n",
              "  }\n",
              "\n",
              "  .colab-df-spinner {\n",
              "    border: 2px solid var(--fill-color);\n",
              "    border-color: transparent;\n",
              "    border-bottom-color: var(--fill-color);\n",
              "    animation:\n",
              "      spin 1s steps(1) infinite;\n",
              "  }\n",
              "\n",
              "  @keyframes spin {\n",
              "    0% {\n",
              "      border-color: transparent;\n",
              "      border-bottom-color: var(--fill-color);\n",
              "      border-left-color: var(--fill-color);\n",
              "    }\n",
              "    20% {\n",
              "      border-color: transparent;\n",
              "      border-left-color: var(--fill-color);\n",
              "      border-top-color: var(--fill-color);\n",
              "    }\n",
              "    30% {\n",
              "      border-color: transparent;\n",
              "      border-left-color: var(--fill-color);\n",
              "      border-top-color: var(--fill-color);\n",
              "      border-right-color: var(--fill-color);\n",
              "    }\n",
              "    40% {\n",
              "      border-color: transparent;\n",
              "      border-right-color: var(--fill-color);\n",
              "      border-top-color: var(--fill-color);\n",
              "    }\n",
              "    60% {\n",
              "      border-color: transparent;\n",
              "      border-right-color: var(--fill-color);\n",
              "    }\n",
              "    80% {\n",
              "      border-color: transparent;\n",
              "      border-right-color: var(--fill-color);\n",
              "      border-bottom-color: var(--fill-color);\n",
              "    }\n",
              "    90% {\n",
              "      border-color: transparent;\n",
              "      border-bottom-color: var(--fill-color);\n",
              "    }\n",
              "  }\n",
              "</style>\n",
              "\n",
              "  <script>\n",
              "    async function quickchart(key) {\n",
              "      const quickchartButtonEl =\n",
              "        document.querySelector('#' + key + ' button');\n",
              "      quickchartButtonEl.disabled = true;  // To prevent multiple clicks.\n",
              "      quickchartButtonEl.classList.add('colab-df-spinner');\n",
              "      try {\n",
              "        const charts = await google.colab.kernel.invokeFunction(\n",
              "            'suggestCharts', [key], {});\n",
              "      } catch (error) {\n",
              "        console.error('Error during call to suggestCharts:', error);\n",
              "      }\n",
              "      quickchartButtonEl.classList.remove('colab-df-spinner');\n",
              "      quickchartButtonEl.classList.add('colab-df-quickchart-complete');\n",
              "    }\n",
              "    (() => {\n",
              "      let quickchartButtonEl =\n",
              "        document.querySelector('#df-f8512e96-2c2f-4c63-86de-941023a996ae button');\n",
              "      quickchartButtonEl.style.display =\n",
              "        google.colab.kernel.accessAllowed ? 'block' : 'none';\n",
              "    })();\n",
              "  </script>\n",
              "</div>\n",
              "\n",
              "    </div>\n",
              "  </div>\n"
            ],
            "text/plain": [
              "        Time        V1        V2        V3        V4        V5        V6  \\\n",
              "53566  46047 -2.885416 -2.647887  1.903441  3.726885  3.800798 -1.644480   \n",
              "53567  46048  1.061410  0.045830  0.970401  1.102883 -0.490685  0.219968   \n",
              "53568  46048 -0.202740  0.295074  1.924698  1.009344 -0.235931 -0.272232   \n",
              "53569  46048 -0.730116  0.796820  2.122484 -1.318082  0.019762 -0.857857   \n",
              "53570  46050  0.791672 -0.522991  0.036747  1.204803 -0.262390 -0.056153   \n",
              "\n",
              "             V7        V8        V9  ...       V21       V22       V23  \\\n",
              "53566 -1.924198  0.707696 -1.070468  ...  0.284893 -0.268122  0.977417   \n",
              "53567 -0.424285  0.235960  0.016498  ...  0.033158  0.067127  0.053801   \n",
              "53568  0.261015 -0.162146 -0.583849  ...  0.321731  1.056540  0.093902   \n",
              "53569  0.975752 -0.399896  0.359189  ... -0.149736  0.093479 -0.056586   \n",
              "53570  0.263614 -0.130209  0.125423  ...  0.013131 -0.503993 -0.318508   \n",
              "\n",
              "            V24       V25       V26       V27       V28  Amount  Class  \n",
              "53566  0.136853 -1.144367 -0.535616  0.098494  0.305740   19.02      0  \n",
              "53567 -0.010221  0.209877 -0.484136  0.057583  0.028018   28.70      0  \n",
              "53568  0.608566 -0.931546  0.466156  0.016695 -0.024568   54.81      0  \n",
              "53569  0.650087 -0.473889  0.662115  0.060486 -0.208536    4.53      0  \n",
              "53570 -0.618493  0.463969 -0.444773 -0.013372  0.066450  258.83      0  \n",
              "\n",
              "[5 rows x 31 columns]"
            ]
          },
          "execution_count": 7,
          "metadata": {},
          "output_type": "execute_result"
        }
      ],
      "source": [
        "#Apercu des 5 dernieres lignes\n",
        "df.tail()"
      ]
    },
    {
      "cell_type": "code",
      "execution_count": null,
      "id": "3408e1ba",
      "metadata": {
        "colab": {
          "base_uri": "https://localhost:8080/"
        },
        "id": "3408e1ba",
        "outputId": "40cf1531-419c-48b5-da79-06310f89804a"
      },
      "outputs": [
        {
          "name": "stdout",
          "output_type": "stream",
          "text": [
            "Nombre de lignes: 53571\n",
            "Nombre de colonnes: 31\n"
          ]
        }
      ],
      "source": [
        "#les dimensions de la base\n",
        "print(f\"Nombre de lignes: {df.shape[0]}\")\n",
        "print(f\"Nombre de colonnes: {df.shape[1]}\")"
      ]
    },
    {
      "cell_type": "code",
      "execution_count": null,
      "id": "05461444",
      "metadata": {
        "id": "05461444"
      },
      "outputs": [],
      "source": [
        "#Definition d une fonction d'affichage\n",
        "def pourcentage(valeur):\n",
        "    return \"{:.1f}%\".format(valeur)"
      ]
    },
    {
      "cell_type": "code",
      "execution_count": null,
      "id": "2262aedc",
      "metadata": {
        "colab": {
          "base_uri": "https://localhost:8080/",
          "height": 444
        },
        "id": "2262aedc",
        "outputId": "250a7743-0150-4c36-ce19-276ad8fa0bf8"
      },
      "outputs": [
        {
          "data": {
            "image/png": "[encoded data removed]",
            "text/plain": [
              "<Figure size 800x500 with 1 Axes>"
            ]
          },
          "metadata": {},
          "output_type": "display_data"
        }
      ],
      "source": [
        "#variable class\n",
        "plt.figure(figsize= (8 ,5 ))\n",
        "#pour creer un diagramme circulaire\n",
        "plt.pie(df['Class'].value_counts(),\n",
        "    labels=df['Class'].value_counts().index,\n",
        "    autopct= pourcentage )\n",
        "plt.title ('Diagramme circulaire de la variable Class ')\n",
        "\n",
        "plt.show()"
      ]
    },
    {
      "cell_type": "code",
      "execution_count": null,
      "id": "9f2e2e8f",
      "metadata": {
        "colab": {
          "base_uri": "https://localhost:8080/",
          "height": 740
        },
        "id": "9f2e2e8f",
        "outputId": "aabe707b-2195-44b8-e52f-61588bdd7802"
      },
      "outputs": [
        {
          "data": {
            "image/png": "[encoded data removed]",
            "text/plain": [
              "<Figure size 1800x800 with 2 Axes>"
            ]
          },
          "metadata": {},
          "output_type": "display_data"
        }
      ],
      "source": [
        "#Correlation entre les variables\n",
        "f, ax = plt.subplots(figsize=(18,8))\n",
        "\n",
        "sub_sample_corr = df.corr()\n",
        "sns.heatmap(sub_sample_corr, cmap='coolwarm_r', annot_kws={'size':20}, ax=ax)\n",
        "ax.set_title('Matrice de correlation', fontsize=14)\n",
        "plt.show()"
      ]
    },
    {
      "cell_type": "code",
      "execution_count": null,
      "id": "f7cda2f8",
      "metadata": {
        "colab": {
          "base_uri": "https://localhost:8080/"
        },
        "id": "f7cda2f8",
        "outputId": "9db11faa-f2b1-4f3b-d769-7b23d4861466"
      },
      "outputs": [
        {
          "data": {
            "text/plain": [
              "Time        int32\n",
              "V1        float64\n",
              "V2        float64\n",
              "V3        float64\n",
              "V4        float64\n",
              "V5        float64\n",
              "V6        float64\n",
              "V7        float64\n",
              "V8        float64\n",
              "V9        float64\n",
              "V10       float64\n",
              "V11       float64\n",
              "V12       float64\n",
              "V13       float64\n",
              "V14       float64\n",
              "V15       float64\n",
              "V16       float64\n",
              "V17       float64\n",
              "V18       float64\n",
              "V19       float64\n",
              "V20       float64\n",
              "V21       float64\n",
              "V22       float64\n",
              "V23       float64\n",
              "V24       float64\n",
              "V25       float64\n",
              "V26       float64\n",
              "V27       float64\n",
              "V28       float64\n",
              "Amount    float64\n",
              "Class       int32\n",
              "dtype: object"
            ]
          },
          "execution_count": 12,
          "metadata": {},
          "output_type": "execute_result"
        }
      ],
      "source": [
        "#type de variable de la base\n",
        "df.dtypes"
      ]
    },
    {
      "cell_type": "code",
      "execution_count": null,
      "id": "80f3523f",
      "metadata": {
        "colab": {
          "base_uri": "https://localhost:8080/",
          "height": 311
        },
        "id": "80f3523f",
        "outputId": "64857fa6-524a-4e6d-8726-517e19208b49"
      },
      "outputs": [
        {
          "data": {
            "image/png": "[encoded data removed]",
            "text/plain": [
              "<Figure size 500x300 with 1 Axes>"
            ]
          },
          "metadata": {},
          "output_type": "display_data"
        }
      ],
      "source": [
        "#Boxplot variable age ( cest pr ls variables quantitattifs\n",
        "plt.figure(figsize= (5 ,3 ))\n",
        "sns.boxplot(data= df , x= \"Amount\", showmeans = True )\n",
        "plt.show()"
      ]
    },
    {
      "cell_type": "code",
      "execution_count": null,
      "id": "7b6bb95a",
      "metadata": {
        "colab": {
          "base_uri": "https://localhost:8080/",
          "height": 311
        },
        "id": "7b6bb95a",
        "outputId": "0d82a745-cd0f-4916-f9cc-7bd2f7dfadd0"
      },
      "outputs": [
        {
          "data": {
            "image/png": "[encoded data removed]",
            "text/plain": [
              "<Figure size 500x300 with 1 Axes>"
            ]
          },
          "metadata": {},
          "output_type": "display_data"
        }
      ],
      "source": [
        "#Boxplot variable V9\n",
        "plt.figure(figsize= (5 ,3 ))\n",
        "sns.boxplot(data= df , x= \"V9\", showmeans = True )\n",
        "plt.show()"
      ]
    },
    {
      "cell_type": "code",
      "execution_count": null,
      "id": "8df9f275",
      "metadata": {
        "colab": {
          "base_uri": "https://localhost:8080/",
          "height": 311
        },
        "id": "8df9f275",
        "outputId": "6bc1b0dc-0d6e-4433-cc57-dedbe4b27545"
      },
      "outputs": [
        {
          "data": {
            "image/png": "[encoded data removed]",
            "text/plain": [
              "<Figure size 500x300 with 1 Axes>"
            ]
          },
          "metadata": {},
          "output_type": "display_data"
        }
      ],
      "source": [
        "#Boxplot variable V28\n",
        "plt.figure(figsize= (5 ,3 ))\n",
        "sns.boxplot(data= df , x= \"V28\", showmeans = True )\n",
        "plt.show()"
      ]
    },
    {
      "cell_type": "code",
      "execution_count": null,
      "id": "06da2c02",
      "metadata": {
        "colab": {
          "base_uri": "https://localhost:8080/",
          "height": 311
        },
        "id": "06da2c02",
        "outputId": "8770b52f-c2d5-4206-8221-723c8feacd9c"
      },
      "outputs": [
        {
          "data": {
            "image/png": "[encoded data removed]",
            "text/plain": [
              "<Figure size 500x300 with 1 Axes>"
            ]
          },
          "metadata": {},
          "output_type": "display_data"
        }
      ],
      "source": [
        "#Boxplot variable V1\n",
        "plt.figure(figsize= (5 ,3 ))\n",
        "sns.boxplot(data= df , x= \"V1\", showmeans = True )\n",
        "plt.show()"
      ]
    },
    {
      "cell_type": "code",
      "execution_count": null,
      "id": "53db7164",
      "metadata": {
        "colab": {
          "base_uri": "https://localhost:8080/",
          "height": 34
        },
        "id": "53db7164",
        "outputId": "f7f4efb9-1071-41d1-eee4-415b4facb842"
      },
      "outputs": [
        {
          "data": {
            "text/plain": [
              "<Figure size 640x480 with 0 Axes>"
            ]
          },
          "metadata": {},
          "output_type": "display_data"
        }
      ],
      "source": [
        "plt.tight_layout()\n",
        "plt.show()"
      ]
    },
    {
      "cell_type": "code",
      "execution_count": null,
      "id": "4842e1ce",
      "metadata": {
        "colab": {
          "base_uri": "https://localhost:8080/",
          "height": 1000
        },
        "id": "4842e1ce",
        "outputId": "f35a6d7e-2723-4f3e-e690-7becb657bf58"
      },
      "outputs": [
        {
          "data": {
            "application/vnd.google.colaboratory.intrinsic+json": {
              "summary": "{\n  \"name\": \"df\",\n  \"rows\": 31,\n  \"fields\": [\n    {\n      \"column\": \"count\",\n      \"properties\": {\n        \"dtype\": \"number\",\n        \"std\": 0.0,\n        \"min\": 53571.0,\n        \"max\": 53571.0,\n        \"num_unique_values\": 1,\n        \"samples\": [\n          53571.0\n        ],\n        \"semantic_type\": \"\",\n        \"description\": \"\"\n      }\n    },\n    {\n      \"column\": \"mean\",\n      \"properties\": {\n        \"dtype\": \"number\",\n        \"std\": 5388.489299116488,\n        \"min\": -0.3034755175657384,\n        \"max\": 30004.86440424857,\n        \"num_unique_values\": 31,\n        \"samples\": [\n          0.003956939006649746\n        ],\n        \"semantic_type\": \"\",\n        \"description\": \"\"\n      }\n    },\n    {\n      \"column\": \"std\",\n      \"properties\": {\n        \"dtype\": \"number\",\n        \"std\": 2387.954317110541,\n        \"min\": 0.05336589869248036,\n        \"max\": 13302.545313209332,\n        \"num_unique_values\": 31,\n        \"samples\": [\n          0.3884235952766703\n        ],\n        \"semantic_type\": \"\",\n        \"description\": \"\"\n      }\n    },\n    {\n      \"column\": \"min\",\n      \"properties\": {\n        \"dtype\": \"number\",\n        \"std\": 17.329165257087112,\n        \"min\": -72.7157275629303,\n        \"max\": 0.0,\n        \"num_unique_values\": 29,\n        \"samples\": [\n          -8.56763773820185\n        ],\n        \"semantic_type\": \"\",\n        \"description\": \"\"\n      }\n    },\n    {\n      \"column\": \"25%\",\n      \"properties\": {\n        \"dtype\": \"number\",\n        \"std\": 4250.11648610453,\n        \"min\": -0.9942629961186684,\n        \"max\": 23663.5,\n        \"num_unique_values\": 31,\n        \"samples\": [\n          -0.0636451942993934\n        ],\n        \"semantic_type\": \"\",\n        \"description\": \"\"\n      }\n    },\n    {\n      \"column\": \"50%\",\n      \"properties\": {\n        \"dtype\": \"number\",\n        \"std\": 6151.504457830389,\n        \"min\": -0.290113141018819,\n        \"max\": 34251.0,\n        \"num_unique_values\": 31,\n        \"samples\": [\n          0.00884875157679817\n        ],\n        \"semantic_type\": \"\",\n        \"description\": \"\"\n      }\n    },\n    {\n      \"column\": \"75%\",\n      \"properties\": {\n        \"dtype\": \"number\",\n        \"std\": 7206.428485846102,\n        \"min\": 0.0,\n        \"max\": 40127.0,\n        \"num_unique_values\": 31,\n        \"samples\": [\n          0.083069547762723\n        ],\n        \"semantic_type\": \"\",\n        \"description\": \"\"\n      }\n    },\n    {\n      \"column\": \"max\",\n      \"properties\": {\n        \"dtype\": \"number\",\n        \"std\": 8512.250991339155,\n        \"min\": 1.0,\n        \"max\": 46050.0,\n        \"num_unique_values\": 31,\n        \"samples\": [\n          11.1357398445742\n        ],\n        \"semantic_type\": \"\",\n        \"description\": \"\"\n      }\n    }\n  ]\n}",
              "type": "dataframe"
            },
            "text/html": [
              "\n",
              "  <div id=\"df-02412c44-31c8-4a37-8726-ba4cf06bcd7b\" class=\"colab-df-container\">\n",
              "    <div>\n",
              "<style scoped>\n",
              "    .dataframe tbody tr th:only-of-type {\n",
              "        vertical-align: middle;\n",
              "    }\n",
              "\n",
              "    .dataframe tbody tr th {\n",
              "        vertical-align: top;\n",
              "    }\n",
              "\n",
              "    .dataframe thead th {\n",
              "        text-align: right;\n",
              "    }\n",
              "</style>\n",
              "<table border=\"1\" class=\"dataframe\">\n",
              "  <thead>\n",
              "    <tr style=\"text-align: right;\">\n",
              "      <th></th>\n",
              "      <th>count</th>\n",
              "      <th>mean</th>\n",
              "      <th>std</th>\n",
              "      <th>min</th>\n",
              "      <th>25%</th>\n",
              "      <th>50%</th>\n",
              "      <th>75%</th>\n",
              "      <th>max</th>\n",
              "    </tr>\n",
              "  </thead>\n",
              "  <tbody>\n",
              "    <tr>\n",
              "      <th>Time</th>\n",
              "      <td>53571.0</td>\n",
              "      <td>30004.864404</td>\n",
              "      <td>13302.545313</td>\n",
              "      <td>0.000000</td>\n",
              "      <td>23663.500000</td>\n",
              "      <td>34251.000000</td>\n",
              "      <td>40127.000000</td>\n",
              "      <td>46050.000000</td>\n",
              "    </tr>\n",
              "    <tr>\n",
              "      <th>V1</th>\n",
              "      <td>53571.0</td>\n",
              "      <td>-0.243182</td>\n",
              "      <td>1.879598</td>\n",
              "      <td>-56.407510</td>\n",
              "      <td>-0.994263</td>\n",
              "      <td>-0.249472</td>\n",
              "      <td>1.154647</td>\n",
              "      <td>1.960497</td>\n",
              "    </tr>\n",
              "    <tr>\n",
              "      <th>V2</th>\n",
              "      <td>53571.0</td>\n",
              "      <td>0.000586</td>\n",
              "      <td>1.639428</td>\n",
              "      <td>-72.715728</td>\n",
              "      <td>-0.573628</td>\n",
              "      <td>0.078153</td>\n",
              "      <td>0.732455</td>\n",
              "      <td>18.183626</td>\n",
              "    </tr>\n",
              "    <tr>\n",
              "      <th>V3</th>\n",
              "      <td>53571.0</td>\n",
              "      <td>0.691588</td>\n",
              "      <td>1.483708</td>\n",
              "      <td>-32.965346</td>\n",
              "      <td>0.212411</td>\n",
              "      <td>0.790661</td>\n",
              "      <td>1.424778</td>\n",
              "      <td>4.101716</td>\n",
              "    </tr>\n",
              "    <tr>\n",
              "      <th>V4</th>\n",
              "      <td>53571.0</td>\n",
              "      <td>0.179664</td>\n",
              "      <td>1.393856</td>\n",
              "      <td>-5.172595</td>\n",
              "      <td>-0.724005</td>\n",
              "      <td>0.189575</td>\n",
              "      <td>1.061933</td>\n",
              "      <td>16.491217</td>\n",
              "    </tr>\n",
              "    <tr>\n",
              "      <th>V5</th>\n",
              "      <td>53571.0</td>\n",
              "      <td>-0.257872</td>\n",
              "      <td>1.411097</td>\n",
              "      <td>-42.147898</td>\n",
              "      <td>-0.873897</td>\n",
              "      <td>-0.290113</td>\n",
              "      <td>0.281788</td>\n",
              "      <td>34.801666</td>\n",
              "    </tr>\n",
              "    <tr>\n",
              "      <th>V6</th>\n",
              "      <td>53571.0</td>\n",
              "      <td>0.102917</td>\n",
              "      <td>1.313136</td>\n",
              "      <td>-26.160506</td>\n",
              "      <td>-0.636806</td>\n",
              "      <td>-0.152437</td>\n",
              "      <td>0.493733</td>\n",
              "      <td>22.529298</td>\n",
              "    </tr>\n",
              "    <tr>\n",
              "      <th>V7</th>\n",
              "      <td>53571.0</td>\n",
              "      <td>-0.119311</td>\n",
              "      <td>1.271570</td>\n",
              "      <td>-26.548144</td>\n",
              "      <td>-0.606014</td>\n",
              "      <td>-0.075304</td>\n",
              "      <td>0.425496</td>\n",
              "      <td>36.677268</td>\n",
              "    </tr>\n",
              "    <tr>\n",
              "      <th>V8</th>\n",
              "      <td>53571.0</td>\n",
              "      <td>0.052872</td>\n",
              "      <td>1.214929</td>\n",
              "      <td>-41.484823</td>\n",
              "      <td>-0.147112</td>\n",
              "      <td>0.058859</td>\n",
              "      <td>0.333521</td>\n",
              "      <td>20.007208</td>\n",
              "    </tr>\n",
              "    <tr>\n",
              "      <th>V9</th>\n",
              "      <td>53571.0</td>\n",
              "      <td>0.094530</td>\n",
              "      <td>1.201748</td>\n",
              "      <td>-9.283925</td>\n",
              "      <td>-0.630279</td>\n",
              "      <td>-0.012999</td>\n",
              "      <td>0.780864</td>\n",
              "      <td>10.392889</td>\n",
              "    </tr>\n",
              "    <tr>\n",
              "      <th>V10</th>\n",
              "      <td>53571.0</td>\n",
              "      <td>-0.051864</td>\n",
              "      <td>1.129147</td>\n",
              "      <td>-18.271168</td>\n",
              "      <td>-0.526997</td>\n",
              "      <td>-0.109264</td>\n",
              "      <td>0.420559</td>\n",
              "      <td>13.198226</td>\n",
              "    </tr>\n",
              "    <tr>\n",
              "      <th>V11</th>\n",
              "      <td>53571.0</td>\n",
              "      <td>0.352377</td>\n",
              "      <td>1.113866</td>\n",
              "      <td>-4.049895</td>\n",
              "      <td>-0.453115</td>\n",
              "      <td>0.307122</td>\n",
              "      <td>1.148225</td>\n",
              "      <td>12.018913</td>\n",
              "    </tr>\n",
              "    <tr>\n",
              "      <th>V12</th>\n",
              "      <td>53571.0</td>\n",
              "      <td>-0.303476</td>\n",
              "      <td>1.312154</td>\n",
              "      <td>-17.769143</td>\n",
              "      <td>-0.854293</td>\n",
              "      <td>-0.007605</td>\n",
              "      <td>0.553290</td>\n",
              "      <td>4.846452</td>\n",
              "    </tr>\n",
              "    <tr>\n",
              "      <th>V13</th>\n",
              "      <td>53571.0</td>\n",
              "      <td>0.145025</td>\n",
              "      <td>1.108345</td>\n",
              "      <td>-3.844974</td>\n",
              "      <td>-0.594226</td>\n",
              "      <td>0.091540</td>\n",
              "      <td>0.853701</td>\n",
              "      <td>4.465413</td>\n",
              "    </tr>\n",
              "    <tr>\n",
              "      <th>V14</th>\n",
              "      <td>53571.0</td>\n",
              "      <td>0.149372</td>\n",
              "      <td>1.107033</td>\n",
              "      <td>-19.214325</td>\n",
              "      <td>-0.308526</td>\n",
              "      <td>0.132290</td>\n",
              "      <td>0.637535</td>\n",
              "      <td>7.692209</td>\n",
              "    </tr>\n",
              "    <tr>\n",
              "      <th>V15</th>\n",
              "      <td>53571.0</td>\n",
              "      <td>0.130091</td>\n",
              "      <td>0.947138</td>\n",
              "      <td>-4.152532</td>\n",
              "      <td>-0.428592</td>\n",
              "      <td>0.244982</td>\n",
              "      <td>0.807796</td>\n",
              "      <td>5.784514</td>\n",
              "    </tr>\n",
              "    <tr>\n",
              "      <th>V16</th>\n",
              "      <td>53571.0</td>\n",
              "      <td>-0.014687</td>\n",
              "      <td>0.945892</td>\n",
              "      <td>-13.563273</td>\n",
              "      <td>-0.498352</td>\n",
              "      <td>0.054561</td>\n",
              "      <td>0.547007</td>\n",
              "      <td>6.098529</td>\n",
              "    </tr>\n",
              "    <tr>\n",
              "      <th>V17</th>\n",
              "      <td>53571.0</td>\n",
              "      <td>0.108760</td>\n",
              "      <td>1.091752</td>\n",
              "      <td>-25.162799</td>\n",
              "      <td>-0.365463</td>\n",
              "      <td>0.053942</td>\n",
              "      <td>0.531083</td>\n",
              "      <td>9.253526</td>\n",
              "    </tr>\n",
              "    <tr>\n",
              "      <th>V18</th>\n",
              "      <td>53571.0</td>\n",
              "      <td>-0.093548</td>\n",
              "      <td>0.871665</td>\n",
              "      <td>-9.498746</td>\n",
              "      <td>-0.568996</td>\n",
              "      <td>-0.078205</td>\n",
              "      <td>0.400954</td>\n",
              "      <td>4.295648</td>\n",
              "    </tr>\n",
              "    <tr>\n",
              "      <th>V19</th>\n",
              "      <td>53571.0</td>\n",
              "      <td>-0.027772</td>\n",
              "      <td>0.819073</td>\n",
              "      <td>-4.932733</td>\n",
              "      <td>-0.521609</td>\n",
              "      <td>-0.032667</td>\n",
              "      <td>0.480412</td>\n",
              "      <td>5.228342</td>\n",
              "    </tr>\n",
              "    <tr>\n",
              "      <th>V20</th>\n",
              "      <td>53571.0</td>\n",
              "      <td>0.047428</td>\n",
              "      <td>0.727521</td>\n",
              "      <td>-15.806476</td>\n",
              "      <td>-0.165674</td>\n",
              "      <td>-0.022413</td>\n",
              "      <td>0.173132</td>\n",
              "      <td>26.237391</td>\n",
              "    </tr>\n",
              "    <tr>\n",
              "      <th>V21</th>\n",
              "      <td>53571.0</td>\n",
              "      <td>-0.028932</td>\n",
              "      <td>0.731807</td>\n",
              "      <td>-20.262054</td>\n",
              "      <td>-0.230582</td>\n",
              "      <td>-0.066124</td>\n",
              "      <td>0.110098</td>\n",
              "      <td>22.614889</td>\n",
              "    </tr>\n",
              "    <tr>\n",
              "      <th>V22</th>\n",
              "      <td>53571.0</td>\n",
              "      <td>-0.106723</td>\n",
              "      <td>0.636941</td>\n",
              "      <td>-8.593642</td>\n",
              "      <td>-0.528974</td>\n",
              "      <td>-0.082432</td>\n",
              "      <td>0.307953</td>\n",
              "      <td>5.805795</td>\n",
              "    </tr>\n",
              "    <tr>\n",
              "      <th>V23</th>\n",
              "      <td>53571.0</td>\n",
              "      <td>-0.039096</td>\n",
              "      <td>0.593269</td>\n",
              "      <td>-26.751119</td>\n",
              "      <td>-0.179416</td>\n",
              "      <td>-0.051737</td>\n",
              "      <td>0.079099</td>\n",
              "      <td>17.297845</td>\n",
              "    </tr>\n",
              "    <tr>\n",
              "      <th>V24</th>\n",
              "      <td>53571.0</td>\n",
              "      <td>0.007818</td>\n",
              "      <td>0.596081</td>\n",
              "      <td>-2.836627</td>\n",
              "      <td>-0.322741</td>\n",
              "      <td>0.062415</td>\n",
              "      <td>0.401966</td>\n",
              "      <td>4.014444</td>\n",
              "    </tr>\n",
              "    <tr>\n",
              "      <th>V25</th>\n",
              "      <td>53571.0</td>\n",
              "      <td>0.135102</td>\n",
              "      <td>0.438588</td>\n",
              "      <td>-7.495741</td>\n",
              "      <td>-0.128327</td>\n",
              "      <td>0.174392</td>\n",
              "      <td>0.421212</td>\n",
              "      <td>5.525093</td>\n",
              "    </tr>\n",
              "    <tr>\n",
              "      <th>V26</th>\n",
              "      <td>53571.0</td>\n",
              "      <td>0.020149</td>\n",
              "      <td>0.500091</td>\n",
              "      <td>-1.577118</td>\n",
              "      <td>-0.330575</td>\n",
              "      <td>-0.073709</td>\n",
              "      <td>0.298540</td>\n",
              "      <td>3.517346</td>\n",
              "    </tr>\n",
              "    <tr>\n",
              "      <th>V27</th>\n",
              "      <td>53571.0</td>\n",
              "      <td>0.003957</td>\n",
              "      <td>0.388424</td>\n",
              "      <td>-8.567638</td>\n",
              "      <td>-0.063645</td>\n",
              "      <td>0.008849</td>\n",
              "      <td>0.083070</td>\n",
              "      <td>11.135740</td>\n",
              "    </tr>\n",
              "    <tr>\n",
              "      <th>V28</th>\n",
              "      <td>53571.0</td>\n",
              "      <td>0.003973</td>\n",
              "      <td>0.329535</td>\n",
              "      <td>-9.617915</td>\n",
              "      <td>-0.006588</td>\n",
              "      <td>0.022407</td>\n",
              "      <td>0.076497</td>\n",
              "      <td>33.847808</td>\n",
              "    </tr>\n",
              "    <tr>\n",
              "      <th>Amount</th>\n",
              "      <td>53571.0</td>\n",
              "      <td>94.263942</td>\n",
              "      <td>252.289492</td>\n",
              "      <td>0.000000</td>\n",
              "      <td>7.680000</td>\n",
              "      <td>25.500000</td>\n",
              "      <td>86.895000</td>\n",
              "      <td>12910.930000</td>\n",
              "    </tr>\n",
              "    <tr>\n",
              "      <th>Class</th>\n",
              "      <td>53571.0</td>\n",
              "      <td>0.002856</td>\n",
              "      <td>0.053366</td>\n",
              "      <td>0.000000</td>\n",
              "      <td>0.000000</td>\n",
              "      <td>0.000000</td>\n",
              "      <td>0.000000</td>\n",
              "      <td>1.000000</td>\n",
              "    </tr>\n",
              "  </tbody>\n",
              "</table>\n",
              "</div>\n",
              "    <div class=\"colab-df-buttons\">\n",
              "\n",
              "  <div class=\"colab-df-container\">\n",
              "    <button class=\"colab-df-convert\" onclick=\"convertToInteractive('df-02412c44-31c8-4a37-8726-ba4cf06bcd7b')\"\n",
              "            title=\"Convert this dataframe to an interactive table.\"\n",
              "            style=\"display:none;\">\n",
              "\n",
              "  <svg xmlns=\"http://www.w3.org/2000/svg\" height=\"24px\" viewBox=\"0 -960 960 960\">\n",
              "    <path d=\"M120-120v-720h720v720H120Zm60-500h600v-160H180v160Zm220 220h160v-160H400v160Zm0 220h160v-160H400v160ZM180-400h160v-160H180v160Zm440 0h160v-160H620v160ZM180-180h160v-160H180v160Zm440 0h160v-160H620v160Z\"/>\n",
              "  </svg>\n",
              "    </button>\n",
              "\n",
              "  <style>\n",
              "    .colab-df-container {\n",
              "      display:flex;\n",
              "      gap: 12px;\n",
              "    }\n",
              "\n",
              "    .colab-df-convert {\n",
              "      background-color: #E8F0FE;\n",
              "      border: none;\n",
              "      border-radius: 50%;\n",
              "      cursor: pointer;\n",
              "      display: none;\n",
              "      fill: #1967D2;\n",
              "      height: 32px;\n",
              "      padding: 0 0 0 0;\n",
              "      width: 32px;\n",
              "    }\n",
              "\n",
              "    .colab-df-convert:hover {\n",
              "      background-color: #E2EBFA;\n",
              "      box-shadow: 0px 1px 2px rgba(60, 64, 67, 0.3), 0px 1px 3px 1px rgba(60, 64, 67, 0.15);\n",
              "      fill: #174EA6;\n",
              "    }\n",
              "\n",
              "    .colab-df-buttons div {\n",
              "      margin-bottom: 4px;\n",
              "    }\n",
              "\n",
              "    [theme=dark] .colab-df-convert {\n",
              "      background-color: #3B4455;\n",
              "      fill: #D2E3FC;\n",
              "    }\n",
              "\n",
              "    [theme=dark] .colab-df-convert:hover {\n",
              "      background-color: #434B5C;\n",
              "      box-shadow: 0px 1px 3px 1px rgba(0, 0, 0, 0.15);\n",
              "      filter: drop-shadow(0px 1px 2px rgba(0, 0, 0, 0.3));\n",
              "      fill: #FFFFFF;\n",
              "    }\n",
              "  </style>\n",
              "\n",
              "    <script>\n",
              "      const buttonEl =\n",
              "        document.querySelector('#df-02412c44-31c8-4a37-8726-ba4cf06bcd7b button.colab-df-convert');\n",
              "      buttonEl.style.display =\n",
              "        google.colab.kernel.accessAllowed ? 'block' : 'none';\n",
              "\n",
              "      async function convertToInteractive(key) {\n",
              "        const element = document.querySelector('#df-02412c44-31c8-4a37-8726-ba4cf06bcd7b');\n",
              "        const dataTable =\n",
              "          await google.colab.kernel.invokeFunction('convertToInteractive',\n",
              "                                                    [key], {});\n",
              "        if (!dataTable) return;\n",
              "\n",
              "        const docLinkHtml = 'Like what you see? Visit the ' +\n",
              "          '<a target=\"_blank\" href=https://colab.research.google.com/notebooks/data_table.ipynb>data table notebook</a>'\n",
              "          + ' to learn more about interactive tables.';\n",
              "        element.innerHTML = '';\n",
              "        dataTable['output_type'] = 'display_data';\n",
              "        await google.colab.output.renderOutput(dataTable, element);\n",
              "        const docLink = document.createElement('div');\n",
              "        docLink.innerHTML = docLinkHtml;\n",
              "        element.appendChild(docLink);\n",
              "      }\n",
              "    </script>\n",
              "  </div>\n",
              "\n",
              "\n",
              "<div id=\"df-b1c64522-4227-4192-98c6-020d63da161f\">\n",
              "  <button class=\"colab-df-quickchart\" onclick=\"quickchart('df-b1c64522-4227-4192-98c6-020d63da161f')\"\n",
              "            title=\"Suggest charts\"\n",
              "            style=\"display:none;\">\n",
              "\n",
              "<svg xmlns=\"http://www.w3.org/2000/svg\" height=\"24px\"viewBox=\"0 0 24 24\"\n",
              "     width=\"24px\">\n",
              "    <g>\n",
              "        <path d=\"M19 3H5c-1.1 0-2 .9-2 2v14c0 1.1.9 2 2 2h14c1.1 0 2-.9 2-2V5c0-1.1-.9-2-2-2zM9 17H7v-7h2v7zm4 0h-2V7h2v10zm4 0h-2v-4h2v4z\"/>\n",
              "    </g>\n",
              "</svg>\n",
              "  </button>\n",
              "\n",
              "<style>\n",
              "  .colab-df-quickchart {\n",
              "      --bg-color: #E8F0FE;\n",
              "      --fill-color: #1967D2;\n",
              "      --hover-bg-color: #E2EBFA;\n",
              "      --hover-fill-color: #174EA6;\n",
              "      --disabled-fill-color: #AAA;\n",
              "      --disabled-bg-color: #DDD;\n",
              "  }\n",
              "\n",
              "  [theme=dark] .colab-df-quickchart {\n",
              "      --bg-color: #3B4455;\n",
              "      --fill-color: #D2E3FC;\n",
              "      --hover-bg-color: #434B5C;\n",
              "      --hover-fill-color: #FFFFFF;\n",
              "      --disabled-bg-color: #3B4455;\n",
              "      --disabled-fill-color: #666;\n",
              "  }\n",
              "\n",
              "  .colab-df-quickchart {\n",
              "    background-color: var(--bg-color);\n",
              "    border: none;\n",
              "    border-radius: 50%;\n",
              "    cursor: pointer;\n",
              "    display: none;\n",
              "    fill: var(--fill-color);\n",
              "    height: 32px;\n",
              "    padding: 0;\n",
              "    width: 32px;\n",
              "  }\n",
              "\n",
              "  .colab-df-quickchart:hover {\n",
              "    background-color: var(--hover-bg-color);\n",
              "    box-shadow: 0 1px 2px rgba(60, 64, 67, 0.3), 0 1px 3px 1px rgba(60, 64, 67, 0.15);\n",
              "    fill: var(--button-hover-fill-color);\n",
              "  }\n",
              "\n",
              "  .colab-df-quickchart-complete:disabled,\n",
              "  .colab-df-quickchart-complete:disabled:hover {\n",
              "    background-color: var(--disabled-bg-color);\n",
              "    fill: var(--disabled-fill-color);\n",
              "    box-shadow: none;\n",
              "  }\n",
              "\n",
              "  .colab-df-spinner {\n",
              "    border: 2px solid var(--fill-color);\n",
              "    border-color: transparent;\n",
              "    border-bottom-color: var(--fill-color);\n",
              "    animation:\n",
              "      spin 1s steps(1) infinite;\n",
              "  }\n",
              "\n",
              "  @keyframes spin {\n",
              "    0% {\n",
              "      border-color: transparent;\n",
              "      border-bottom-color: var(--fill-color);\n",
              "      border-left-color: var(--fill-color);\n",
              "    }\n",
              "    20% {\n",
              "      border-color: transparent;\n",
              "      border-left-color: var(--fill-color);\n",
              "      border-top-color: var(--fill-color);\n",
              "    }\n",
              "    30% {\n",
              "      border-color: transparent;\n",
              "      border-left-color: var(--fill-color);\n",
              "      border-top-color: var(--fill-color);\n",
              "      border-right-color: var(--fill-color);\n",
              "    }\n",
              "    40% {\n",
              "      border-color: transparent;\n",
              "      border-right-color: var(--fill-color);\n",
              "      border-top-color: var(--fill-color);\n",
              "    }\n",
              "    60% {\n",
              "      border-color: transparent;\n",
              "      border-right-color: var(--fill-color);\n",
              "    }\n",
              "    80% {\n",
              "      border-color: transparent;\n",
              "      border-right-color: var(--fill-color);\n",
              "      border-bottom-color: var(--fill-color);\n",
              "    }\n",
              "    90% {\n",
              "      border-color: transparent;\n",
              "      border-bottom-color: var(--fill-color);\n",
              "    }\n",
              "  }\n",
              "</style>\n",
              "\n",
              "  <script>\n",
              "    async function quickchart(key) {\n",
              "      const quickchartButtonEl =\n",
              "        document.querySelector('#' + key + ' button');\n",
              "      quickchartButtonEl.disabled = true;  // To prevent multiple clicks.\n",
              "      quickchartButtonEl.classList.add('colab-df-spinner');\n",
              "      try {\n",
              "        const charts = await google.colab.kernel.invokeFunction(\n",
              "            'suggestCharts', [key], {});\n",
              "      } catch (error) {\n",
              "        console.error('Error during call to suggestCharts:', error);\n",
              "      }\n",
              "      quickchartButtonEl.classList.remove('colab-df-spinner');\n",
              "      quickchartButtonEl.classList.add('colab-df-quickchart-complete');\n",
              "    }\n",
              "    (() => {\n",
              "      let quickchartButtonEl =\n",
              "        document.querySelector('#df-b1c64522-4227-4192-98c6-020d63da161f button');\n",
              "      quickchartButtonEl.style.display =\n",
              "        google.colab.kernel.accessAllowed ? 'block' : 'none';\n",
              "    })();\n",
              "  </script>\n",
              "</div>\n",
              "\n",
              "    </div>\n",
              "  </div>\n"
            ],
            "text/plain": [
              "          count          mean           std        min           25%  \\\n",
              "Time    53571.0  30004.864404  13302.545313   0.000000  23663.500000   \n",
              "V1      53571.0     -0.243182      1.879598 -56.407510     -0.994263   \n",
              "V2      53571.0      0.000586      1.639428 -72.715728     -0.573628   \n",
              "V3      53571.0      0.691588      1.483708 -32.965346      0.212411   \n",
              "V4      53571.0      0.179664      1.393856  -5.172595     -0.724005   \n",
              "V5      53571.0     -0.257872      1.411097 -42.147898     -0.873897   \n",
              "V6      53571.0      0.102917      1.313136 -26.160506     -0.636806   \n",
              "V7      53571.0     -0.119311      1.271570 -26.548144     -0.606014   \n",
              "V8      53571.0      0.052872      1.214929 -41.484823     -0.147112   \n",
              "V9      53571.0      0.094530      1.201748  -9.283925     -0.630279   \n",
              "V10     53571.0     -0.051864      1.129147 -18.271168     -0.526997   \n",
              "V11     53571.0      0.352377      1.113866  -4.049895     -0.453115   \n",
              "V12     53571.0     -0.303476      1.312154 -17.769143     -0.854293   \n",
              "V13     53571.0      0.145025      1.108345  -3.844974     -0.594226   \n",
              "V14     53571.0      0.149372      1.107033 -19.214325     -0.308526   \n",
              "V15     53571.0      0.130091      0.947138  -4.152532     -0.428592   \n",
              "V16     53571.0     -0.014687      0.945892 -13.563273     -0.498352   \n",
              "V17     53571.0      0.108760      1.091752 -25.162799     -0.365463   \n",
              "V18     53571.0     -0.093548      0.871665  -9.498746     -0.568996   \n",
              "V19     53571.0     -0.027772      0.819073  -4.932733     -0.521609   \n",
              "V20     53571.0      0.047428      0.727521 -15.806476     -0.165674   \n",
              "V21     53571.0     -0.028932      0.731807 -20.262054     -0.230582   \n",
              "V22     53571.0     -0.106723      0.636941  -8.593642     -0.528974   \n",
              "V23     53571.0     -0.039096      0.593269 -26.751119     -0.179416   \n",
              "V24     53571.0      0.007818      0.596081  -2.836627     -0.322741   \n",
              "V25     53571.0      0.135102      0.438588  -7.495741     -0.128327   \n",
              "V26     53571.0      0.020149      0.500091  -1.577118     -0.330575   \n",
              "V27     53571.0      0.003957      0.388424  -8.567638     -0.063645   \n",
              "V28     53571.0      0.003973      0.329535  -9.617915     -0.006588   \n",
              "Amount  53571.0     94.263942    252.289492   0.000000      7.680000   \n",
              "Class   53571.0      0.002856      0.053366   0.000000      0.000000   \n",
              "\n",
              "                 50%           75%           max  \n",
              "Time    34251.000000  40127.000000  46050.000000  \n",
              "V1         -0.249472      1.154647      1.960497  \n",
              "V2          0.078153      0.732455     18.183626  \n",
              "V3          0.790661      1.424778      4.101716  \n",
              "V4          0.189575      1.061933     16.491217  \n",
              "V5         -0.290113      0.281788     34.801666  \n",
              "V6         -0.152437      0.493733     22.529298  \n",
              "V7         -0.075304      0.425496     36.677268  \n",
              "V8          0.058859      0.333521     20.007208  \n",
              "V9         -0.012999      0.780864     10.392889  \n",
              "V10        -0.109264      0.420559     13.198226  \n",
              "V11         0.307122      1.148225     12.018913  \n",
              "V12        -0.007605      0.553290      4.846452  \n",
              "V13         0.091540      0.853701      4.465413  \n",
              "V14         0.132290      0.637535      7.692209  \n",
              "V15         0.244982      0.807796      5.784514  \n",
              "V16         0.054561      0.547007      6.098529  \n",
              "V17         0.053942      0.531083      9.253526  \n",
              "V18        -0.078205      0.400954      4.295648  \n",
              "V19        -0.032667      0.480412      5.228342  \n",
              "V20        -0.022413      0.173132     26.237391  \n",
              "V21        -0.066124      0.110098     22.614889  \n",
              "V22        -0.082432      0.307953      5.805795  \n",
              "V23        -0.051737      0.079099     17.297845  \n",
              "V24         0.062415      0.401966      4.014444  \n",
              "V25         0.174392      0.421212      5.525093  \n",
              "V26        -0.073709      0.298540      3.517346  \n",
              "V27         0.008849      0.083070     11.135740  \n",
              "V28         0.022407      0.076497     33.847808  \n",
              "Amount     25.500000     86.895000  12910.930000  \n",
              "Class       0.000000      0.000000      1.000000  "
            ]
          },
          "execution_count": 18,
          "metadata": {},
          "output_type": "execute_result"
        }
      ],
      "source": [
        "df.describe().T"
      ]
    },
    {
      "cell_type": "markdown",
      "id": "0844e945",
      "metadata": {
        "id": "0844e945"
      },
      "source": [
        "### En résumé notre exploration de la base de donnees nous a permis de savoir que sur 100% seul 0,2% contiennent des donnees frauduleuses. Pour ne pas que notre modele soit mauvais , nous avons faire recours a d autres alternatives avant l'entrainement de nos donnees."
      ]
    },
    {
      "cell_type": "markdown",
      "id": "5709637f",
      "metadata": {
        "id": "5709637f"
      },
      "source": [
        "## Préparation des données"
      ]
    },
    {
      "cell_type": "code",
      "execution_count": null,
      "id": "7dcba3d3",
      "metadata": {
        "id": "7dcba3d3"
      },
      "outputs": [],
      "source": [
        "#Copie de la base de donnees\n",
        "data = df.copy()"
      ]
    },
    {
      "cell_type": "code",
      "execution_count": null,
      "id": "82a6cc60",
      "metadata": {
        "colab": {
          "base_uri": "https://localhost:8080/"
        },
        "id": "82a6cc60",
        "outputId": "2f31c86d-87f6-48d2-96eb-6098f70dfb73"
      },
      "outputs": [
        {
          "data": {
            "text/plain": [
              "Time      0\n",
              "V1        0\n",
              "V2        0\n",
              "V3        0\n",
              "V4        0\n",
              "V5        0\n",
              "V6        0\n",
              "V7        0\n",
              "V8        0\n",
              "V9        0\n",
              "V10       0\n",
              "V11       0\n",
              "V12       0\n",
              "V13       0\n",
              "V14       0\n",
              "V15       0\n",
              "V16       0\n",
              "V17       0\n",
              "V18       0\n",
              "V19       0\n",
              "V20       0\n",
              "V21       0\n",
              "V22       0\n",
              "V23       0\n",
              "V24       0\n",
              "V25       0\n",
              "V26       0\n",
              "V27       0\n",
              "V28       0\n",
              "Amount    0\n",
              "Class     0\n",
              "dtype: int64"
            ]
          },
          "execution_count": 20,
          "metadata": {},
          "output_type": "execute_result"
        }
      ],
      "source": [
        "#Donnees manquantes\n",
        "data.isna().sum()"
      ]
    },
    {
      "cell_type": "code",
      "execution_count": null,
      "id": "a18335a1",
      "metadata": {
        "colab": {
          "base_uri": "https://localhost:8080/"
        },
        "id": "a18335a1",
        "outputId": "3f1414c4-72e7-451f-d605-7ba8e635f150"
      },
      "outputs": [
        {
          "data": {
            "text/plain": [
              "Time        int32\n",
              "V1        float64\n",
              "V2        float64\n",
              "V3        float64\n",
              "V4        float64\n",
              "V5        float64\n",
              "V6        float64\n",
              "V7        float64\n",
              "V8        float64\n",
              "V9        float64\n",
              "V10       float64\n",
              "V11       float64\n",
              "V12       float64\n",
              "V13       float64\n",
              "V14       float64\n",
              "V15       float64\n",
              "V16       float64\n",
              "V17       float64\n",
              "V18       float64\n",
              "V19       float64\n",
              "V20       float64\n",
              "V21       float64\n",
              "V22       float64\n",
              "V23       float64\n",
              "V24       float64\n",
              "V25       float64\n",
              "V26       float64\n",
              "V27       float64\n",
              "V28       float64\n",
              "Amount    float64\n",
              "Class       int32\n",
              "dtype: object"
            ]
          },
          "execution_count": 21,
          "metadata": {},
          "output_type": "execute_result"
        }
      ],
      "source": [
        "data.dtypes"
      ]
    },
    {
      "cell_type": "code",
      "execution_count": null,
      "id": "947621f6",
      "metadata": {
        "colab": {
          "base_uri": "https://localhost:8080/"
        },
        "id": "947621f6",
        "outputId": "0221977f-7ab5-412c-88c0-7c6332f34412"
      },
      "outputs": [
        {
          "data": {
            "text/plain": [
              "Time      26672\n",
              "V1        52399\n",
              "V2        52399\n",
              "V3        52399\n",
              "V4        52399\n",
              "V5        52399\n",
              "V6        52399\n",
              "V7        52399\n",
              "V8        52399\n",
              "V9        52399\n",
              "V10       52399\n",
              "V11       52399\n",
              "V12       52399\n",
              "V13       52399\n",
              "V14       52399\n",
              "V15       52399\n",
              "V16       52399\n",
              "V17       52399\n",
              "V18       52399\n",
              "V19       52399\n",
              "V20       52399\n",
              "V21       52399\n",
              "V22       52399\n",
              "V23       52399\n",
              "V24       52399\n",
              "V25       52399\n",
              "V26       52399\n",
              "V27       52399\n",
              "V28       52399\n",
              "Amount    13275\n",
              "Class         2\n",
              "dtype: int64"
            ]
          },
          "execution_count": 22,
          "metadata": {},
          "output_type": "execute_result"
        }
      ],
      "source": [
        "data.nunique()"
      ]
    },
    {
      "cell_type": "markdown",
      "id": "7fd72e8d",
      "metadata": {
        "id": "7fd72e8d"
      },
      "source": [
        "### Reechantillonage par  tirage aléatoire"
      ]
    },
    {
      "cell_type": "code",
      "execution_count": null,
      "id": "44b71805",
      "metadata": {
        "id": "44b71805"
      },
      "outputs": [],
      "source": [
        "fraude = data[data['Class'] == 1]\n",
        "non_fraude = data[data['Class'] == 0]"
      ]
    },
    {
      "cell_type": "code",
      "execution_count": null,
      "id": "f281c669",
      "metadata": {
        "id": "f281c669"
      },
      "outputs": [],
      "source": [
        "# Suréchantillonnage de la classe minoritaire (fraude)\n",
        "fraude_upsampled = resample(fraude,\n",
        "                                replace=True,\n",
        "                                n_samples=len(non_fraude),\n",
        "                                random_state=42)"
      ]
    },
    {
      "cell_type": "code",
      "execution_count": null,
      "id": "29c5453e",
      "metadata": {
        "id": "29c5453e"
      },
      "outputs": [],
      "source": [
        "# Fusion des classes frauduleuses suréchantillonnées avec les non frauduleuses\n",
        "df_upsampled = pd.concat([non_fraude,fraude_upsampled])"
      ]
    },
    {
      "cell_type": "code",
      "execution_count": null,
      "id": "766f207b",
      "metadata": {
        "colab": {
          "base_uri": "https://localhost:8080/"
        },
        "id": "766f207b",
        "outputId": "65a93805-c7d5-440e-e05e-2d0e975b90b3"
      },
      "outputs": [
        {
          "name": "stdout",
          "output_type": "stream",
          "text": [
            "Class\n",
            "0    53418\n",
            "1    53418\n",
            "Name: count, dtype: int64\n"
          ]
        }
      ],
      "source": [
        "# Afficher les informations sur la répartition des classes\n",
        "print(df_upsampled['Class'].value_counts())"
      ]
    },
    {
      "cell_type": "code",
      "execution_count": null,
      "id": "7ad2e8eb",
      "metadata": {
        "colab": {
          "base_uri": "https://localhost:8080/"
        },
        "id": "7ad2e8eb",
        "outputId": "f4a82df8-f4a5-4702-c528-34f06275eeab"
      },
      "outputs": [
        {
          "data": {
            "text/plain": [
              "Time        int32\n",
              "V1        float64\n",
              "V2        float64\n",
              "V3        float64\n",
              "V4        float64\n",
              "V5        float64\n",
              "V6        float64\n",
              "V7        float64\n",
              "V8        float64\n",
              "V9        float64\n",
              "V10       float64\n",
              "V11       float64\n",
              "V12       float64\n",
              "V13       float64\n",
              "V14       float64\n",
              "V15       float64\n",
              "V16       float64\n",
              "V17       float64\n",
              "V18       float64\n",
              "V19       float64\n",
              "V20       float64\n",
              "V21       float64\n",
              "V22       float64\n",
              "V23       float64\n",
              "V24       float64\n",
              "V25       float64\n",
              "V26       float64\n",
              "V27       float64\n",
              "V28       float64\n",
              "Amount    float64\n",
              "Class       int32\n",
              "dtype: object"
            ]
          },
          "execution_count": 27,
          "metadata": {},
          "output_type": "execute_result"
        }
      ],
      "source": [
        "df_upsampled.dtypes"
      ]
    },
    {
      "cell_type": "markdown",
      "id": "ba7fe4b7",
      "metadata": {
        "id": "ba7fe4b7"
      },
      "source": [
        " ###   En somme, nous avons choisi de faire un reechantillonnage car les donnees non fraudes étaient trop faible ce qui risquerais de biaiser notre modele. Parcontre nous n'avons pas touché aux données aberrantes car nous pensons que les variables ayant ces données tel que 'amount'peuvent potentiellement représenter des transactions frauduleuses."
      ]
    },
    {
      "cell_type": "markdown",
      "id": "9fd62255",
      "metadata": {
        "id": "9fd62255"
      },
      "source": [
        "# Entraînement du modèle à l'aide de Spark ML."
      ]
    },
    {
      "cell_type": "code",
      "execution_count": null,
      "id": "a2608734",
      "metadata": {
        "id": "a2608734"
      },
      "outputs": [],
      "source": [
        "# Convertir le DataFrame Pandas en un DataFrame Spark\n",
        "df_upsampled_spark = spark.createDataFrame(df_upsampled)"
      ]
    },
    {
      "cell_type": "code",
      "execution_count": null,
      "id": "09d5e31c",
      "metadata": {
        "id": "09d5e31c"
      },
      "outputs": [],
      "source": [
        "# Assembler les fonctionnalités dans une seule colonne \"features\"\n",
        "feature_cols = df_upsampled_spark.columns[:-1]  # toutes les colonnes sauf la dernière (qui est la variable cible)\n",
        "assembler = VectorAssembler(inputCols=feature_cols, outputCol=\"features\")\n",
        "data_assembled = assembler.transform(df_upsampled_spark)"
      ]
    },
    {
      "cell_type": "code",
      "execution_count": null,
      "id": "4270e6ef",
      "metadata": {
        "id": "4270e6ef"
      },
      "outputs": [],
      "source": [
        "# Diviser les données en ensembles d'entraînement et de test\n",
        "train_data, test_data = data_assembled.randomSplit([0.7, 0.3])"
      ]
    },
    {
      "cell_type": "code",
      "execution_count": null,
      "id": "475b00f7",
      "metadata": {
        "id": "475b00f7"
      },
      "outputs": [],
      "source": [
        "# Entraîner le modèle de RandomForestClassifier\n",
        "rf = RandomForestClassifier(labelCol=\"Class\", featuresCol=\"features\", numTrees=70)\n",
        "rf_model = rf.fit(train_data)"
      ]
    },
    {
      "cell_type": "code",
      "execution_count": null,
      "id": "a4bd5d94",
      "metadata": {
        "id": "a4bd5d94"
      },
      "outputs": [],
      "source": [
        "# Entraîner le modèle de Gradient Boosted Trees\n",
        "gbt = GBTClassifier(labelCol=\"Class\", featuresCol=\"features\", maxIter=10)\n",
        "gbt_model = gbt.fit(train_data)"
      ]
    },
    {
      "cell_type": "code",
      "execution_count": null,
      "id": "NFl3nj1QzDwz",
      "metadata": {
        "id": "NFl3nj1QzDwz"
      },
      "outputs": [],
      "source": [
        "# Évaluations des modèles sur les données de test\n",
        "rf_predictions = rf_model.transform(test_data)\n",
        "gbt_predictions = gbt_model.transform(test_data)"
      ]
    },
    {
      "cell_type": "code",
      "execution_count": null,
      "id": "d7b45452",
      "metadata": {
        "colab": {
          "base_uri": "https://localhost:8080/"
        },
        "id": "d7b45452",
        "outputId": "59fd79f3-b7b0-4092-c5fc-b3077a03f88e"
      },
      "outputs": [
        {
          "name": "stdout",
          "output_type": "stream",
          "text": [
            "+----+------------------+-------------------+------------------+-------------------+-------------------+-------------------+-------------------+-------------------+-------------------+------------------+-------------------+------------------+-------------------+-------------------+-------------------+------------------+--------------------+-------------------+------------------+--------------------+--------------------+-------------------+-------------------+------------------+-------------------+------------------+--------------------+--------------------+------+-----+--------------------+--------------------+--------------------+----------+\n",
            "|Time|                V1|                 V2|                V3|                 V4|                 V5|                 V6|                 V7|                 V8|                 V9|               V10|                V11|               V12|                V13|                V14|                V15|               V16|                 V17|                V18|               V19|                 V20|                 V21|                V22|                V23|               V24|                V25|               V26|                 V27|                 V28|Amount|Class|            features|       rawPrediction|         probability|prediction|\n",
            "+----+------------------+-------------------+------------------+-------------------+-------------------+-------------------+-------------------+-------------------+-------------------+------------------+-------------------+------------------+-------------------+-------------------+-------------------+------------------+--------------------+-------------------+------------------+--------------------+--------------------+-------------------+-------------------+------------------+-------------------+------------------+--------------------+--------------------+------+-----+--------------------+--------------------+--------------------+----------+\n",
            "|   0|  1.19185711131486|   0.26615071205963|  0.16648011335321|  0.448154078460911| 0.0600176492822243|-0.0823608088155687|-0.0788029833323113| 0.0851016549148104| -0.255425128109186|-0.166974414004614|   1.61272666105479|  1.06523531137287|   0.48909501589608| -0.143772296441519|  0.635558093258208| 0.463917041022171|  -0.114804663102346| -0.183361270123994|-0.145783041325259| -0.0690831352230203|  -0.225775248033138| -0.638671952771851|  0.101288021253234|-0.339846475529127|  0.167170404418143| 0.125894532368176|-0.00898309914322813|  0.0147241691924927|  2.69|    0|[0.0,1.1918571113...|[68.2111367465565...|[0.97444481066509...|       0.0|\n",
            "|   2| -1.15823309349523|  0.877736754848451|    1.548717846511|  0.403033933955121| -0.407193377311653| 0.0959214624684256|  0.592940745385545| -0.270532677192282|  0.817739308235294| 0.753074431976354| -0.822842877946363|  0.53819555014995|    1.3458515932154|  -1.11966983471731|  0.175121130008994|-0.451449182813529|  -0.237033239362776|-0.0381947870352842| 0.803486924960175|   0.408542360392758|-0.00943069713232919|   0.79827849458971| -0.137458079619063| 0.141266983824769| -0.206009587619756| 0.502292224181569|   0.219422229513348|   0.215153147499206| 69.99|    0|[2.0,-1.158233093...|[67.9834408624770...|[0.97119201232110...|       0.0|\n",
            "|   9| -0.33826175242575|   1.11959337641566|  1.04436655157316| -0.222187276738296|   0.49936080649727|  -0.24676110061991|  0.651583206489972| 0.0695385865186387| -0.736727316364109|-0.366845639206541|   1.01761446783262| 0.836389570307029|   1.00684351373408| -0.443522816876142|  0.150219101422635| 0.739452777052119|  -0.540979921943059|   0.47667726004282| 0.451772964394125|   0.203711454727929|  -0.246913936910008| -0.633752642406113|  -0.12079408408185|-0.385049925313426|-0.0697330460416923|0.0941988339514961|   0.246219304619926|  0.0830756493473326|  3.68|    0|[9.0,-0.338261752...|[67.2398933861314...|[0.96056990551616...|       0.0|\n",
            "|  10|  0.38497821518095|  0.616109459176472|-0.874299702595052|-0.0940186259679115|   2.92458437838817|   3.31702716826156|  0.470454671805879|   0.53824722837695| -0.558894612428441|  0.30975539423728| -0.259115563735702|-0.326143233995877|-0.0900467227020648|  0.362832368569793|  0.928903660629178|-0.129486811402759|  -0.809978925963589|  0.359985390219981|  0.70766382644648|    0.12599157561542|   0.049923685888971|  0.238421512225103|0.00912986861262866| 0.996710209581086| -0.767314827174801|-0.492208295340017|   0.042472441919027| -0.0543373883732122|  9.99|    0|[10.0,0.384978215...|[68.7480307829233...|[0.98211472547033...|       0.0|\n",
            "|  10|    1.249998742053|  -1.22163680921816| 0.383930151282291|  -1.23489868766892|  -1.48541947377961| -0.753230164566149| -0.689404975426345| -0.227487227519552|  -2.09401057344842|  1.32372927445937|  0.227666231237246|-0.242681998944186|   1.20541680770748| -0.317630527025074|  0.725674990179153|-0.815612186027305|   0.873936447614439| -0.847788598847099|-0.683192626267037|  -0.102755941505071|  -0.231809239223849| -0.483285330117712| 0.0846676908596583| 0.392830885335013|  0.161134553588505|-0.354990039673962|  0.0264155490776107|  0.0424220887282304| 121.5|    0|[10.0,1.249998742...|[68.5180365522431...|[0.97882909360347...|       0.0|\n",
            "|  12|  1.10321543528383|-0.0402962145973447|   1.2673320885949|   1.28909146962552| -0.735997163604068|  0.288069162976262| -0.586056786337461|  0.189379713679593|  0.782332891785191|-0.267975066537173| -0.450311279515466| 0.936707714991982|  0.708380406186981| -0.468647287707221|  0.354574063407955|-0.246634655717582|-0.00921237772707382| -0.595912405700819| -0.57568162226261|  -0.113910176982092| -0.0246120063374677|  0.196001952806192| 0.0138016541409422| 0.103758331023198|  0.364297540595235|-0.382260574113217|   0.092809187460487|  0.0370505169810008| 12.99|    0|[12.0,1.103215435...|[68.5180365522431...|[0.97882909360347...|       0.0|\n",
            "|  13|-0.436905071360625|  0.918966212909322|  0.92459077438817| -0.727219053596792|  0.915678718106307| -0.127867352079254|  0.707641607333935| 0.0879623554672504|  -0.66527135413364|-0.737979823596458|   0.32409781346169| 0.277192107214981|  0.252624256310781| -0.291896460370468| -0.184520169327133|  1.14317370716197|   -0.92870926272403|  0.680469592634687|0.0254364616880793| -0.0470212823165035|  -0.194795823794671| -0.672637997017793| -0.156857514491897|-0.888386320943716| -0.342413218776576|-0.049026728633951|  0.0796923991551505|   0.131023789452311|  0.89|    0|[13.0,-0.43690507...|[67.2787843567379...|[0.96112549081054...|       0.0|\n",
            "|  15|   1.4929359769862|  -1.02934573189487|  0.45479473374366|  -1.43802587991702|  -1.55543410136344| -0.720961147043557|  -1.08066413038614|-0.0531271179483221|   -1.9786815953872|  1.63807603690446|   1.07754241162743| -0.63204651464934|  -0.41695716661602| 0.0520105153724404|-0.0429789228232019|-0.166432496451972|   0.304241418614353|  0.554432499062278|0.0542295152184719|  -0.387910172646258|  -0.177649846438814| -0.175073809074822| 0.0400022190621329| 0.295813862676508|   0.33293059939425|-0.220384850672322|  0.0222984359135846| 0.00760225559997897|   5.0|    0|[15.0,1.492935976...|[68.6892957251960...|[0.98127565321708...|       0.0|\n",
            "|  17| 0.962496069914852|   0.32846102605212| -0.17147905415064|   2.10920406774016|   1.12956557126894|    1.6960376856836|  0.107711607311367|  0.521502163844302|  -1.19131110205143| 0.724396314588903|    1.6903299205808| 0.406773575635315| -0.936421295934551|   0.98373941913199|  0.710910766068067|-0.602231772166344|   0.402484375627273|  -1.73716203452457| -2.02761232183279|  -0.269320966548419|    0.14399742335114|  0.402491661406291|-0.0485082211745289| -1.37186629453889|  0.390813885438659| 0.199963657504328|  0.0163706432842991|   -0.01460532767228| 34.09|    0|[17.0,0.962496069...|[65.7602019536018...|[0.93943145648002...|       0.0|\n",
            "|  22|  -2.0742946722629| -0.121481799450951|  1.32202063048967|  0.410007514171835|  0.295197545759436|  -0.95953722984438|  0.543985491287656| -0.104626728092018|  0.475664017945495| 0.149450615348245| -0.856566363963256|-0.180523156037298| -0.655232930357476|  -0.27979685563853|  -0.21166795514315|-0.333320609694671|   0.010751094250554| -0.488472666295676| 0.505751034478604|  -0.386693573241769|  -0.403639498840125| -0.227404004096502|  0.742434864076795| 0.398534855447456|  0.249212161486784| 0.274404273874965|   0.359969356358436|   0.243231671798911| 26.43|    0|[22.0,-2.07429467...|[68.5267610878083...|[0.97895372982583...|       0.0|\n",
            "|  23|-0.414288810090829|  0.905437322625407|  1.72745294417921|   1.47347126657189|0.00744274117322988| -0.200330677416199|  0.740228319420026| -0.029247400012072| -0.593392019124765|-0.346188231273199|-0.0121421884961019| 0.786796316060126|  0.635953883297271|-0.0863244719500975| 0.0768036871984215|  -1.4059193336148|   0.775591738395162|  -0.94288892749919| 0.543969461627011|  0.0973075910928853|  0.0772374339988386|  0.457330598656119| -0.038499724582026| 0.642521902774992| -0.183891335259639|-0.277464019495649|   0.182687486490454|   0.152664644968975|  33.0|    0|[23.0,-0.41428881...|[68.4537433917816...|[0.97791061988259...|       0.0|\n",
            "|  25|  1.11400859541157| 0.0855460896870318| 0.493702487395368|   1.33575998514475| -0.300188550950467|-0.0107537834263628|  -0.11876001509605|  0.188616695943139|   0.20568684906514|0.0822622587556722|   1.13355567149479| 0.626699002489221|  -1.49278039238295|  0.520787893899183| -0.674592596871812|-0.529108241855907|   0.158256197923207| -0.398751479349713|  -0.1457089090445|  -0.273832367278761| -0.0532336603921118|-0.0047601512119153|-0.0314701703936453| 0.198053718143193|  0.565007312878958|-0.337718126200803|  0.0290574021222937| 0.00445263143187997|  4.45|    0|[25.0,1.114008595...|[68.3030915114972...|[0.97575845016424...|       0.0|\n",
            "|  32|  1.24905471963177| -0.624727077037783|-0.710588903536079| -0.991600360912692|   1.42997319213398|   3.69297701929891|  -1.09020864122523|  0.967290815452715|  0.850148519454057|-0.307081111779614| -0.456245308321934| 0.229981349844581|-0.0169130995868782| -0.220846086114885|  0.362417698896289| 0.315222304210749|  -0.512265445432752|   0.11899461869584| 0.574720159539024|  0.0978526921491637|-0.00629271415563999|0.00920022451060978| -0.129463200605864|  1.11297017048455|  0.500382108623099|  1.19654919930281| -0.0482204354357297| 0.00509362198376849| 29.89|    0|[32.0,1.249054719...|[68.7480307829233...|[0.98211472547033...|       0.0|\n",
            "|  33|-0.935731508971261|  0.170415774156885|  2.74626126916024|  -1.07796491232198| -0.305594036012037|  0.011577039242069| -0.296178450741079|  0.402775569749032|-0.0404717463090409|-0.852045975590358|   1.55210930576859| 0.953561030493519|  0.415429902142844| -0.233899924821916|  0.452335831951489| 0.844368276957724|  -0.822739085535726|  0.338821621743895| -1.21423442764473|-0.00541945029011228|   0.401212016276093|   1.06486425408903|  -0.15832543563046| 0.295505486260758| -0.259369647631841| 0.754194722556598|  0.0466637698225124|   0.093947918225147|   9.1|    0|[33.0,-0.93573150...|[68.2475186897138...|[0.97496455271019...|       0.0|\n",
            "|  33|-0.607877142993026|   1.03134507783793|  1.74044973731533|   1.23210555042311|  0.418592260222944|  0.119168118951909|  0.850892666335631| -0.176267418873834| -0.243501347955064| 0.148455489833925| -0.387003094237291| 0.398299276642617|   0.48191674848907|   -0.3654390925945|  0.235544572141109| -1.34781146032981|   0.504648259572464| -0.798404510811433| 0.759710307289684|   0.254324777846538| -0.0873291909450489|  0.258315279877507|  -0.26477502289338| 0.118282367139248|  0.173508081148748|-0.217041286803197|  0.0943119126010652| -0.0330412960342469|  14.8|    0|[33.0,-0.60787714...|[68.6261560359005...|[0.98037365765572...|       0.0|\n",
            "|  36| -1.16942245796433|   1.15831387032695|  1.40679953629777|  0.860188897348956| -0.103809888790759|  0.122034779552914|  0.264451377145263| -0.108766588645948| -0.181976611127934| 0.659592648943552|   0.45631688991831|-0.097762710197907| -0.346158686301307|  0.210182391368661|   2.34522933348286|  -1.1726476833364|   0.860018873573656|  -1.15422426573603| 0.858768026366302|  -0.120560177945327|  0.0244979038810766| -0.120153158421006|  0.212986045163239|0.0875357633653697| -0.946529684037448| 0.226700388710984|  -0.810100768391406|   0.234956581343876|  7.99|    0|[36.0,-1.16942245...|[68.0300279291196...|[0.97185754184456...|       0.0|\n",
            "|  39|-0.554064564931988|  0.215728297966379|  0.84426462904462| -0.753067316254495| 0.0348484695858477| -0.558597247605412|   1.09040095790026| -0.203873231509391|  0.262393622286028| -1.35471021992455|-0.0948798795631494| 0.953745991690559|  0.836964039089714|   0.14475220028962|   1.15660953164838|   -1.933020942756|   0.741348957532257| -0.513609928080678|   1.5673453867025|   0.383282932954218|   0.212133973378933|  0.702337604074802|-0.0057006020965723| 0.147346442427205|  0.245651952176691|-0.440456209881165|   0.147130419245981|    0.13946773165502|120.96|    0|[39.0,-0.55406456...|[68.4607887295271...|[0.97801126756467...|       0.0|\n",
            "|  44|  -0.7147640190509|  0.514968588809346|  1.82167562698994|  0.616433633112349|  0.848775614560403| -0.111938136930971|   1.50561708184721| -0.798167297930687|  0.244756558759933| 0.264554166932915|  -1.10811404262763|-0.359860224587481| -0.163471394515264|  -0.78399685528552| -0.367152826926958|-0.653118889937787|   -0.50429999683849| -0.260560360493109| 0.435251051618086|   0.107321716256365|  -0.220075387734134|-0.0178447101595565| -0.431938291624419|-0.130458458758134|  0.337158591609192|-0.440041535079763|  -0.674526156912284|  -0.473217566024028|  59.9|    0|[44.0,-0.71476401...|[68.6991737319272...|[0.98141676759895...|       0.0|\n",
            "|  44|  0.92706024886951| -0.323683971710722| 0.387584831023695|  0.544473988630298|  0.246787394713325|   1.65035780450716| -0.427576017481436|  0.615370698363494|   0.22627827499351|-0.225495240788102|   1.94454487261209|  1.38515995366242| -0.479261670753128|  0.314166275947243|  0.214167230654249| -1.33371647303753|     1.0028690205298|   -2.1193135015833| -1.05304305618293|  -0.185390374533289| -0.0405130479745848| 0.0793594012040047| 0.0966317456875458|-0.992568668943493| 0.0850958289136786| 0.377447205341889|  0.0360964213118972|-0.00596028607818299| 45.71|    0|[44.0,0.927060248...|[68.6991737319272...|[0.98141676759895...|       0.0|\n",
            "|  48| -1.79340624422786|   1.85460399082838| 0.979513976644481|   1.11226152645262| -0.206402962131258| -0.199545668092445|    0.6166424042353| 0.0641803531775705|  0.690271532341837|  1.55172381714636|  -0.16196484167768| 0.424213060982246| 0.0159444010110314| -0.405832818314697|  0.271930432913219| -1.42302064864536|   0.676324382969801| -0.911048300036704| 0.461845498112606|   0.667846871696291|  -0.180722525691681|  0.235138169654476|-0.0914415713260925| 0.417654473831525|  0.122733846237321|-0.232985041190746|   0.811879841478301|   0.618568311939622| 26.72|    0|[48.0,-1.79340624...|[68.0008103218500...|[0.97144014745500...|       0.0|\n",
            "+----+------------------+-------------------+------------------+-------------------+-------------------+-------------------+-------------------+-------------------+-------------------+------------------+-------------------+------------------+-------------------+-------------------+-------------------+------------------+--------------------+-------------------+------------------+--------------------+--------------------+-------------------+-------------------+------------------+-------------------+------------------+--------------------+--------------------+------+-----+--------------------+--------------------+--------------------+----------+\n",
            "only showing top 20 rows\n",
            "\n",
            "+----+------------------+-------------------+------------------+-------------------+-------------------+-------------------+-------------------+-------------------+-------------------+------------------+-------------------+------------------+-------------------+-------------------+-------------------+------------------+--------------------+-------------------+------------------+--------------------+--------------------+-------------------+-------------------+------------------+-------------------+------------------+--------------------+--------------------+------+-----+--------------------+--------------------+--------------------+----------+\n",
            "|Time|                V1|                 V2|                V3|                 V4|                 V5|                 V6|                 V7|                 V8|                 V9|               V10|                V11|               V12|                V13|                V14|                V15|               V16|                 V17|                V18|               V19|                 V20|                 V21|                V22|                V23|               V24|                V25|               V26|                 V27|                 V28|Amount|Class|            features|       rawPrediction|         probability|prediction|\n",
            "+----+------------------+-------------------+------------------+-------------------+-------------------+-------------------+-------------------+-------------------+-------------------+------------------+-------------------+------------------+-------------------+-------------------+-------------------+------------------+--------------------+-------------------+------------------+--------------------+--------------------+-------------------+-------------------+------------------+-------------------+------------------+--------------------+--------------------+------+-----+--------------------+--------------------+--------------------+----------+\n",
            "|   0|  1.19185711131486|   0.26615071205963|  0.16648011335321|  0.448154078460911| 0.0600176492822243|-0.0823608088155687|-0.0788029833323113| 0.0851016549148104| -0.255425128109186|-0.166974414004614|   1.61272666105479|  1.06523531137287|   0.48909501589608| -0.143772296441519|  0.635558093258208| 0.463917041022171|  -0.114804663102346| -0.183361270123994|-0.145783041325259| -0.0690831352230203|  -0.225775248033138| -0.638671952771851|  0.101288021253234|-0.339846475529127|  0.167170404418143| 0.125894532368176|-0.00898309914322813|  0.0147241691924927|  2.69|    0|[0.0,1.1918571113...|[1.32981867377880...|[0.93460250450988...|       0.0|\n",
            "|   2| -1.15823309349523|  0.877736754848451|    1.548717846511|  0.403033933955121| -0.407193377311653| 0.0959214624684256|  0.592940745385545| -0.270532677192282|  0.817739308235294| 0.753074431976354| -0.822842877946363|  0.53819555014995|    1.3458515932154|  -1.11966983471731|  0.175121130008994|-0.451449182813529|  -0.237033239362776|-0.0381947870352842| 0.803486924960175|   0.408542360392758|-0.00943069713232919|   0.79827849458971| -0.137458079619063| 0.141266983824769| -0.206009587619756| 0.502292224181569|   0.219422229513348|   0.215153147499206| 69.99|    0|[2.0,-1.158233093...|[1.33462858237252...|[0.93518802167149...|       0.0|\n",
            "|   9| -0.33826175242575|   1.11959337641566|  1.04436655157316| -0.222187276738296|   0.49936080649727|  -0.24676110061991|  0.651583206489972| 0.0695385865186387| -0.736727316364109|-0.366845639206541|   1.01761446783262| 0.836389570307029|   1.00684351373408| -0.443522816876142|  0.150219101422635| 0.739452777052119|  -0.540979921943059|   0.47667726004282| 0.451772964394125|   0.203711454727929|  -0.246913936910008| -0.633752642406113|  -0.12079408408185|-0.385049925313426|-0.0697330460416923|0.0941988339514961|   0.246219304619926|  0.0830756493473326|  3.68|    0|[9.0,-0.338261752...|[1.32981867377880...|[0.93460250450988...|       0.0|\n",
            "|  10|  0.38497821518095|  0.616109459176472|-0.874299702595052|-0.0940186259679115|   2.92458437838817|   3.31702716826156|  0.470454671805879|   0.53824722837695| -0.558894612428441|  0.30975539423728| -0.259115563735702|-0.326143233995877|-0.0900467227020648|  0.362832368569793|  0.928903660629178|-0.129486811402759|  -0.809978925963589|  0.359985390219981|  0.70766382644648|    0.12599157561542|   0.049923685888971|  0.238421512225103|0.00912986861262866| 0.996710209581086| -0.767314827174801|-0.492208295340017|   0.042472441919027| -0.0543373883732122|  9.99|    0|[10.0,0.384978215...|[1.33659510065238...|[0.93542600083337...|       0.0|\n",
            "|  10|    1.249998742053|  -1.22163680921816| 0.383930151282291|  -1.23489868766892|  -1.48541947377961| -0.753230164566149| -0.689404975426345| -0.227487227519552|  -2.09401057344842|  1.32372927445937|  0.227666231237246|-0.242681998944186|   1.20541680770748| -0.317630527025074|  0.725674990179153|-0.815612186027305|   0.873936447614439| -0.847788598847099|-0.683192626267037|  -0.102755941505071|  -0.231809239223849| -0.483285330117712| 0.0846676908596583| 0.392830885335013|  0.161134553588505|-0.354990039673962|  0.0264155490776107|  0.0424220887282304| 121.5|    0|[10.0,1.249998742...|[1.32777582005359...|[0.93435233950171...|       0.0|\n",
            "|  12|  1.10321543528383|-0.0402962145973447|   1.2673320885949|   1.28909146962552| -0.735997163604068|  0.288069162976262| -0.586056786337461|  0.189379713679593|  0.782332891785191|-0.267975066537173| -0.450311279515466| 0.936707714991982|  0.708380406186981| -0.468647287707221|  0.354574063407955|-0.246634655717582|-0.00921237772707382| -0.595912405700819| -0.57568162226261|  -0.113910176982092| -0.0246120063374677|  0.196001952806192| 0.0138016541409422| 0.103758331023198|  0.364297540595235|-0.382260574113217|   0.092809187460487|  0.0370505169810008| 12.99|    0|[12.0,1.103215435...|[1.32777582005359...|[0.93435233950171...|       0.0|\n",
            "|  13|-0.436905071360625|  0.918966212909322|  0.92459077438817| -0.727219053596792|  0.915678718106307| -0.127867352079254|  0.707641607333935| 0.0879623554672504|  -0.66527135413364|-0.737979823596458|   0.32409781346169| 0.277192107214981|  0.252624256310781| -0.291896460370468| -0.184520169327133|  1.14317370716197|   -0.92870926272403|  0.680469592634687|0.0254364616880793| -0.0470212823165035|  -0.194795823794671| -0.672637997017793| -0.156857514491897|-0.888386320943716| -0.342413218776576|-0.049026728633951|  0.0796923991551505|   0.131023789452311|  0.89|    0|[13.0,-0.43690507...|[1.32175520114934...|[0.93360987931337...|       0.0|\n",
            "|  15|   1.4929359769862|  -1.02934573189487|  0.45479473374366|  -1.43802587991702|  -1.55543410136344| -0.720961147043557|  -1.08066413038614|-0.0531271179483221|   -1.9786815953872|  1.63807603690446|   1.07754241162743| -0.63204651464934|  -0.41695716661602| 0.0520105153724404|-0.0429789228232019|-0.166432496451972|   0.304241418614353|  0.554432499062278|0.0542295152184719|  -0.387910172646258|  -0.177649846438814| -0.175073809074822| 0.0400022190621329| 0.295813862676508|   0.33293059939425|-0.220384850672322|  0.0222984359135846| 0.00760225559997897|   5.0|    0|[15.0,1.492935976...|[1.32777582005359...|[0.93435233950171...|       0.0|\n",
            "|  17| 0.962496069914852|   0.32846102605212| -0.17147905415064|   2.10920406774016|   1.12956557126894|    1.6960376856836|  0.107711607311367|  0.521502163844302|  -1.19131110205143| 0.724396314588903|    1.6903299205808| 0.406773575635315| -0.936421295934551|   0.98373941913199|  0.710910766068067|-0.602231772166344|   0.402484375627273|  -1.73716203452457| -2.02761232183279|  -0.269320966548419|    0.14399742335114|  0.402491661406291|-0.0485082211745289| -1.37186629453889|  0.390813885438659| 0.199963657504328|  0.0163706432842991|   -0.01460532767228| 34.09|    0|[17.0,0.962496069...|[1.40554818074378...|[0.94327251344177...|       0.0|\n",
            "|  22|  -2.0742946722629| -0.121481799450951|  1.32202063048967|  0.410007514171835|  0.295197545759436|  -0.95953722984438|  0.543985491287656| -0.104626728092018|  0.475664017945495| 0.149450615348245| -0.856566363963256|-0.180523156037298| -0.655232930357476|  -0.27979685563853|  -0.21166795514315|-0.333320609694671|   0.010751094250554| -0.488472666295676| 0.505751034478604|  -0.386693573241769|  -0.403639498840125| -0.227404004096502|  0.742434864076795| 0.398534855447456|  0.249212161486784| 0.274404273874965|   0.359969356358436|   0.243231671798911| 26.43|    0|[22.0,-2.07429467...|[1.32777582005359...|[0.93435233950171...|       0.0|\n",
            "|  23|-0.414288810090829|  0.905437322625407|  1.72745294417921|   1.47347126657189|0.00744274117322988| -0.200330677416199|  0.740228319420026| -0.029247400012072| -0.593392019124765|-0.346188231273199|-0.0121421884961019| 0.786796316060126|  0.635953883297271|-0.0863244719500975| 0.0768036871984215|  -1.4059193336148|   0.775591738395162|  -0.94288892749919| 0.543969461627011|  0.0973075910928853|  0.0772374339988386|  0.457330598656119| -0.038499724582026| 0.642521902774992| -0.183891335259639|-0.277464019495649|   0.182687486490454|   0.152664644968975|  33.0|    0|[23.0,-0.41428881...|[1.32777582005359...|[0.93435233950171...|       0.0|\n",
            "|  25|  1.11400859541157| 0.0855460896870318| 0.493702487395368|   1.33575998514475| -0.300188550950467|-0.0107537834263628|  -0.11876001509605|  0.188616695943139|   0.20568684906514|0.0822622587556722|   1.13355567149479| 0.626699002489221|  -1.49278039238295|  0.520787893899183| -0.674592596871812|-0.529108241855907|   0.158256197923207| -0.398751479349713|  -0.1457089090445|  -0.273832367278761| -0.0532336603921118|-0.0047601512119153|-0.0314701703936453| 0.198053718143193|  0.565007312878958|-0.337718126200803|  0.0290574021222937| 0.00445263143187997|  4.45|    0|[25.0,1.114008595...|[1.32981867377880...|[0.93460250450988...|       0.0|\n",
            "|  32|  1.24905471963177| -0.624727077037783|-0.710588903536079| -0.991600360912692|   1.42997319213398|   3.69297701929891|  -1.09020864122523|  0.967290815452715|  0.850148519454057|-0.307081111779614| -0.456245308321934| 0.229981349844581|-0.0169130995868782| -0.220846086114885|  0.362417698896289| 0.315222304210749|  -0.512265445432752|   0.11899461869584| 0.574720159539024|  0.0978526921491637|-0.00629271415563999|0.00920022451060978| -0.129463200605864|  1.11297017048455|  0.500382108623099|  1.19654919930281| -0.0482204354357297| 0.00509362198376849| 29.89|    0|[32.0,1.249054719...|[1.32777582005359...|[0.93435233950171...|       0.0|\n",
            "|  33|-0.935731508971261|  0.170415774156885|  2.74626126916024|  -1.07796491232198| -0.305594036012037|  0.011577039242069| -0.296178450741079|  0.402775569749032|-0.0404717463090409|-0.852045975590358|   1.55210930576859| 0.953561030493519|  0.415429902142844| -0.233899924821916|  0.452335831951489| 0.844368276957724|  -0.822739085535726|  0.338821621743895| -1.21423442764473|-0.00541945029011228|   0.401212016276093|   1.06486425408903|  -0.15832543563046| 0.295505486260758| -0.259369647631841| 0.754194722556598|  0.0466637698225124|   0.093947918225147|   9.1|    0|[33.0,-0.93573150...|[1.32777582005359...|[0.93435233950171...|       0.0|\n",
            "|  33|-0.607877142993026|   1.03134507783793|  1.74044973731533|   1.23210555042311|  0.418592260222944|  0.119168118951909|  0.850892666335631| -0.176267418873834| -0.243501347955064| 0.148455489833925| -0.387003094237291| 0.398299276642617|   0.48191674848907|   -0.3654390925945|  0.235544572141109| -1.34781146032981|   0.504648259572464| -0.798404510811433| 0.759710307289684|   0.254324777846538| -0.0873291909450489|  0.258315279877507|  -0.26477502289338| 0.118282367139248|  0.173508081148748|-0.217041286803197|  0.0943119126010652| -0.0330412960342469|  14.8|    0|[33.0,-0.60787714...|[1.32777582005359...|[0.93435233950171...|       0.0|\n",
            "|  36| -1.16942245796433|   1.15831387032695|  1.40679953629777|  0.860188897348956| -0.103809888790759|  0.122034779552914|  0.264451377145263| -0.108766588645948| -0.181976611127934| 0.659592648943552|   0.45631688991831|-0.097762710197907| -0.346158686301307|  0.210182391368661|   2.34522933348286|  -1.1726476833364|   0.860018873573656|  -1.15422426573603| 0.858768026366302|  -0.120560177945327|  0.0244979038810766| -0.120153158421006|  0.212986045163239|0.0875357633653697| -0.946529684037448| 0.226700388710984|  -0.810100768391406|   0.234956581343876|  7.99|    0|[36.0,-1.16942245...|[1.32777582005359...|[0.93435233950171...|       0.0|\n",
            "|  39|-0.554064564931988|  0.215728297966379|  0.84426462904462| -0.753067316254495| 0.0348484695858477| -0.558597247605412|   1.09040095790026| -0.203873231509391|  0.262393622286028| -1.35471021992455|-0.0948798795631494| 0.953745991690559|  0.836964039089714|   0.14475220028962|   1.15660953164838|   -1.933020942756|   0.741348957532257| -0.513609928080678|   1.5673453867025|   0.383282932954218|   0.212133973378933|  0.702337604074802|-0.0057006020965723| 0.147346442427205|  0.245651952176691|-0.440456209881165|   0.147130419245981|    0.13946773165502|120.96|    0|[39.0,-0.55406456...|[1.33659510065238...|[0.93542600083337...|       0.0|\n",
            "|  44|  -0.7147640190509|  0.514968588809346|  1.82167562698994|  0.616433633112349|  0.848775614560403| -0.111938136930971|   1.50561708184721| -0.798167297930687|  0.244756558759933| 0.264554166932915|  -1.10811404262763|-0.359860224587481| -0.163471394515264|  -0.78399685528552| -0.367152826926958|-0.653118889937787|   -0.50429999683849| -0.260560360493109| 0.435251051618086|   0.107321716256365|  -0.220075387734134|-0.0178447101595565| -0.431938291624419|-0.130458458758134|  0.337158591609192|-0.440041535079763|  -0.674526156912284|  -0.473217566024028|  59.9|    0|[44.0,-0.71476401...|[1.34565772904035...|[0.93651223986646...|       0.0|\n",
            "|  44|  0.92706024886951| -0.323683971710722| 0.387584831023695|  0.544473988630298|  0.246787394713325|   1.65035780450716| -0.427576017481436|  0.615370698363494|   0.22627827499351|-0.225495240788102|   1.94454487261209|  1.38515995366242| -0.479261670753128|  0.314166275947243|  0.214167230654249| -1.33371647303753|     1.0028690205298|   -2.1193135015833| -1.05304305618293|  -0.185390374533289| -0.0405130479745848| 0.0793594012040047| 0.0966317456875458|-0.992568668943493| 0.0850958289136786| 0.377447205341889|  0.0360964213118972|-0.00596028607818299| 45.71|    0|[44.0,0.927060248...|[1.32777582005359...|[0.93435233950171...|       0.0|\n",
            "|  48| -1.79340624422786|   1.85460399082838| 0.979513976644481|   1.11226152645262| -0.206402962131258| -0.199545668092445|    0.6166424042353| 0.0641803531775705|  0.690271532341837|  1.55172381714636|  -0.16196484167768| 0.424213060982246| 0.0159444010110314| -0.405832818314697|  0.271930432913219| -1.42302064864536|   0.676324382969801| -0.911048300036704| 0.461845498112606|   0.667846871696291|  -0.180722525691681|  0.235138169654476|-0.0914415713260925| 0.417654473831525|  0.122733846237321|-0.232985041190746|   0.811879841478301|   0.618568311939622| 26.72|    0|[48.0,-1.79340624...|[1.32777582005359...|[0.93435233950171...|       0.0|\n",
            "+----+------------------+-------------------+------------------+-------------------+-------------------+-------------------+-------------------+-------------------+-------------------+------------------+-------------------+------------------+-------------------+-------------------+-------------------+------------------+--------------------+-------------------+------------------+--------------------+--------------------+-------------------+-------------------+------------------+-------------------+------------------+--------------------+--------------------+------+-----+--------------------+--------------------+--------------------+----------+\n",
            "only showing top 20 rows\n",
            "\n"
          ]
        }
      ],
      "source": [
        "# Affichage des prédictions\n",
        "rf_predictions.show()\n",
        "gbt_predictions.show()"
      ]
    },
    {
      "cell_type": "markdown",
      "id": "z6mQBCSV2AF4",
      "metadata": {
        "id": "z6mQBCSV2AF4"
      },
      "source": [
        "**Évaluation du modèle: évaluer la performance du modèle en utilisant des\n",
        "métriques telles que la précision, le rappel et le F1-score.**\n"
      ]
    },
    {
      "cell_type": "code",
      "execution_count": null,
      "id": "e7xJAiSN0RYS",
      "metadata": {
        "id": "e7xJAiSN0RYS"
      },
      "outputs": [],
      "source": [
        "# Création d un évaluateur pour la précision\n",
        "evaluator = MulticlassClassificationEvaluator(labelCol=\"Class\", predictionCol=\"prediction\", metricName=\"accuracy\")"
      ]
    },
    {
      "cell_type": "code",
      "execution_count": null,
      "id": "xaAowVsP05O7",
      "metadata": {
        "colab": {
          "base_uri": "https://localhost:8080/"
        },
        "id": "xaAowVsP05O7",
        "outputId": "9351ee22-b970-4e8a-d83b-9d4d989477e0"
      },
      "outputs": [
        {
          "name": "stdout",
          "output_type": "stream",
          "text": [
            "Précision RandomForest : 0.9895174237416187\n"
          ]
        }
      ],
      "source": [
        "# Calcule la précision pour RandomForest\n",
        "accuracy_rf = evaluator.evaluate(rf_predictions)\n",
        "print(\"Précision RandomForest :\", accuracy_rf)"
      ]
    },
    {
      "cell_type": "code",
      "execution_count": null,
      "id": "BoWLyuzB1K_-",
      "metadata": {
        "colab": {
          "base_uri": "https://localhost:8080/"
        },
        "id": "BoWLyuzB1K_-",
        "outputId": "6017af7a-a9ae-49cd-df52-e4d9b1245bf4"
      },
      "outputs": [
        {
          "name": "stdout",
          "output_type": "stream",
          "text": [
            "Précision Gradient Boosted Trees : 0.9958762237542104\n"
          ]
        }
      ],
      "source": [
        "# Calcule la précision pour Gradient Boosted Trees\n",
        "accuracy_gbt = evaluator.evaluate(gbt_predictions)\n",
        "print(\"Précision Gradient Boosted Trees :\", accuracy_gbt)"
      ]
    },
    {
      "cell_type": "code",
      "execution_count": null,
      "id": "B3Vu2llO1a2A",
      "metadata": {
        "colab": {
          "base_uri": "https://localhost:8080/"
        },
        "id": "B3Vu2llO1a2A",
        "outputId": "6b95882b-4e0e-4628-bc42-ec4cef14da24"
      },
      "outputs": [
        {
          "name": "stdout",
          "output_type": "stream",
          "text": [
            "Gradient Boosted Trees est plus performant en termes de précision.\n"
          ]
        }
      ],
      "source": [
        "# Comparer les performances en termes de précision\n",
        "if accuracy_rf > accuracy_gbt:\n",
        "    print(\"RandomForest est plus performant en termes de précision.\")\n",
        "elif accuracy_rf < accuracy_gbt:\n",
        "    print(\"Gradient Boosted Trees est plus performant en termes de précision.\")\n",
        "else:\n",
        "    print(\"Les deux modèles ont la même précision.\")"
      ]
    },
    {
      "cell_type": "code",
      "execution_count": null,
      "id": "FWmPpxUb20jh",
      "metadata": {
        "id": "FWmPpxUb20jh"
      },
      "outputs": [],
      "source": [
        "# Création d un évaluateur pour le rappel\n",
        "evaluator = MulticlassClassificationEvaluator(labelCol=\"Class\", predictionCol=\"prediction\", metricName=\"weightedRecall\")"
      ]
    },
    {
      "cell_type": "code",
      "execution_count": null,
      "id": "uSuKKSUW3ezB",
      "metadata": {
        "colab": {
          "base_uri": "https://localhost:8080/"
        },
        "id": "uSuKKSUW3ezB",
        "outputId": "5174a396-dca8-47b3-bd75-50f1640dbc8c"
      },
      "outputs": [
        {
          "name": "stdout",
          "output_type": "stream",
          "text": [
            "Rappel RandomForest : 0.9895174237416187\n",
            "Gradient Boosted Trees : 0.9958762237542103\n"
          ]
        }
      ],
      "source": [
        "# Calcule du rappel pour RandomForest et Gradient Boosted Trees\n",
        "recall_rf = evaluator.evaluate(rf_predictions)\n",
        "print(\"Rappel RandomForest :\", recall_rf)\n",
        "recall_gbt = evaluator.evaluate(gbt_predictions)\n",
        "print(\"Gradient Boosted Trees :\", recall_gbt)"
      ]
    },
    {
      "cell_type": "code",
      "execution_count": null,
      "id": "n472moNB4gO7",
      "metadata": {
        "id": "n472moNB4gO7"
      },
      "outputs": [],
      "source": [
        "# Création un évaluateur pour le F1-score\n",
        "evaluator = MulticlassClassificationEvaluator(labelCol=\"Class\", predictionCol=\"prediction\", metricName=\"f1\")"
      ]
    },
    {
      "cell_type": "code",
      "execution_count": null,
      "id": "M_ZmIURg4v69",
      "metadata": {
        "colab": {
          "background_save": true,
          "base_uri": "https://localhost:8080/"
        },
        "id": "M_ZmIURg4v69",
        "outputId": "042078a1-af2c-4528-edb7-fcd68090e06d"
      },
      "outputs": [
        {
          "name": "stdout",
          "output_type": "stream",
          "text": [
            "F1-score  du rf : 0.948182045232776\n",
            "F1-score du gbt: 0.9803408476270583\n"
          ]
        }
      ],
      "source": [
        "# Calcule du F1-score\n",
        "f1_score_rf = evaluator.evaluate(rf_predictions)\n",
        "print(\"F1-score  du rf :\", f1_score_rf)\n",
        "f1_score_gbt = evaluator.evaluate(gbt_predictions)\n",
        "print(\"F1-score du gbt:\", f1_score_gbt)"
      ]
    },
    {
      "cell_type": "markdown",
      "id": "6rAH5xAQ5Y1l",
      "metadata": {
        "id": "6rAH5xAQ5Y1l"
      },
      "source": [
        "Nous avons choisi ces 2 modeles car ils sont robustes aux donnees mais apres l evaluation des modeles avec les metriques nous remarquons que notre modele avec Gradient Boosted Trees  est plus performant . Nous continuons avec ce modele."
      ]
    },
    {
      "cell_type": "markdown",
      "id": "7ulsg-5vHRzH",
      "metadata": {
        "id": "7ulsg-5vHRzH"
      },
      "source": [
        "**# Optimisation du modèle: explorer différentes approches pour améliorer les\n",
        "performances du modèle, telles que la sélection de caractéristiques, le réglage\n",
        " des hyperparamètres et l'ensemble d'algorithmes.**"
      ]
    },
    {
      "cell_type": "code",
      "execution_count": null,
      "id": "GFkeYevQIBVJ",
      "metadata": {
        "colab": {
          "background_save": true
        },
        "id": "GFkeYevQIBVJ"
      },
      "outputs": [],
      "source": [
        "#Définition des autres modèles\n",
        "dt = DecisionTreeClassifier(labelCol=\"Class\", featuresCol=\"features\")\n",
        "lr = LogisticRegression(labelCol=\"Class\", featuresCol=\"features\")"
      ]
    },
    {
      "cell_type": "code",
      "execution_count": null,
      "id": "kR-WIbm4Oqv2",
      "metadata": {
        "colab": {
          "background_save": true
        },
        "id": "kR-WIbm4Oqv2"
      },
      "outputs": [],
      "source": [
        "# Définition des grilles d'hyperparamètres pour chaque modèle\n",
        "param_grid_dt = ParamGridBuilder() \\\n",
        "    .addGrid(dt.maxDepth, [5, 10, 15]) \\\n",
        "    .addGrid(dt.maxBins, [20, 30, 40]) \\\n",
        "    .build()\n",
        "\n",
        "param_grid_lr = ParamGridBuilder() \\\n",
        "    .addGrid(lr.regParam, [0.1, 0.01]) \\\n",
        "    .addGrid(lr.elasticNetParam, [0.0, 0.5]) \\\n",
        "    .build()"
      ]
    },
    {
      "cell_type": "code",
      "execution_count": null,
      "id": "yGu9-4S6Oy9n",
      "metadata": {
        "colab": {
          "background_save": true
        },
        "id": "yGu9-4S6Oy9n"
      },
      "outputs": [],
      "source": [
        "# Combinaison des grilles d'hyperparamètres pour former un ensemble d'algorithmes\n",
        "ensemble_param_grid = param_grid_dt + param_grid_lr"
      ]
    },
    {
      "cell_type": "code",
      "execution_count": null,
      "id": "KsCRio4nIJns",
      "metadata": {
        "colab": {
          "background_save": true,
          "base_uri": "https://localhost:8080/"
        },
        "id": "KsCRio4nIJns",
        "outputId": "5ac49544-0ed0-4bb3-c3ab-cf959cca6fb1"
      },
      "outputs": [
        {
          "name": "stdout",
          "output_type": "stream",
          "text": [
            "{Param(parent='DecisionTreeClassifier_abd7a8aa13bd', name='maxDepth', doc='Maximum depth of the tree. (>= 0) E.g., depth 0 means 1 leaf node; depth 1 means 1 internal node + 2 leaf nodes. Must be in range [0, 30].'): 5, Param(parent='DecisionTreeClassifier_abd7a8aa13bd', name='maxBins', doc='Max number of bins for discretizing continuous features.  Must be >=2 and >= number of categories for any categorical feature.'): 20}\n",
            "{Param(parent='DecisionTreeClassifier_abd7a8aa13bd', name='maxDepth', doc='Maximum depth of the tree. (>= 0) E.g., depth 0 means 1 leaf node; depth 1 means 1 internal node + 2 leaf nodes. Must be in range [0, 30].'): 5, Param(parent='DecisionTreeClassifier_abd7a8aa13bd', name='maxBins', doc='Max number of bins for discretizing continuous features.  Must be >=2 and >= number of categories for any categorical feature.'): 30}\n",
            "{Param(parent='DecisionTreeClassifier_abd7a8aa13bd', name='maxDepth', doc='Maximum depth of the tree. (>= 0) E.g., depth 0 means 1 leaf node; depth 1 means 1 internal node + 2 leaf nodes. Must be in range [0, 30].'): 5, Param(parent='DecisionTreeClassifier_abd7a8aa13bd', name='maxBins', doc='Max number of bins for discretizing continuous features.  Must be >=2 and >= number of categories for any categorical feature.'): 40}\n",
            "{Param(parent='DecisionTreeClassifier_abd7a8aa13bd', name='maxDepth', doc='Maximum depth of the tree. (>= 0) E.g., depth 0 means 1 leaf node; depth 1 means 1 internal node + 2 leaf nodes. Must be in range [0, 30].'): 10, Param(parent='DecisionTreeClassifier_abd7a8aa13bd', name='maxBins', doc='Max number of bins for discretizing continuous features.  Must be >=2 and >= number of categories for any categorical feature.'): 20}\n",
            "{Param(parent='DecisionTreeClassifier_abd7a8aa13bd', name='maxDepth', doc='Maximum depth of the tree. (>= 0) E.g., depth 0 means 1 leaf node; depth 1 means 1 internal node + 2 leaf nodes. Must be in range [0, 30].'): 10, Param(parent='DecisionTreeClassifier_abd7a8aa13bd', name='maxBins', doc='Max number of bins for discretizing continuous features.  Must be >=2 and >= number of categories for any categorical feature.'): 30}\n",
            "{Param(parent='DecisionTreeClassifier_abd7a8aa13bd', name='maxDepth', doc='Maximum depth of the tree. (>= 0) E.g., depth 0 means 1 leaf node; depth 1 means 1 internal node + 2 leaf nodes. Must be in range [0, 30].'): 10, Param(parent='DecisionTreeClassifier_abd7a8aa13bd', name='maxBins', doc='Max number of bins for discretizing continuous features.  Must be >=2 and >= number of categories for any categorical feature.'): 40}\n",
            "{Param(parent='DecisionTreeClassifier_abd7a8aa13bd', name='maxDepth', doc='Maximum depth of the tree. (>= 0) E.g., depth 0 means 1 leaf node; depth 1 means 1 internal node + 2 leaf nodes. Must be in range [0, 30].'): 15, Param(parent='DecisionTreeClassifier_abd7a8aa13bd', name='maxBins', doc='Max number of bins for discretizing continuous features.  Must be >=2 and >= number of categories for any categorical feature.'): 20}\n",
            "{Param(parent='DecisionTreeClassifier_abd7a8aa13bd', name='maxDepth', doc='Maximum depth of the tree. (>= 0) E.g., depth 0 means 1 leaf node; depth 1 means 1 internal node + 2 leaf nodes. Must be in range [0, 30].'): 15, Param(parent='DecisionTreeClassifier_abd7a8aa13bd', name='maxBins', doc='Max number of bins for discretizing continuous features.  Must be >=2 and >= number of categories for any categorical feature.'): 30}\n",
            "{Param(parent='DecisionTreeClassifier_abd7a8aa13bd', name='maxDepth', doc='Maximum depth of the tree. (>= 0) E.g., depth 0 means 1 leaf node; depth 1 means 1 internal node + 2 leaf nodes. Must be in range [0, 30].'): 15, Param(parent='DecisionTreeClassifier_abd7a8aa13bd', name='maxBins', doc='Max number of bins for discretizing continuous features.  Must be >=2 and >= number of categories for any categorical feature.'): 40}\n",
            "{Param(parent='LogisticRegression_13862ac78062', name='regParam', doc='regularization parameter (>= 0).'): 0.1, Param(parent='LogisticRegression_13862ac78062', name='elasticNetParam', doc='the ElasticNet mixing parameter, in range [0, 1]. For alpha = 0, the penalty is an L2 penalty. For alpha = 1, it is an L1 penalty.'): 0.0}\n",
            "{Param(parent='LogisticRegression_13862ac78062', name='regParam', doc='regularization parameter (>= 0).'): 0.1, Param(parent='LogisticRegression_13862ac78062', name='elasticNetParam', doc='the ElasticNet mixing parameter, in range [0, 1]. For alpha = 0, the penalty is an L2 penalty. For alpha = 1, it is an L1 penalty.'): 0.5}\n",
            "{Param(parent='LogisticRegression_13862ac78062', name='regParam', doc='regularization parameter (>= 0).'): 0.01, Param(parent='LogisticRegression_13862ac78062', name='elasticNetParam', doc='the ElasticNet mixing parameter, in range [0, 1]. For alpha = 0, the penalty is an L2 penalty. For alpha = 1, it is an L1 penalty.'): 0.0}\n",
            "{Param(parent='LogisticRegression_13862ac78062', name='regParam', doc='regularization parameter (>= 0).'): 0.01, Param(parent='LogisticRegression_13862ac78062', name='elasticNetParam', doc='the ElasticNet mixing parameter, in range [0, 1]. For alpha = 0, the penalty is an L2 penalty. For alpha = 1, it is an L1 penalty.'): 0.5}\n"
          ]
        }
      ],
      "source": [
        "# Affichage de l'ensemble des grilles d'hyperparamètres\n",
        "for param_grid in ensemble_param_grid:\n",
        "    print(param_grid)"
      ]
    },
    {
      "cell_type": "code",
      "execution_count": null,
      "id": "YKPYQLBISxBh",
      "metadata": {
        "colab": {
          "background_save": true
        },
        "id": "YKPYQLBISxBh"
      },
      "outputs": [],
      "source": [
        "evaluator = MulticlassClassificationEvaluator(metricName=\"accuracy\")"
      ]
    },
    {
      "cell_type": "code",
      "execution_count": null,
      "id": "wzmKFWbPS3vT",
      "metadata": {
        "colab": {
          "background_save": true
        },
        "id": "wzmKFWbPS3vT"
      },
      "outputs": [],
      "source": [
        "cv_dt = CrossValidator(estimator=dt,\n",
        "                       estimatorParamMaps=param_grid_dt,\n",
        "                       evaluator=evaluator,\n",
        "                       numFolds=5)\n",
        "\n",
        "cv_lr = CrossValidator(estimator=lr,\n",
        "                       estimatorParamMaps=param_grid_lr,\n",
        "                       evaluator=evaluator,\n",
        "                       numFolds=5)\n"
      ]
    },
    {
      "cell_type": "markdown",
      "id": "HSv549trP4jx",
      "metadata": {
        "id": "HSv549trP4jx"
      },
      "source": [
        "**• Déploiement du modèle: déployer le modèle en utilisant Spark Streaming pour\n",
        "la détection en temps réel de la fraude bancaire.**"
      ]
    },
    {
      "cell_type": "markdown",
      "source": [
        "Sauvegarde du **modele**"
      ],
      "metadata": {
        "id": "uW-re9l_VXuJ"
      },
      "id": "uW-re9l_VXuJ"
    },
    {
      "cell_type": "code",
      "execution_count": null,
      "id": "IaCIIc4-rJpt",
      "metadata": {
        "colab": {
          "background_save": true
        },
        "id": "IaCIIc4-rJpt"
      },
      "outputs": [],
      "source": [
        "drive.mount('/content/drive')"
      ]
    },
    {
      "cell_type": "code",
      "execution_count": null,
      "id": "uoGPcSjKK4c7",
      "metadata": {
        "id": "uoGPcSjKK4c7"
      },
      "outputs": [],
      "source": [
        "gbt_model.save(\"/content/drive/Colab Notebooks/examenBigdata/gbt_model\")"
      ]
    },
    {
      "cell_type": "code",
      "execution_count": null,
      "id": "b2R7rSQ8MKAW",
      "metadata": {
        "id": "b2R7rSQ8MKAW"
      },
      "outputs": [],
      "source": [
        "from pyspark.ml.classification import GBTClassificationModel"
      ]
    },
    {
      "cell_type": "markdown",
      "id": "MnJBATzIMQjL",
      "metadata": {
        "id": "MnJBATzIMQjL"
      },
      "source": []
    },
    {
      "cell_type": "code",
      "execution_count": null,
      "id": "ek7vEQmSLvtS",
      "metadata": {
        "id": "ek7vEQmSLvtS"
      },
      "outputs": [],
      "source": [
        "loaded_model = GBTClassificationModel.load(\"/content/drive/Colab Notebooks/examenBigdata/gbt_model\")"
      ]
    },
    {
      "cell_type": "code",
      "execution_count": 1,
      "id": "q8rrbuKaNTr-",
      "metadata": {
        "colab": {
          "base_uri": "https://localhost:8080/"
        },
        "id": "q8rrbuKaNTr-",
        "outputId": "8f704e84-9c1f-451a-cfeb-331a1503c14e"
      },
      "outputs": [
        {
          "output_type": "stream",
          "name": "stdout",
          "text": [
            "ls: cannot access '/content/drive/examenBigdata/gbt_model': No such file or directory\n"
          ]
        }
      ],
      "source": [
        "!ls \"/content/drive/examenBigdata/gbt_model\""
      ]
    },
    {
      "cell_type": "markdown",
      "source": [
        "Pour la suite du deploiement vous avons expliquer dans un document appele documentation que vous pourrez voir sur notre repository.\n",
        "Vous avons choisi ce format car nous avons pu faire le deploiement par manque d outils necessaire"
      ],
      "metadata": {
        "id": "DkWqLW3fqLRd"
      },
      "id": "DkWqLW3fqLRd"
    },
    {
      "cell_type": "markdown",
      "source": [],
      "metadata": {
        "id": "Zx5WBFOTVWh3"
      },
      "id": "Zx5WBFOTVWh3"
    }
  ],
  "metadata": {
    "colab": {
      "provenance": []
    },
    "kernelspec": {
      "display_name": "Python 3 (ipykernel)",
      "language": "python",
      "name": "python3"
    },
    "language_info": {
      "codemirror_mode": {
        "name": "ipython",
        "version": 3
      },
      "file_extension": ".py",
      "mimetype": "text/x-python",
      "name": "python",
      "nbconvert_exporter": "python",
      "pygments_lexer": "ipython3",
      "version": "3.11.5"
    }
  },
  "nbformat": 4,
  "nbformat_minor": 5
}