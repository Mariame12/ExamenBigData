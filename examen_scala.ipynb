{
  "cells": [
    {
      "cell_type": "markdown",
      "id": "d034781b",
      "metadata": {
        "id": "d034781b"
      },
      "source": [
        "# Projet detection des transactions frauduleuses"
      ]
    },
    {
      "cell_type": "markdown",
      "source": [
        ":Nom des etudiants : *Mariame Sas CONTE 218254: et Oumar Alpha yaya CISSE 218015*\n",
        "\n"
      ],
      "metadata": {
        "id": "1wkpVScwIYzO"
      },
      "id": "1wkpVScwIYzO"
    },
    {
      "cell_type": "markdown",
      "id": "d411f6f2",
      "metadata": {
        "id": "d411f6f2"
      },
      "source": [
        "## Exploration des données"
      ]
    },
    {
      "cell_type": "code",
      "source": [
        "pip install pyspark"
      ],
      "metadata": {
        "colab": {
          "base_uri": "https://localhost:8080/"
        },
        "id": "cBefW90fwvcE",
        "outputId": "eb3f3574-f7a9-4fc8-82bc-221b2de831ac"
      },
      "id": "cBefW90fwvcE",
      "execution_count": null,
      "outputs": [
        {
          "output_type": "stream",
          "name": "stdout",
          "text": [
            "Collecting pyspark\n",
            "  Downloading pyspark-3.5.1.tar.gz (317.0 MB)\n",
            "\u001b[2K     \u001b[90m━━━━━━━━━━━━━━━━━━━━━━━━━━━━━━━━━━━━━━━━\u001b[0m \u001b[32m317.0/317.0 MB\u001b[0m \u001b[31m1.8 MB/s\u001b[0m eta \u001b[36m0:00:00\u001b[0m\n",
            "\u001b[?25h  Preparing metadata (setup.py) ... \u001b[?25l\u001b[?25hdone\n",
            "Requirement already satisfied: py4j==0.10.9.7 in /usr/local/lib/python3.10/dist-packages (from pyspark) (0.10.9.7)\n",
            "Building wheels for collected packages: pyspark\n",
            "  Building wheel for pyspark (setup.py) ... \u001b[?25l\u001b[?25hdone\n",
            "  Created wheel for pyspark: filename=pyspark-3.5.1-py2.py3-none-any.whl size=317488491 sha256=b4d1f95d426f0cc5e68639e1b51354306458b7afad2f36d6d9cb39abefead959\n",
            "  Stored in directory: /root/.cache/pip/wheels/80/1d/60/2c256ed38dddce2fdd93be545214a63e02fbd8d74fb0b7f3a6\n",
            "Successfully built pyspark\n",
            "Installing collected packages: pyspark\n",
            "Successfully installed pyspark-3.5.1\n"
          ]
        }
      ]
    },
    {
      "cell_type": "code",
      "execution_count": null,
      "id": "b2093935",
      "metadata": {
        "id": "b2093935"
      },
      "outputs": [],
      "source": [
        "# Importation des bibliotheques\n",
        "from pyspark.sql import SparkSession\n",
        "from matplotlib import pyplot as plt\n",
        "import seaborn as sns\n",
        "from sklearn.utils import resample\n",
        "import pandas as pd\n",
        "from pyspark.ml.feature import VectorAssembler\n",
        "from pyspark.ml.classification import RandomForestClassifier, GBTClassifier\n",
        "from pyspark.sql import functions as F\n",
        "from pyspark.ml.tuning import ParamGridBuilder, CrossValidator\n",
        "from pyspark.ml.evaluation import BinaryClassificationEvaluator\n",
        "from pyspark.ml.feature import ChiSqSelector\n",
        "from pyspark.ml.evaluation import MulticlassClassificationEvaluator"
      ]
    },
    {
      "cell_type": "code",
      "execution_count": null,
      "id": "d605d2db",
      "metadata": {
        "id": "d605d2db"
      },
      "outputs": [],
      "source": [
        "spark = SparkSession.builder \\\n",
        "                    .master('local[*]') \\\n",
        "                    .appName('Detection de fraude') \\\n",
        "                    .getOrCreate()"
      ]
    },
    {
      "cell_type": "code",
      "execution_count": null,
      "id": "c345cc13",
      "metadata": {
        "id": "c345cc13",
        "colab": {
          "base_uri": "https://localhost:8080/",
          "height": 339
        },
        "outputId": "560ef0b2-1521-489a-9837-4ce46b02c628"
      },
      "outputs": [
        {
          "output_type": "error",
          "ename": "AnalysisException",
          "evalue": "[PATH_NOT_FOUND] Path does not exist: file:/content/creditcard.csv.",
          "traceback": [
            "\u001b[0;31m---------------------------------------------------------------------------\u001b[0m",
            "\u001b[0;31mAnalysisException\u001b[0m                         Traceback (most recent call last)",
            "\u001b[0;32m<ipython-input-4-dedc796118f6>\u001b[0m in \u001b[0;36m<cell line: 2>\u001b[0;34m()\u001b[0m\n\u001b[1;32m      1\u001b[0m \u001b[0;31m#Importation de la base de donnees\u001b[0m\u001b[0;34m\u001b[0m\u001b[0;34m\u001b[0m\u001b[0m\n\u001b[0;32m----> 2\u001b[0;31m df = spark.read.csv('creditcard.csv',\n\u001b[0m\u001b[1;32m      3\u001b[0m                          \u001b[0msep\u001b[0m\u001b[0;34m=\u001b[0m\u001b[0;34m','\u001b[0m\u001b[0;34m,\u001b[0m\u001b[0;34m\u001b[0m\u001b[0;34m\u001b[0m\u001b[0m\n\u001b[1;32m      4\u001b[0m                          header=True, inferSchema =True)\n",
            "\u001b[0;32m/usr/local/lib/python3.10/dist-packages/pyspark/sql/readwriter.py\u001b[0m in \u001b[0;36mcsv\u001b[0;34m(self, path, schema, sep, encoding, quote, escape, comment, header, inferSchema, ignoreLeadingWhiteSpace, ignoreTrailingWhiteSpace, nullValue, nanValue, positiveInf, negativeInf, dateFormat, timestampFormat, maxColumns, maxCharsPerColumn, maxMalformedLogPerPartition, mode, columnNameOfCorruptRecord, multiLine, charToEscapeQuoteEscaping, samplingRatio, enforceSchema, emptyValue, locale, lineSep, pathGlobFilter, recursiveFileLookup, modifiedBefore, modifiedAfter, unescapedQuoteHandling)\u001b[0m\n\u001b[1;32m    738\u001b[0m         \u001b[0;32mif\u001b[0m \u001b[0mtype\u001b[0m\u001b[0;34m(\u001b[0m\u001b[0mpath\u001b[0m\u001b[0;34m)\u001b[0m \u001b[0;34m==\u001b[0m \u001b[0mlist\u001b[0m\u001b[0;34m:\u001b[0m\u001b[0;34m\u001b[0m\u001b[0;34m\u001b[0m\u001b[0m\n\u001b[1;32m    739\u001b[0m             \u001b[0;32massert\u001b[0m \u001b[0mself\u001b[0m\u001b[0;34m.\u001b[0m\u001b[0m_spark\u001b[0m\u001b[0;34m.\u001b[0m\u001b[0m_sc\u001b[0m\u001b[0;34m.\u001b[0m\u001b[0m_jvm\u001b[0m \u001b[0;32mis\u001b[0m \u001b[0;32mnot\u001b[0m \u001b[0;32mNone\u001b[0m\u001b[0;34m\u001b[0m\u001b[0;34m\u001b[0m\u001b[0m\n\u001b[0;32m--> 740\u001b[0;31m             \u001b[0;32mreturn\u001b[0m \u001b[0mself\u001b[0m\u001b[0;34m.\u001b[0m\u001b[0m_df\u001b[0m\u001b[0;34m(\u001b[0m\u001b[0mself\u001b[0m\u001b[0;34m.\u001b[0m\u001b[0m_jreader\u001b[0m\u001b[0;34m.\u001b[0m\u001b[0mcsv\u001b[0m\u001b[0;34m(\u001b[0m\u001b[0mself\u001b[0m\u001b[0;34m.\u001b[0m\u001b[0m_spark\u001b[0m\u001b[0;34m.\u001b[0m\u001b[0m_sc\u001b[0m\u001b[0;34m.\u001b[0m\u001b[0m_jvm\u001b[0m\u001b[0;34m.\u001b[0m\u001b[0mPythonUtils\u001b[0m\u001b[0;34m.\u001b[0m\u001b[0mtoSeq\u001b[0m\u001b[0;34m(\u001b[0m\u001b[0mpath\u001b[0m\u001b[0;34m)\u001b[0m\u001b[0;34m)\u001b[0m\u001b[0;34m)\u001b[0m\u001b[0;34m\u001b[0m\u001b[0;34m\u001b[0m\u001b[0m\n\u001b[0m\u001b[1;32m    741\u001b[0m         \u001b[0;32melif\u001b[0m \u001b[0misinstance\u001b[0m\u001b[0;34m(\u001b[0m\u001b[0mpath\u001b[0m\u001b[0;34m,\u001b[0m \u001b[0mRDD\u001b[0m\u001b[0;34m)\u001b[0m\u001b[0;34m:\u001b[0m\u001b[0;34m\u001b[0m\u001b[0;34m\u001b[0m\u001b[0m\n\u001b[1;32m    742\u001b[0m \u001b[0;34m\u001b[0m\u001b[0m\n",
            "\u001b[0;32m/usr/local/lib/python3.10/dist-packages/py4j/java_gateway.py\u001b[0m in \u001b[0;36m__call__\u001b[0;34m(self, *args)\u001b[0m\n\u001b[1;32m   1320\u001b[0m \u001b[0;34m\u001b[0m\u001b[0m\n\u001b[1;32m   1321\u001b[0m         \u001b[0manswer\u001b[0m \u001b[0;34m=\u001b[0m \u001b[0mself\u001b[0m\u001b[0;34m.\u001b[0m\u001b[0mgateway_client\u001b[0m\u001b[0;34m.\u001b[0m\u001b[0msend_command\u001b[0m\u001b[0;34m(\u001b[0m\u001b[0mcommand\u001b[0m\u001b[0;34m)\u001b[0m\u001b[0;34m\u001b[0m\u001b[0;34m\u001b[0m\u001b[0m\n\u001b[0;32m-> 1322\u001b[0;31m         return_value = get_return_value(\n\u001b[0m\u001b[1;32m   1323\u001b[0m             answer, self.gateway_client, self.target_id, self.name)\n\u001b[1;32m   1324\u001b[0m \u001b[0;34m\u001b[0m\u001b[0m\n",
            "\u001b[0;32m/usr/local/lib/python3.10/dist-packages/pyspark/errors/exceptions/captured.py\u001b[0m in \u001b[0;36mdeco\u001b[0;34m(*a, **kw)\u001b[0m\n\u001b[1;32m    183\u001b[0m                 \u001b[0;31m# Hide where the exception came from that shows a non-Pythonic\u001b[0m\u001b[0;34m\u001b[0m\u001b[0;34m\u001b[0m\u001b[0m\n\u001b[1;32m    184\u001b[0m                 \u001b[0;31m# JVM exception message.\u001b[0m\u001b[0;34m\u001b[0m\u001b[0;34m\u001b[0m\u001b[0m\n\u001b[0;32m--> 185\u001b[0;31m                 \u001b[0;32mraise\u001b[0m \u001b[0mconverted\u001b[0m \u001b[0;32mfrom\u001b[0m \u001b[0;32mNone\u001b[0m\u001b[0;34m\u001b[0m\u001b[0;34m\u001b[0m\u001b[0m\n\u001b[0m\u001b[1;32m    186\u001b[0m             \u001b[0;32melse\u001b[0m\u001b[0;34m:\u001b[0m\u001b[0;34m\u001b[0m\u001b[0;34m\u001b[0m\u001b[0m\n\u001b[1;32m    187\u001b[0m                 \u001b[0;32mraise\u001b[0m\u001b[0;34m\u001b[0m\u001b[0;34m\u001b[0m\u001b[0m\n",
            "\u001b[0;31mAnalysisException\u001b[0m: [PATH_NOT_FOUND] Path does not exist: file:/content/creditcard.csv."
          ]
        }
      ],
      "source": [
        "#Importation de la base de donnees\n",
        "df = spark.read.csv('creditcard.csv',\n",
        "                         sep=',',\n",
        "                         header=True, inferSchema =True)"
      ]
    },
    {
      "cell_type": "code",
      "execution_count": null,
      "id": "7979c3f1",
      "metadata": {
        "colab": {
          "base_uri": "https://localhost:8080/",
          "height": 256
        },
        "id": "7979c3f1",
        "outputId": "58967679-30d3-4817-ad67-999ee4635baf"
      },
      "outputs": [
        {
          "output_type": "execute_result",
          "data": {
            "text/plain": [
              "   Time        V1        V2        V3        V4        V5        V6        V7  \\\n",
              "0     0 -1.359807 -0.072781  2.536347  1.378155 -0.338321  0.462388  0.239599   \n",
              "1     0  1.191857  0.266151  0.166480  0.448154  0.060018 -0.082361 -0.078803   \n",
              "2     1 -1.358354 -1.340163  1.773209  0.379780 -0.503198  1.800499  0.791461   \n",
              "3     1 -0.966272 -0.185226  1.792993 -0.863291 -0.010309  1.247203  0.237609   \n",
              "4     2 -1.158233  0.877737  1.548718  0.403034 -0.407193  0.095921  0.592941   \n",
              "\n",
              "         V8        V9  ...       V21       V22       V23       V24       V25  \\\n",
              "0  0.098698  0.363787  ... -0.018307  0.277838 -0.110474  0.066928  0.128539   \n",
              "1  0.085102 -0.255425  ... -0.225775 -0.638672  0.101288 -0.339846  0.167170   \n",
              "2  0.247676 -1.514654  ...  0.247998  0.771679  0.909412 -0.689281 -0.327642   \n",
              "3  0.377436 -1.387024  ... -0.108300  0.005274 -0.190321 -1.175575  0.647376   \n",
              "4 -0.270533  0.817739  ... -0.009431  0.798278 -0.137458  0.141267 -0.206010   \n",
              "\n",
              "        V26       V27       V28  Amount  Class  \n",
              "0 -0.189115  0.133558 -0.021053  149.62      0  \n",
              "1  0.125895 -0.008983  0.014724    2.69      0  \n",
              "2 -0.139097 -0.055353 -0.059752  378.66      0  \n",
              "3 -0.221929  0.062723  0.061458  123.50      0  \n",
              "4  0.502292  0.219422  0.215153   69.99      0  \n",
              "\n",
              "[5 rows x 31 columns]"
            ],
            "text/html": [
              "\n",
              "  <div id=\"df-eb4cb6f1-b61b-4333-a50f-2e6f58746602\" class=\"colab-df-container\">\n",
              "    <div>\n",
              "<style scoped>\n",
              "    .dataframe tbody tr th:only-of-type {\n",
              "        vertical-align: middle;\n",
              "    }\n",
              "\n",
              "    .dataframe tbody tr th {\n",
              "        vertical-align: top;\n",
              "    }\n",
              "\n",
              "    .dataframe thead th {\n",
              "        text-align: right;\n",
              "    }\n",
              "</style>\n",
              "<table border=\"1\" class=\"dataframe\">\n",
              "  <thead>\n",
              "    <tr style=\"text-align: right;\">\n",
              "      <th></th>\n",
              "      <th>Time</th>\n",
              "      <th>V1</th>\n",
              "      <th>V2</th>\n",
              "      <th>V3</th>\n",
              "      <th>V4</th>\n",
              "      <th>V5</th>\n",
              "      <th>V6</th>\n",
              "      <th>V7</th>\n",
              "      <th>V8</th>\n",
              "      <th>V9</th>\n",
              "      <th>...</th>\n",
              "      <th>V21</th>\n",
              "      <th>V22</th>\n",
              "      <th>V23</th>\n",
              "      <th>V24</th>\n",
              "      <th>V25</th>\n",
              "      <th>V26</th>\n",
              "      <th>V27</th>\n",
              "      <th>V28</th>\n",
              "      <th>Amount</th>\n",
              "      <th>Class</th>\n",
              "    </tr>\n",
              "  </thead>\n",
              "  <tbody>\n",
              "    <tr>\n",
              "      <th>0</th>\n",
              "      <td>0</td>\n",
              "      <td>-1.359807</td>\n",
              "      <td>-0.072781</td>\n",
              "      <td>2.536347</td>\n",
              "      <td>1.378155</td>\n",
              "      <td>-0.338321</td>\n",
              "      <td>0.462388</td>\n",
              "      <td>0.239599</td>\n",
              "      <td>0.098698</td>\n",
              "      <td>0.363787</td>\n",
              "      <td>...</td>\n",
              "      <td>-0.018307</td>\n",
              "      <td>0.277838</td>\n",
              "      <td>-0.110474</td>\n",
              "      <td>0.066928</td>\n",
              "      <td>0.128539</td>\n",
              "      <td>-0.189115</td>\n",
              "      <td>0.133558</td>\n",
              "      <td>-0.021053</td>\n",
              "      <td>149.62</td>\n",
              "      <td>0</td>\n",
              "    </tr>\n",
              "    <tr>\n",
              "      <th>1</th>\n",
              "      <td>0</td>\n",
              "      <td>1.191857</td>\n",
              "      <td>0.266151</td>\n",
              "      <td>0.166480</td>\n",
              "      <td>0.448154</td>\n",
              "      <td>0.060018</td>\n",
              "      <td>-0.082361</td>\n",
              "      <td>-0.078803</td>\n",
              "      <td>0.085102</td>\n",
              "      <td>-0.255425</td>\n",
              "      <td>...</td>\n",
              "      <td>-0.225775</td>\n",
              "      <td>-0.638672</td>\n",
              "      <td>0.101288</td>\n",
              "      <td>-0.339846</td>\n",
              "      <td>0.167170</td>\n",
              "      <td>0.125895</td>\n",
              "      <td>-0.008983</td>\n",
              "      <td>0.014724</td>\n",
              "      <td>2.69</td>\n",
              "      <td>0</td>\n",
              "    </tr>\n",
              "    <tr>\n",
              "      <th>2</th>\n",
              "      <td>1</td>\n",
              "      <td>-1.358354</td>\n",
              "      <td>-1.340163</td>\n",
              "      <td>1.773209</td>\n",
              "      <td>0.379780</td>\n",
              "      <td>-0.503198</td>\n",
              "      <td>1.800499</td>\n",
              "      <td>0.791461</td>\n",
              "      <td>0.247676</td>\n",
              "      <td>-1.514654</td>\n",
              "      <td>...</td>\n",
              "      <td>0.247998</td>\n",
              "      <td>0.771679</td>\n",
              "      <td>0.909412</td>\n",
              "      <td>-0.689281</td>\n",
              "      <td>-0.327642</td>\n",
              "      <td>-0.139097</td>\n",
              "      <td>-0.055353</td>\n",
              "      <td>-0.059752</td>\n",
              "      <td>378.66</td>\n",
              "      <td>0</td>\n",
              "    </tr>\n",
              "    <tr>\n",
              "      <th>3</th>\n",
              "      <td>1</td>\n",
              "      <td>-0.966272</td>\n",
              "      <td>-0.185226</td>\n",
              "      <td>1.792993</td>\n",
              "      <td>-0.863291</td>\n",
              "      <td>-0.010309</td>\n",
              "      <td>1.247203</td>\n",
              "      <td>0.237609</td>\n",
              "      <td>0.377436</td>\n",
              "      <td>-1.387024</td>\n",
              "      <td>...</td>\n",
              "      <td>-0.108300</td>\n",
              "      <td>0.005274</td>\n",
              "      <td>-0.190321</td>\n",
              "      <td>-1.175575</td>\n",
              "      <td>0.647376</td>\n",
              "      <td>-0.221929</td>\n",
              "      <td>0.062723</td>\n",
              "      <td>0.061458</td>\n",
              "      <td>123.50</td>\n",
              "      <td>0</td>\n",
              "    </tr>\n",
              "    <tr>\n",
              "      <th>4</th>\n",
              "      <td>2</td>\n",
              "      <td>-1.158233</td>\n",
              "      <td>0.877737</td>\n",
              "      <td>1.548718</td>\n",
              "      <td>0.403034</td>\n",
              "      <td>-0.407193</td>\n",
              "      <td>0.095921</td>\n",
              "      <td>0.592941</td>\n",
              "      <td>-0.270533</td>\n",
              "      <td>0.817739</td>\n",
              "      <td>...</td>\n",
              "      <td>-0.009431</td>\n",
              "      <td>0.798278</td>\n",
              "      <td>-0.137458</td>\n",
              "      <td>0.141267</td>\n",
              "      <td>-0.206010</td>\n",
              "      <td>0.502292</td>\n",
              "      <td>0.219422</td>\n",
              "      <td>0.215153</td>\n",
              "      <td>69.99</td>\n",
              "      <td>0</td>\n",
              "    </tr>\n",
              "  </tbody>\n",
              "</table>\n",
              "<p>5 rows × 31 columns</p>\n",
              "</div>\n",
              "    <div class=\"colab-df-buttons\">\n",
              "\n",
              "  <div class=\"colab-df-container\">\n",
              "    <button class=\"colab-df-convert\" onclick=\"convertToInteractive('df-eb4cb6f1-b61b-4333-a50f-2e6f58746602')\"\n",
              "            title=\"Convert this dataframe to an interactive table.\"\n",
              "            style=\"display:none;\">\n",
              "\n",
              "  <svg xmlns=\"http://www.w3.org/2000/svg\" height=\"24px\" viewBox=\"0 -960 960 960\">\n",
              "    <path d=\"M120-120v-720h720v720H120Zm60-500h600v-160H180v160Zm220 220h160v-160H400v160Zm0 220h160v-160H400v160ZM180-400h160v-160H180v160Zm440 0h160v-160H620v160ZM180-180h160v-160H180v160Zm440 0h160v-160H620v160Z\"/>\n",
              "  </svg>\n",
              "    </button>\n",
              "\n",
              "  <style>\n",
              "    .colab-df-container {\n",
              "      display:flex;\n",
              "      gap: 12px;\n",
              "    }\n",
              "\n",
              "    .colab-df-convert {\n",
              "      background-color: #E8F0FE;\n",
              "      border: none;\n",
              "      border-radius: 50%;\n",
              "      cursor: pointer;\n",
              "      display: none;\n",
              "      fill: #1967D2;\n",
              "      height: 32px;\n",
              "      padding: 0 0 0 0;\n",
              "      width: 32px;\n",
              "    }\n",
              "\n",
              "    .colab-df-convert:hover {\n",
              "      background-color: #E2EBFA;\n",
              "      box-shadow: 0px 1px 2px rgba(60, 64, 67, 0.3), 0px 1px 3px 1px rgba(60, 64, 67, 0.15);\n",
              "      fill: #174EA6;\n",
              "    }\n",
              "\n",
              "    .colab-df-buttons div {\n",
              "      margin-bottom: 4px;\n",
              "    }\n",
              "\n",
              "    [theme=dark] .colab-df-convert {\n",
              "      background-color: #3B4455;\n",
              "      fill: #D2E3FC;\n",
              "    }\n",
              "\n",
              "    [theme=dark] .colab-df-convert:hover {\n",
              "      background-color: #434B5C;\n",
              "      box-shadow: 0px 1px 3px 1px rgba(0, 0, 0, 0.15);\n",
              "      filter: drop-shadow(0px 1px 2px rgba(0, 0, 0, 0.3));\n",
              "      fill: #FFFFFF;\n",
              "    }\n",
              "  </style>\n",
              "\n",
              "    <script>\n",
              "      const buttonEl =\n",
              "        document.querySelector('#df-eb4cb6f1-b61b-4333-a50f-2e6f58746602 button.colab-df-convert');\n",
              "      buttonEl.style.display =\n",
              "        google.colab.kernel.accessAllowed ? 'block' : 'none';\n",
              "\n",
              "      async function convertToInteractive(key) {\n",
              "        const element = document.querySelector('#df-eb4cb6f1-b61b-4333-a50f-2e6f58746602');\n",
              "        const dataTable =\n",
              "          await google.colab.kernel.invokeFunction('convertToInteractive',\n",
              "                                                    [key], {});\n",
              "        if (!dataTable) return;\n",
              "\n",
              "        const docLinkHtml = 'Like what you see? Visit the ' +\n",
              "          '<a target=\"_blank\" href=https://colab.research.google.com/notebooks/data_table.ipynb>data table notebook</a>'\n",
              "          + ' to learn more about interactive tables.';\n",
              "        element.innerHTML = '';\n",
              "        dataTable['output_type'] = 'display_data';\n",
              "        await google.colab.output.renderOutput(dataTable, element);\n",
              "        const docLink = document.createElement('div');\n",
              "        docLink.innerHTML = docLinkHtml;\n",
              "        element.appendChild(docLink);\n",
              "      }\n",
              "    </script>\n",
              "  </div>\n",
              "\n",
              "\n",
              "<div id=\"df-8b770e60-6c18-4301-bf5a-8adb0a4a1dc4\">\n",
              "  <button class=\"colab-df-quickchart\" onclick=\"quickchart('df-8b770e60-6c18-4301-bf5a-8adb0a4a1dc4')\"\n",
              "            title=\"Suggest charts\"\n",
              "            style=\"display:none;\">\n",
              "\n",
              "<svg xmlns=\"http://www.w3.org/2000/svg\" height=\"24px\"viewBox=\"0 0 24 24\"\n",
              "     width=\"24px\">\n",
              "    <g>\n",
              "        <path d=\"M19 3H5c-1.1 0-2 .9-2 2v14c0 1.1.9 2 2 2h14c1.1 0 2-.9 2-2V5c0-1.1-.9-2-2-2zM9 17H7v-7h2v7zm4 0h-2V7h2v10zm4 0h-2v-4h2v4z\"/>\n",
              "    </g>\n",
              "</svg>\n",
              "  </button>\n",
              "\n",
              "<style>\n",
              "  .colab-df-quickchart {\n",
              "      --bg-color: #E8F0FE;\n",
              "      --fill-color: #1967D2;\n",
              "      --hover-bg-color: #E2EBFA;\n",
              "      --hover-fill-color: #174EA6;\n",
              "      --disabled-fill-color: #AAA;\n",
              "      --disabled-bg-color: #DDD;\n",
              "  }\n",
              "\n",
              "  [theme=dark] .colab-df-quickchart {\n",
              "      --bg-color: #3B4455;\n",
              "      --fill-color: #D2E3FC;\n",
              "      --hover-bg-color: #434B5C;\n",
              "      --hover-fill-color: #FFFFFF;\n",
              "      --disabled-bg-color: #3B4455;\n",
              "      --disabled-fill-color: #666;\n",
              "  }\n",
              "\n",
              "  .colab-df-quickchart {\n",
              "    background-color: var(--bg-color);\n",
              "    border: none;\n",
              "    border-radius: 50%;\n",
              "    cursor: pointer;\n",
              "    display: none;\n",
              "    fill: var(--fill-color);\n",
              "    height: 32px;\n",
              "    padding: 0;\n",
              "    width: 32px;\n",
              "  }\n",
              "\n",
              "  .colab-df-quickchart:hover {\n",
              "    background-color: var(--hover-bg-color);\n",
              "    box-shadow: 0 1px 2px rgba(60, 64, 67, 0.3), 0 1px 3px 1px rgba(60, 64, 67, 0.15);\n",
              "    fill: var(--button-hover-fill-color);\n",
              "  }\n",
              "\n",
              "  .colab-df-quickchart-complete:disabled,\n",
              "  .colab-df-quickchart-complete:disabled:hover {\n",
              "    background-color: var(--disabled-bg-color);\n",
              "    fill: var(--disabled-fill-color);\n",
              "    box-shadow: none;\n",
              "  }\n",
              "\n",
              "  .colab-df-spinner {\n",
              "    border: 2px solid var(--fill-color);\n",
              "    border-color: transparent;\n",
              "    border-bottom-color: var(--fill-color);\n",
              "    animation:\n",
              "      spin 1s steps(1) infinite;\n",
              "  }\n",
              "\n",
              "  @keyframes spin {\n",
              "    0% {\n",
              "      border-color: transparent;\n",
              "      border-bottom-color: var(--fill-color);\n",
              "      border-left-color: var(--fill-color);\n",
              "    }\n",
              "    20% {\n",
              "      border-color: transparent;\n",
              "      border-left-color: var(--fill-color);\n",
              "      border-top-color: var(--fill-color);\n",
              "    }\n",
              "    30% {\n",
              "      border-color: transparent;\n",
              "      border-left-color: var(--fill-color);\n",
              "      border-top-color: var(--fill-color);\n",
              "      border-right-color: var(--fill-color);\n",
              "    }\n",
              "    40% {\n",
              "      border-color: transparent;\n",
              "      border-right-color: var(--fill-color);\n",
              "      border-top-color: var(--fill-color);\n",
              "    }\n",
              "    60% {\n",
              "      border-color: transparent;\n",
              "      border-right-color: var(--fill-color);\n",
              "    }\n",
              "    80% {\n",
              "      border-color: transparent;\n",
              "      border-right-color: var(--fill-color);\n",
              "      border-bottom-color: var(--fill-color);\n",
              "    }\n",
              "    90% {\n",
              "      border-color: transparent;\n",
              "      border-bottom-color: var(--fill-color);\n",
              "    }\n",
              "  }\n",
              "</style>\n",
              "\n",
              "  <script>\n",
              "    async function quickchart(key) {\n",
              "      const quickchartButtonEl =\n",
              "        document.querySelector('#' + key + ' button');\n",
              "      quickchartButtonEl.disabled = true;  // To prevent multiple clicks.\n",
              "      quickchartButtonEl.classList.add('colab-df-spinner');\n",
              "      try {\n",
              "        const charts = await google.colab.kernel.invokeFunction(\n",
              "            'suggestCharts', [key], {});\n",
              "      } catch (error) {\n",
              "        console.error('Error during call to suggestCharts:', error);\n",
              "      }\n",
              "      quickchartButtonEl.classList.remove('colab-df-spinner');\n",
              "      quickchartButtonEl.classList.add('colab-df-quickchart-complete');\n",
              "    }\n",
              "    (() => {\n",
              "      let quickchartButtonEl =\n",
              "        document.querySelector('#df-8b770e60-6c18-4301-bf5a-8adb0a4a1dc4 button');\n",
              "      quickchartButtonEl.style.display =\n",
              "        google.colab.kernel.accessAllowed ? 'block' : 'none';\n",
              "    })();\n",
              "  </script>\n",
              "</div>\n",
              "\n",
              "    </div>\n",
              "  </div>\n"
            ],
            "application/vnd.google.colaboratory.intrinsic+json": {
              "type": "dataframe"
            }
          },
          "metadata": {},
          "execution_count": 5
        }
      ],
      "source": [
        "#Voir les 5 premieres lignes du dataframe\n",
        "df.limit(5).toPandas()"
      ]
    },
    {
      "cell_type": "code",
      "execution_count": null,
      "id": "b4c4a6a4",
      "metadata": {
        "id": "b4c4a6a4"
      },
      "outputs": [],
      "source": [
        "df = df.toPandas()"
      ]
    },
    {
      "cell_type": "code",
      "execution_count": null,
      "id": "9fe69be4",
      "metadata": {
        "colab": {
          "base_uri": "https://localhost:8080/",
          "height": 256
        },
        "id": "9fe69be4",
        "outputId": "b5735b60-84d3-4570-8ad0-7bdf0a5e38ef"
      },
      "outputs": [
        {
          "output_type": "execute_result",
          "data": {
            "text/plain": [
              "        Time        V1        V2        V3        V4        V5        V6  \\\n",
              "45641  42436 -2.481639 -2.439949  0.363642  1.216827  2.572442 -1.264220   \n",
              "45642  42436  1.223475  0.014944  0.471312 -0.038410 -0.566793 -0.867970   \n",
              "45643  42436  1.258657  0.421016  0.325437  0.684259 -0.292529 -1.052786   \n",
              "45644  42437 -0.500147  1.000770  1.809639 -0.114551  0.333865 -0.577076   \n",
              "45645  42437 -0.652459  0.177290  1.955607 -1.879724 -0.368457 -0.575021   \n",
              "\n",
              "             V7        V8        V9  ...       V21       V22       V23  \\\n",
              "45641 -0.443652  0.075853  0.073188  ... -0.039426  0.480591  1.779358   \n",
              "45642 -0.058213 -0.144080  0.164904  ... -0.053292 -0.093680  0.106348   \n",
              "45643  0.145228 -0.253567 -0.100521  ... -0.278029 -0.757417  0.119613   \n",
              "45644  1.062325 -0.513050 -0.048285  ... -0.193814 -0.161410  0.036965   \n",
              "45645  0.532398 -0.356749 -0.962237  ... -0.531785 -0.582165  0.037794   \n",
              "\n",
              "            V24       V25       V26       V27       V28  Amount  Class  \n",
              "45641 -0.756700 -0.161099  0.685617  0.223071  0.139619    0.00      0  \n",
              "45642  0.471407  0.135555  0.968336 -0.065171  0.005184    7.49      0  \n",
              "45643  0.369393  0.246145  0.091553 -0.017156  0.032557    0.89      0  \n",
              "45644  0.400154 -0.802486 -0.076097 -0.214317 -0.229160    2.69      0  \n",
              "45645  0.331240 -0.472601  0.652403  0.089295 -0.226742   20.00      0  \n",
              "\n",
              "[5 rows x 31 columns]"
            ],
            "text/html": [
              "\n",
              "  <div id=\"df-8cea859c-9564-4aa6-8141-1895314f4005\" class=\"colab-df-container\">\n",
              "    <div>\n",
              "<style scoped>\n",
              "    .dataframe tbody tr th:only-of-type {\n",
              "        vertical-align: middle;\n",
              "    }\n",
              "\n",
              "    .dataframe tbody tr th {\n",
              "        vertical-align: top;\n",
              "    }\n",
              "\n",
              "    .dataframe thead th {\n",
              "        text-align: right;\n",
              "    }\n",
              "</style>\n",
              "<table border=\"1\" class=\"dataframe\">\n",
              "  <thead>\n",
              "    <tr style=\"text-align: right;\">\n",
              "      <th></th>\n",
              "      <th>Time</th>\n",
              "      <th>V1</th>\n",
              "      <th>V2</th>\n",
              "      <th>V3</th>\n",
              "      <th>V4</th>\n",
              "      <th>V5</th>\n",
              "      <th>V6</th>\n",
              "      <th>V7</th>\n",
              "      <th>V8</th>\n",
              "      <th>V9</th>\n",
              "      <th>...</th>\n",
              "      <th>V21</th>\n",
              "      <th>V22</th>\n",
              "      <th>V23</th>\n",
              "      <th>V24</th>\n",
              "      <th>V25</th>\n",
              "      <th>V26</th>\n",
              "      <th>V27</th>\n",
              "      <th>V28</th>\n",
              "      <th>Amount</th>\n",
              "      <th>Class</th>\n",
              "    </tr>\n",
              "  </thead>\n",
              "  <tbody>\n",
              "    <tr>\n",
              "      <th>45641</th>\n",
              "      <td>42436</td>\n",
              "      <td>-2.481639</td>\n",
              "      <td>-2.439949</td>\n",
              "      <td>0.363642</td>\n",
              "      <td>1.216827</td>\n",
              "      <td>2.572442</td>\n",
              "      <td>-1.264220</td>\n",
              "      <td>-0.443652</td>\n",
              "      <td>0.075853</td>\n",
              "      <td>0.073188</td>\n",
              "      <td>...</td>\n",
              "      <td>-0.039426</td>\n",
              "      <td>0.480591</td>\n",
              "      <td>1.779358</td>\n",
              "      <td>-0.756700</td>\n",
              "      <td>-0.161099</td>\n",
              "      <td>0.685617</td>\n",
              "      <td>0.223071</td>\n",
              "      <td>0.139619</td>\n",
              "      <td>0.00</td>\n",
              "      <td>0</td>\n",
              "    </tr>\n",
              "    <tr>\n",
              "      <th>45642</th>\n",
              "      <td>42436</td>\n",
              "      <td>1.223475</td>\n",
              "      <td>0.014944</td>\n",
              "      <td>0.471312</td>\n",
              "      <td>-0.038410</td>\n",
              "      <td>-0.566793</td>\n",
              "      <td>-0.867970</td>\n",
              "      <td>-0.058213</td>\n",
              "      <td>-0.144080</td>\n",
              "      <td>0.164904</td>\n",
              "      <td>...</td>\n",
              "      <td>-0.053292</td>\n",
              "      <td>-0.093680</td>\n",
              "      <td>0.106348</td>\n",
              "      <td>0.471407</td>\n",
              "      <td>0.135555</td>\n",
              "      <td>0.968336</td>\n",
              "      <td>-0.065171</td>\n",
              "      <td>0.005184</td>\n",
              "      <td>7.49</td>\n",
              "      <td>0</td>\n",
              "    </tr>\n",
              "    <tr>\n",
              "      <th>45643</th>\n",
              "      <td>42436</td>\n",
              "      <td>1.258657</td>\n",
              "      <td>0.421016</td>\n",
              "      <td>0.325437</td>\n",
              "      <td>0.684259</td>\n",
              "      <td>-0.292529</td>\n",
              "      <td>-1.052786</td>\n",
              "      <td>0.145228</td>\n",
              "      <td>-0.253567</td>\n",
              "      <td>-0.100521</td>\n",
              "      <td>...</td>\n",
              "      <td>-0.278029</td>\n",
              "      <td>-0.757417</td>\n",
              "      <td>0.119613</td>\n",
              "      <td>0.369393</td>\n",
              "      <td>0.246145</td>\n",
              "      <td>0.091553</td>\n",
              "      <td>-0.017156</td>\n",
              "      <td>0.032557</td>\n",
              "      <td>0.89</td>\n",
              "      <td>0</td>\n",
              "    </tr>\n",
              "    <tr>\n",
              "      <th>45644</th>\n",
              "      <td>42437</td>\n",
              "      <td>-0.500147</td>\n",
              "      <td>1.000770</td>\n",
              "      <td>1.809639</td>\n",
              "      <td>-0.114551</td>\n",
              "      <td>0.333865</td>\n",
              "      <td>-0.577076</td>\n",
              "      <td>1.062325</td>\n",
              "      <td>-0.513050</td>\n",
              "      <td>-0.048285</td>\n",
              "      <td>...</td>\n",
              "      <td>-0.193814</td>\n",
              "      <td>-0.161410</td>\n",
              "      <td>0.036965</td>\n",
              "      <td>0.400154</td>\n",
              "      <td>-0.802486</td>\n",
              "      <td>-0.076097</td>\n",
              "      <td>-0.214317</td>\n",
              "      <td>-0.229160</td>\n",
              "      <td>2.69</td>\n",
              "      <td>0</td>\n",
              "    </tr>\n",
              "    <tr>\n",
              "      <th>45645</th>\n",
              "      <td>42437</td>\n",
              "      <td>-0.652459</td>\n",
              "      <td>0.177290</td>\n",
              "      <td>1.955607</td>\n",
              "      <td>-1.879724</td>\n",
              "      <td>-0.368457</td>\n",
              "      <td>-0.575021</td>\n",
              "      <td>0.532398</td>\n",
              "      <td>-0.356749</td>\n",
              "      <td>-0.962237</td>\n",
              "      <td>...</td>\n",
              "      <td>-0.531785</td>\n",
              "      <td>-0.582165</td>\n",
              "      <td>0.037794</td>\n",
              "      <td>0.331240</td>\n",
              "      <td>-0.472601</td>\n",
              "      <td>0.652403</td>\n",
              "      <td>0.089295</td>\n",
              "      <td>-0.226742</td>\n",
              "      <td>20.00</td>\n",
              "      <td>0</td>\n",
              "    </tr>\n",
              "  </tbody>\n",
              "</table>\n",
              "<p>5 rows × 31 columns</p>\n",
              "</div>\n",
              "    <div class=\"colab-df-buttons\">\n",
              "\n",
              "  <div class=\"colab-df-container\">\n",
              "    <button class=\"colab-df-convert\" onclick=\"convertToInteractive('df-8cea859c-9564-4aa6-8141-1895314f4005')\"\n",
              "            title=\"Convert this dataframe to an interactive table.\"\n",
              "            style=\"display:none;\">\n",
              "\n",
              "  <svg xmlns=\"http://www.w3.org/2000/svg\" height=\"24px\" viewBox=\"0 -960 960 960\">\n",
              "    <path d=\"M120-120v-720h720v720H120Zm60-500h600v-160H180v160Zm220 220h160v-160H400v160Zm0 220h160v-160H400v160ZM180-400h160v-160H180v160Zm440 0h160v-160H620v160ZM180-180h160v-160H180v160Zm440 0h160v-160H620v160Z\"/>\n",
              "  </svg>\n",
              "    </button>\n",
              "\n",
              "  <style>\n",
              "    .colab-df-container {\n",
              "      display:flex;\n",
              "      gap: 12px;\n",
              "    }\n",
              "\n",
              "    .colab-df-convert {\n",
              "      background-color: #E8F0FE;\n",
              "      border: none;\n",
              "      border-radius: 50%;\n",
              "      cursor: pointer;\n",
              "      display: none;\n",
              "      fill: #1967D2;\n",
              "      height: 32px;\n",
              "      padding: 0 0 0 0;\n",
              "      width: 32px;\n",
              "    }\n",
              "\n",
              "    .colab-df-convert:hover {\n",
              "      background-color: #E2EBFA;\n",
              "      box-shadow: 0px 1px 2px rgba(60, 64, 67, 0.3), 0px 1px 3px 1px rgba(60, 64, 67, 0.15);\n",
              "      fill: #174EA6;\n",
              "    }\n",
              "\n",
              "    .colab-df-buttons div {\n",
              "      margin-bottom: 4px;\n",
              "    }\n",
              "\n",
              "    [theme=dark] .colab-df-convert {\n",
              "      background-color: #3B4455;\n",
              "      fill: #D2E3FC;\n",
              "    }\n",
              "\n",
              "    [theme=dark] .colab-df-convert:hover {\n",
              "      background-color: #434B5C;\n",
              "      box-shadow: 0px 1px 3px 1px rgba(0, 0, 0, 0.15);\n",
              "      filter: drop-shadow(0px 1px 2px rgba(0, 0, 0, 0.3));\n",
              "      fill: #FFFFFF;\n",
              "    }\n",
              "  </style>\n",
              "\n",
              "    <script>\n",
              "      const buttonEl =\n",
              "        document.querySelector('#df-8cea859c-9564-4aa6-8141-1895314f4005 button.colab-df-convert');\n",
              "      buttonEl.style.display =\n",
              "        google.colab.kernel.accessAllowed ? 'block' : 'none';\n",
              "\n",
              "      async function convertToInteractive(key) {\n",
              "        const element = document.querySelector('#df-8cea859c-9564-4aa6-8141-1895314f4005');\n",
              "        const dataTable =\n",
              "          await google.colab.kernel.invokeFunction('convertToInteractive',\n",
              "                                                    [key], {});\n",
              "        if (!dataTable) return;\n",
              "\n",
              "        const docLinkHtml = 'Like what you see? Visit the ' +\n",
              "          '<a target=\"_blank\" href=https://colab.research.google.com/notebooks/data_table.ipynb>data table notebook</a>'\n",
              "          + ' to learn more about interactive tables.';\n",
              "        element.innerHTML = '';\n",
              "        dataTable['output_type'] = 'display_data';\n",
              "        await google.colab.output.renderOutput(dataTable, element);\n",
              "        const docLink = document.createElement('div');\n",
              "        docLink.innerHTML = docLinkHtml;\n",
              "        element.appendChild(docLink);\n",
              "      }\n",
              "    </script>\n",
              "  </div>\n",
              "\n",
              "\n",
              "<div id=\"df-2335275a-182b-40c9-98a8-7e5b580abcad\">\n",
              "  <button class=\"colab-df-quickchart\" onclick=\"quickchart('df-2335275a-182b-40c9-98a8-7e5b580abcad')\"\n",
              "            title=\"Suggest charts\"\n",
              "            style=\"display:none;\">\n",
              "\n",
              "<svg xmlns=\"http://www.w3.org/2000/svg\" height=\"24px\"viewBox=\"0 0 24 24\"\n",
              "     width=\"24px\">\n",
              "    <g>\n",
              "        <path d=\"M19 3H5c-1.1 0-2 .9-2 2v14c0 1.1.9 2 2 2h14c1.1 0 2-.9 2-2V5c0-1.1-.9-2-2-2zM9 17H7v-7h2v7zm4 0h-2V7h2v10zm4 0h-2v-4h2v4z\"/>\n",
              "    </g>\n",
              "</svg>\n",
              "  </button>\n",
              "\n",
              "<style>\n",
              "  .colab-df-quickchart {\n",
              "      --bg-color: #E8F0FE;\n",
              "      --fill-color: #1967D2;\n",
              "      --hover-bg-color: #E2EBFA;\n",
              "      --hover-fill-color: #174EA6;\n",
              "      --disabled-fill-color: #AAA;\n",
              "      --disabled-bg-color: #DDD;\n",
              "  }\n",
              "\n",
              "  [theme=dark] .colab-df-quickchart {\n",
              "      --bg-color: #3B4455;\n",
              "      --fill-color: #D2E3FC;\n",
              "      --hover-bg-color: #434B5C;\n",
              "      --hover-fill-color: #FFFFFF;\n",
              "      --disabled-bg-color: #3B4455;\n",
              "      --disabled-fill-color: #666;\n",
              "  }\n",
              "\n",
              "  .colab-df-quickchart {\n",
              "    background-color: var(--bg-color);\n",
              "    border: none;\n",
              "    border-radius: 50%;\n",
              "    cursor: pointer;\n",
              "    display: none;\n",
              "    fill: var(--fill-color);\n",
              "    height: 32px;\n",
              "    padding: 0;\n",
              "    width: 32px;\n",
              "  }\n",
              "\n",
              "  .colab-df-quickchart:hover {\n",
              "    background-color: var(--hover-bg-color);\n",
              "    box-shadow: 0 1px 2px rgba(60, 64, 67, 0.3), 0 1px 3px 1px rgba(60, 64, 67, 0.15);\n",
              "    fill: var(--button-hover-fill-color);\n",
              "  }\n",
              "\n",
              "  .colab-df-quickchart-complete:disabled,\n",
              "  .colab-df-quickchart-complete:disabled:hover {\n",
              "    background-color: var(--disabled-bg-color);\n",
              "    fill: var(--disabled-fill-color);\n",
              "    box-shadow: none;\n",
              "  }\n",
              "\n",
              "  .colab-df-spinner {\n",
              "    border: 2px solid var(--fill-color);\n",
              "    border-color: transparent;\n",
              "    border-bottom-color: var(--fill-color);\n",
              "    animation:\n",
              "      spin 1s steps(1) infinite;\n",
              "  }\n",
              "\n",
              "  @keyframes spin {\n",
              "    0% {\n",
              "      border-color: transparent;\n",
              "      border-bottom-color: var(--fill-color);\n",
              "      border-left-color: var(--fill-color);\n",
              "    }\n",
              "    20% {\n",
              "      border-color: transparent;\n",
              "      border-left-color: var(--fill-color);\n",
              "      border-top-color: var(--fill-color);\n",
              "    }\n",
              "    30% {\n",
              "      border-color: transparent;\n",
              "      border-left-color: var(--fill-color);\n",
              "      border-top-color: var(--fill-color);\n",
              "      border-right-color: var(--fill-color);\n",
              "    }\n",
              "    40% {\n",
              "      border-color: transparent;\n",
              "      border-right-color: var(--fill-color);\n",
              "      border-top-color: var(--fill-color);\n",
              "    }\n",
              "    60% {\n",
              "      border-color: transparent;\n",
              "      border-right-color: var(--fill-color);\n",
              "    }\n",
              "    80% {\n",
              "      border-color: transparent;\n",
              "      border-right-color: var(--fill-color);\n",
              "      border-bottom-color: var(--fill-color);\n",
              "    }\n",
              "    90% {\n",
              "      border-color: transparent;\n",
              "      border-bottom-color: var(--fill-color);\n",
              "    }\n",
              "  }\n",
              "</style>\n",
              "\n",
              "  <script>\n",
              "    async function quickchart(key) {\n",
              "      const quickchartButtonEl =\n",
              "        document.querySelector('#' + key + ' button');\n",
              "      quickchartButtonEl.disabled = true;  // To prevent multiple clicks.\n",
              "      quickchartButtonEl.classList.add('colab-df-spinner');\n",
              "      try {\n",
              "        const charts = await google.colab.kernel.invokeFunction(\n",
              "            'suggestCharts', [key], {});\n",
              "      } catch (error) {\n",
              "        console.error('Error during call to suggestCharts:', error);\n",
              "      }\n",
              "      quickchartButtonEl.classList.remove('colab-df-spinner');\n",
              "      quickchartButtonEl.classList.add('colab-df-quickchart-complete');\n",
              "    }\n",
              "    (() => {\n",
              "      let quickchartButtonEl =\n",
              "        document.querySelector('#df-2335275a-182b-40c9-98a8-7e5b580abcad button');\n",
              "      quickchartButtonEl.style.display =\n",
              "        google.colab.kernel.accessAllowed ? 'block' : 'none';\n",
              "    })();\n",
              "  </script>\n",
              "</div>\n",
              "\n",
              "    </div>\n",
              "  </div>\n"
            ],
            "application/vnd.google.colaboratory.intrinsic+json": {
              "type": "dataframe"
            }
          },
          "metadata": {},
          "execution_count": 7
        }
      ],
      "source": [
        "#Apercu des 5 dernieres lignes\n",
        "df.tail()"
      ]
    },
    {
      "cell_type": "code",
      "execution_count": null,
      "id": "3408e1ba",
      "metadata": {
        "colab": {
          "base_uri": "https://localhost:8080/"
        },
        "id": "3408e1ba",
        "outputId": "721fad81-3c9c-40c3-863f-16b2145a9fa3"
      },
      "outputs": [
        {
          "output_type": "stream",
          "name": "stdout",
          "text": [
            "Nombre de lignes: 45646\n",
            "Nombre de colonnes: 31\n"
          ]
        }
      ],
      "source": [
        "#les dimensions de la base\n",
        "print(f\"Nombre de lignes: {df.shape[0]}\")\n",
        "print(f\"Nombre de colonnes: {df.shape[1]}\")"
      ]
    },
    {
      "cell_type": "code",
      "execution_count": null,
      "id": "05461444",
      "metadata": {
        "id": "05461444"
      },
      "outputs": [],
      "source": [
        "#Definition d une fonction d'affichage\n",
        "def pourcentage(valeur):\n",
        "    return \"{:.1f}%\".format(valeur)"
      ]
    },
    {
      "cell_type": "code",
      "execution_count": null,
      "id": "2262aedc",
      "metadata": {
        "colab": {
          "base_uri": "https://localhost:8080/",
          "height": 444
        },
        "id": "2262aedc",
        "outputId": "d0897556-6011-4898-e07a-c97e0c215e32"
      },
      "outputs": [
        {
          "output_type": "display_data",
          "data": {
            "text/plain": [
              "<Figure size 800x500 with 1 Axes>"
            ],
            "image/png": "[encoded data removed]"
          },
          "metadata": {}
        }
      ],
      "source": [
        "#variable class\n",
        "plt.figure(figsize= (8 ,5 ))\n",
        "#pour creer un diagramme circulaire\n",
        "plt.pie(df['Class'].value_counts(),\n",
        "    labels=df['Class'].value_counts().index,\n",
        "    autopct= pourcentage )\n",
        "plt.title ('Diagramme circulaire de la variable Class ')\n",
        "\n",
        "plt.show()"
      ]
    },
    {
      "cell_type": "code",
      "execution_count": null,
      "id": "9f2e2e8f",
      "metadata": {
        "colab": {
          "base_uri": "https://localhost:8080/",
          "height": 740
        },
        "id": "9f2e2e8f",
        "outputId": "97aca614-96fa-4dba-fdea-2d843bf96632"
      },
      "outputs": [
        {
          "output_type": "display_data",
          "data": {
            "text/plain": [
              "<Figure size 1800x800 with 2 Axes>"
            ],
            "image/png": "[encoded data removed]"
          },
          "metadata": {}
        }
      ],
      "source": [
        "#Correlation entre les variables\n",
        "f, ax = plt.subplots(figsize=(18,8))\n",
        "\n",
        "sub_sample_corr = df.corr()\n",
        "sns.heatmap(sub_sample_corr, cmap='coolwarm_r', annot_kws={'size':20}, ax=ax)\n",
        "ax.set_title('Matrice de correlation', fontsize=14)\n",
        "plt.show()"
      ]
    },
    {
      "cell_type": "code",
      "execution_count": null,
      "id": "f7cda2f8",
      "metadata": {
        "colab": {
          "base_uri": "https://localhost:8080/"
        },
        "id": "f7cda2f8",
        "outputId": "3d6d5cef-1f2e-4c4e-a939-fe262c11a238"
      },
      "outputs": [
        {
          "output_type": "execute_result",
          "data": {
            "text/plain": [
              "Time        int32\n",
              "V1        float64\n",
              "V2        float64\n",
              "V3        float64\n",
              "V4        float64\n",
              "V5        float64\n",
              "V6        float64\n",
              "V7        float64\n",
              "V8        float64\n",
              "V9        float64\n",
              "V10       float64\n",
              "V11       float64\n",
              "V12       float64\n",
              "V13       float64\n",
              "V14       float64\n",
              "V15       float64\n",
              "V16       float64\n",
              "V17       float64\n",
              "V18       float64\n",
              "V19       float64\n",
              "V20       float64\n",
              "V21       float64\n",
              "V22       float64\n",
              "V23       float64\n",
              "V24       float64\n",
              "V25       float64\n",
              "V26       float64\n",
              "V27       float64\n",
              "V28       float64\n",
              "Amount    float64\n",
              "Class       int32\n",
              "dtype: object"
            ]
          },
          "metadata": {},
          "execution_count": 12
        }
      ],
      "source": [
        "#type de variable de la base\n",
        "df.dtypes"
      ]
    },
    {
      "cell_type": "code",
      "execution_count": null,
      "id": "80f3523f",
      "metadata": {
        "colab": {
          "base_uri": "https://localhost:8080/",
          "height": 311
        },
        "id": "80f3523f",
        "outputId": "a688642f-11e2-4bb2-83b0-d5ca88e10bb4"
      },
      "outputs": [
        {
          "output_type": "display_data",
          "data": {
            "text/plain": [
              "<Figure size 500x300 with 1 Axes>"
            ],
            "image/png": "[encoded data removed]"
          },
          "metadata": {}
        }
      ],
      "source": [
        "#Boxplot variable age ( cest pr ls variables quantitattifs\n",
        "plt.figure(figsize= (5 ,3 ))\n",
        "sns.boxplot(data= df , x= \"Amount\", showmeans = True )\n",
        "plt.show()"
      ]
    },
    {
      "cell_type": "code",
      "execution_count": null,
      "id": "7b6bb95a",
      "metadata": {
        "colab": {
          "base_uri": "https://localhost:8080/",
          "height": 311
        },
        "id": "7b6bb95a",
        "outputId": "5ddfc3bd-ea1f-4cd3-810a-9b1e6de48cd0"
      },
      "outputs": [
        {
          "output_type": "display_data",
          "data": {
            "text/plain": [
              "<Figure size 500x300 with 1 Axes>"
            ],
            "image/png": "[encoded data removed]"
          },
          "metadata": {}
        }
      ],
      "source": [
        "#Boxplot variable V9\n",
        "plt.figure(figsize= (5 ,3 ))\n",
        "sns.boxplot(data= df , x= \"V9\", showmeans = True )\n",
        "plt.show()"
      ]
    },
    {
      "cell_type": "code",
      "execution_count": null,
      "id": "8df9f275",
      "metadata": {
        "colab": {
          "base_uri": "https://localhost:8080/",
          "height": 311
        },
        "id": "8df9f275",
        "outputId": "cb455b35-c884-4bed-fb36-c92765165059"
      },
      "outputs": [
        {
          "output_type": "display_data",
          "data": {
            "text/plain": [
              "<Figure size 500x300 with 1 Axes>"
            ],
            "image/png": "[encoded data removed]"
          },
          "metadata": {}
        }
      ],
      "source": [
        "#Boxplot variable V28\n",
        "plt.figure(figsize= (5 ,3 ))\n",
        "sns.boxplot(data= df , x= \"V28\", showmeans = True )\n",
        "plt.show()"
      ]
    },
    {
      "cell_type": "code",
      "execution_count": null,
      "id": "06da2c02",
      "metadata": {
        "colab": {
          "base_uri": "https://localhost:8080/",
          "height": 311
        },
        "id": "06da2c02",
        "outputId": "54496b0d-1e6b-4b7a-d0c7-1eb90c9561f6"
      },
      "outputs": [
        {
          "output_type": "display_data",
          "data": {
            "text/plain": [
              "<Figure size 500x300 with 1 Axes>"
            ],
            "image/png": "[encoded data removed]"
          },
          "metadata": {}
        }
      ],
      "source": [
        "#Boxplot variable V1\n",
        "plt.figure(figsize= (5 ,3 ))\n",
        "sns.boxplot(data= df , x= \"V1\", showmeans = True )\n",
        "plt.show()"
      ]
    },
    {
      "cell_type": "code",
      "execution_count": null,
      "id": "53db7164",
      "metadata": {
        "colab": {
          "base_uri": "https://localhost:8080/",
          "height": 34
        },
        "id": "53db7164",
        "outputId": "bed86756-9456-45e5-a97b-d85768e9edeb"
      },
      "outputs": [
        {
          "output_type": "display_data",
          "data": {
            "text/plain": [
              "<Figure size 640x480 with 0 Axes>"
            ]
          },
          "metadata": {}
        }
      ],
      "source": [
        "plt.tight_layout()\n",
        "plt.show()"
      ]
    },
    {
      "cell_type": "code",
      "execution_count": null,
      "id": "4842e1ce",
      "metadata": {
        "colab": {
          "base_uri": "https://localhost:8080/",
          "height": 1000
        },
        "id": "4842e1ce",
        "outputId": "f72e5dcf-663a-4f78-a01d-19d32afa6371"
      },
      "outputs": [
        {
          "output_type": "execute_result",
          "data": {
            "text/plain": [
              "          count          mean           std        min           25%  \\\n",
              "Time    45646.0  27545.441331  12907.770469   0.000000  19891.000000   \n",
              "V1      45646.0     -0.237544      1.886548 -56.407510     -0.985248   \n",
              "V2      45646.0      0.028942      1.613070 -72.715728     -0.543868   \n",
              "V3      45646.0      0.696718      1.530553 -32.965346      0.222804   \n",
              "V4      45646.0      0.191505      1.403936  -5.172595     -0.714566   \n",
              "V5      45646.0     -0.248407      1.414608 -42.147898     -0.853436   \n",
              "V6      45646.0      0.098573      1.308537 -26.160506     -0.638472   \n",
              "V7      45646.0     -0.117922      1.282808 -26.548144     -0.600049   \n",
              "V8      45646.0      0.053322      1.210491 -41.484823     -0.148364   \n",
              "V9      45646.0      0.157869      1.222266  -9.283925     -0.589485   \n",
              "V10     45646.0     -0.066649      1.160412 -18.271168     -0.540189   \n",
              "V11     45646.0      0.392067      1.127211  -4.049895     -0.422687   \n",
              "V12     45646.0     -0.388500      1.369272 -17.769143     -1.073623   \n",
              "V13     45646.0      0.190244      1.130535  -3.844974     -0.567188   \n",
              "V14     45646.0      0.190391      1.148271 -19.214325     -0.281046   \n",
              "V15     45646.0      0.112513      0.952287  -4.152532     -0.447005   \n",
              "V16     45646.0     -0.012781      0.959829 -13.563273     -0.496096   \n",
              "V17     45646.0      0.122282      1.137045 -25.162799     -0.355111   \n",
              "V18     45646.0     -0.097702      0.876072  -9.498746     -0.572655   \n",
              "V19     45646.0     -0.028055      0.820489  -4.932733     -0.523439   \n",
              "V20     45646.0      0.047651      0.706841 -13.694584     -0.164529   \n",
              "V21     45646.0     -0.027109      0.733319 -20.262054     -0.232749   \n",
              "V22     45646.0     -0.108694      0.636667  -8.593642     -0.529628   \n",
              "V23     45646.0     -0.039059      0.572031 -26.751119     -0.179135   \n",
              "V24     45646.0      0.009365      0.592171  -2.836627     -0.321992   \n",
              "V25     45646.0      0.136683      0.437828  -7.495741     -0.128074   \n",
              "V26     45646.0      0.022319      0.502719  -1.438650     -0.329707   \n",
              "V27     45646.0      0.005526      0.389237  -8.567638     -0.063668   \n",
              "V28     45646.0      0.004636      0.338796  -9.617915     -0.006838   \n",
              "Amount  45646.0     90.828023    240.296190   0.000000      7.580000   \n",
              "Class   45646.0      0.003111      0.055689   0.000000      0.000000   \n",
              "\n",
              "                 50%           75%           max  \n",
              "Time    32447.000000  37571.750000  42437.000000  \n",
              "V1         -0.246259      1.157412      1.960497  \n",
              "V2          0.088873      0.739723     18.183626  \n",
              "V3          0.801638      1.434911      4.101716  \n",
              "V4          0.191835      1.070924     16.491217  \n",
              "V5         -0.280620      0.287608     34.801666  \n",
              "V6         -0.155388      0.487528     22.529298  \n",
              "V7         -0.073139      0.429963     36.677268  \n",
              "V8          0.054801      0.324343     20.007208  \n",
              "V9          0.038300      0.859708     10.392889  \n",
              "V10        -0.120731      0.393128     13.198226  \n",
              "V11         0.356127      1.181412     12.018913  \n",
              "V12        -0.056738      0.522804      4.846452  \n",
              "V13         0.128475      0.912629      4.465413  \n",
              "V14         0.168084      0.719697      7.692209  \n",
              "V15         0.227691      0.791432      5.784514  \n",
              "V16         0.057541      0.553212      6.098529  \n",
              "V17         0.072868      0.554110      9.253526  \n",
              "V18        -0.078105      0.399730      4.295648  \n",
              "V19        -0.031193      0.480060      5.228342  \n",
              "V20        -0.022592      0.170526     17.281859  \n",
              "V21        -0.070244      0.105614     22.614889  \n",
              "V22        -0.083455      0.303450      5.805795  \n",
              "V23        -0.051299      0.077897     17.297845  \n",
              "V24         0.062233      0.401389      4.014444  \n",
              "V25         0.175770      0.421851      5.525093  \n",
              "V26        -0.067775      0.302915      3.517346  \n",
              "V27         0.008425      0.084021     11.135740  \n",
              "V28         0.021808      0.076209     33.847808  \n",
              "Amount     24.990000     82.592500   7879.420000  \n",
              "Class       0.000000      0.000000      1.000000  "
            ],
            "text/html": [
              "\n",
              "  <div id=\"df-b1a11ab3-74f5-45f1-82d6-32d082722cde\" class=\"colab-df-container\">\n",
              "    <div>\n",
              "<style scoped>\n",
              "    .dataframe tbody tr th:only-of-type {\n",
              "        vertical-align: middle;\n",
              "    }\n",
              "\n",
              "    .dataframe tbody tr th {\n",
              "        vertical-align: top;\n",
              "    }\n",
              "\n",
              "    .dataframe thead th {\n",
              "        text-align: right;\n",
              "    }\n",
              "</style>\n",
              "<table border=\"1\" class=\"dataframe\">\n",
              "  <thead>\n",
              "    <tr style=\"text-align: right;\">\n",
              "      <th></th>\n",
              "      <th>count</th>\n",
              "      <th>mean</th>\n",
              "      <th>std</th>\n",
              "      <th>min</th>\n",
              "      <th>25%</th>\n",
              "      <th>50%</th>\n",
              "      <th>75%</th>\n",
              "      <th>max</th>\n",
              "    </tr>\n",
              "  </thead>\n",
              "  <tbody>\n",
              "    <tr>\n",
              "      <th>Time</th>\n",
              "      <td>45646.0</td>\n",
              "      <td>27545.441331</td>\n",
              "      <td>12907.770469</td>\n",
              "      <td>0.000000</td>\n",
              "      <td>19891.000000</td>\n",
              "      <td>32447.000000</td>\n",
              "      <td>37571.750000</td>\n",
              "      <td>42437.000000</td>\n",
              "    </tr>\n",
              "    <tr>\n",
              "      <th>V1</th>\n",
              "      <td>45646.0</td>\n",
              "      <td>-0.237544</td>\n",
              "      <td>1.886548</td>\n",
              "      <td>-56.407510</td>\n",
              "      <td>-0.985248</td>\n",
              "      <td>-0.246259</td>\n",
              "      <td>1.157412</td>\n",
              "      <td>1.960497</td>\n",
              "    </tr>\n",
              "    <tr>\n",
              "      <th>V2</th>\n",
              "      <td>45646.0</td>\n",
              "      <td>0.028942</td>\n",
              "      <td>1.613070</td>\n",
              "      <td>-72.715728</td>\n",
              "      <td>-0.543868</td>\n",
              "      <td>0.088873</td>\n",
              "      <td>0.739723</td>\n",
              "      <td>18.183626</td>\n",
              "    </tr>\n",
              "    <tr>\n",
              "      <th>V3</th>\n",
              "      <td>45646.0</td>\n",
              "      <td>0.696718</td>\n",
              "      <td>1.530553</td>\n",
              "      <td>-32.965346</td>\n",
              "      <td>0.222804</td>\n",
              "      <td>0.801638</td>\n",
              "      <td>1.434911</td>\n",
              "      <td>4.101716</td>\n",
              "    </tr>\n",
              "    <tr>\n",
              "      <th>V4</th>\n",
              "      <td>45646.0</td>\n",
              "      <td>0.191505</td>\n",
              "      <td>1.403936</td>\n",
              "      <td>-5.172595</td>\n",
              "      <td>-0.714566</td>\n",
              "      <td>0.191835</td>\n",
              "      <td>1.070924</td>\n",
              "      <td>16.491217</td>\n",
              "    </tr>\n",
              "    <tr>\n",
              "      <th>V5</th>\n",
              "      <td>45646.0</td>\n",
              "      <td>-0.248407</td>\n",
              "      <td>1.414608</td>\n",
              "      <td>-42.147898</td>\n",
              "      <td>-0.853436</td>\n",
              "      <td>-0.280620</td>\n",
              "      <td>0.287608</td>\n",
              "      <td>34.801666</td>\n",
              "    </tr>\n",
              "    <tr>\n",
              "      <th>V6</th>\n",
              "      <td>45646.0</td>\n",
              "      <td>0.098573</td>\n",
              "      <td>1.308537</td>\n",
              "      <td>-26.160506</td>\n",
              "      <td>-0.638472</td>\n",
              "      <td>-0.155388</td>\n",
              "      <td>0.487528</td>\n",
              "      <td>22.529298</td>\n",
              "    </tr>\n",
              "    <tr>\n",
              "      <th>V7</th>\n",
              "      <td>45646.0</td>\n",
              "      <td>-0.117922</td>\n",
              "      <td>1.282808</td>\n",
              "      <td>-26.548144</td>\n",
              "      <td>-0.600049</td>\n",
              "      <td>-0.073139</td>\n",
              "      <td>0.429963</td>\n",
              "      <td>36.677268</td>\n",
              "    </tr>\n",
              "    <tr>\n",
              "      <th>V8</th>\n",
              "      <td>45646.0</td>\n",
              "      <td>0.053322</td>\n",
              "      <td>1.210491</td>\n",
              "      <td>-41.484823</td>\n",
              "      <td>-0.148364</td>\n",
              "      <td>0.054801</td>\n",
              "      <td>0.324343</td>\n",
              "      <td>20.007208</td>\n",
              "    </tr>\n",
              "    <tr>\n",
              "      <th>V9</th>\n",
              "      <td>45646.0</td>\n",
              "      <td>0.157869</td>\n",
              "      <td>1.222266</td>\n",
              "      <td>-9.283925</td>\n",
              "      <td>-0.589485</td>\n",
              "      <td>0.038300</td>\n",
              "      <td>0.859708</td>\n",
              "      <td>10.392889</td>\n",
              "    </tr>\n",
              "    <tr>\n",
              "      <th>V10</th>\n",
              "      <td>45646.0</td>\n",
              "      <td>-0.066649</td>\n",
              "      <td>1.160412</td>\n",
              "      <td>-18.271168</td>\n",
              "      <td>-0.540189</td>\n",
              "      <td>-0.120731</td>\n",
              "      <td>0.393128</td>\n",
              "      <td>13.198226</td>\n",
              "    </tr>\n",
              "    <tr>\n",
              "      <th>V11</th>\n",
              "      <td>45646.0</td>\n",
              "      <td>0.392067</td>\n",
              "      <td>1.127211</td>\n",
              "      <td>-4.049895</td>\n",
              "      <td>-0.422687</td>\n",
              "      <td>0.356127</td>\n",
              "      <td>1.181412</td>\n",
              "      <td>12.018913</td>\n",
              "    </tr>\n",
              "    <tr>\n",
              "      <th>V12</th>\n",
              "      <td>45646.0</td>\n",
              "      <td>-0.388500</td>\n",
              "      <td>1.369272</td>\n",
              "      <td>-17.769143</td>\n",
              "      <td>-1.073623</td>\n",
              "      <td>-0.056738</td>\n",
              "      <td>0.522804</td>\n",
              "      <td>4.846452</td>\n",
              "    </tr>\n",
              "    <tr>\n",
              "      <th>V13</th>\n",
              "      <td>45646.0</td>\n",
              "      <td>0.190244</td>\n",
              "      <td>1.130535</td>\n",
              "      <td>-3.844974</td>\n",
              "      <td>-0.567188</td>\n",
              "      <td>0.128475</td>\n",
              "      <td>0.912629</td>\n",
              "      <td>4.465413</td>\n",
              "    </tr>\n",
              "    <tr>\n",
              "      <th>V14</th>\n",
              "      <td>45646.0</td>\n",
              "      <td>0.190391</td>\n",
              "      <td>1.148271</td>\n",
              "      <td>-19.214325</td>\n",
              "      <td>-0.281046</td>\n",
              "      <td>0.168084</td>\n",
              "      <td>0.719697</td>\n",
              "      <td>7.692209</td>\n",
              "    </tr>\n",
              "    <tr>\n",
              "      <th>V15</th>\n",
              "      <td>45646.0</td>\n",
              "      <td>0.112513</td>\n",
              "      <td>0.952287</td>\n",
              "      <td>-4.152532</td>\n",
              "      <td>-0.447005</td>\n",
              "      <td>0.227691</td>\n",
              "      <td>0.791432</td>\n",
              "      <td>5.784514</td>\n",
              "    </tr>\n",
              "    <tr>\n",
              "      <th>V16</th>\n",
              "      <td>45646.0</td>\n",
              "      <td>-0.012781</td>\n",
              "      <td>0.959829</td>\n",
              "      <td>-13.563273</td>\n",
              "      <td>-0.496096</td>\n",
              "      <td>0.057541</td>\n",
              "      <td>0.553212</td>\n",
              "      <td>6.098529</td>\n",
              "    </tr>\n",
              "    <tr>\n",
              "      <th>V17</th>\n",
              "      <td>45646.0</td>\n",
              "      <td>0.122282</td>\n",
              "      <td>1.137045</td>\n",
              "      <td>-25.162799</td>\n",
              "      <td>-0.355111</td>\n",
              "      <td>0.072868</td>\n",
              "      <td>0.554110</td>\n",
              "      <td>9.253526</td>\n",
              "    </tr>\n",
              "    <tr>\n",
              "      <th>V18</th>\n",
              "      <td>45646.0</td>\n",
              "      <td>-0.097702</td>\n",
              "      <td>0.876072</td>\n",
              "      <td>-9.498746</td>\n",
              "      <td>-0.572655</td>\n",
              "      <td>-0.078105</td>\n",
              "      <td>0.399730</td>\n",
              "      <td>4.295648</td>\n",
              "    </tr>\n",
              "    <tr>\n",
              "      <th>V19</th>\n",
              "      <td>45646.0</td>\n",
              "      <td>-0.028055</td>\n",
              "      <td>0.820489</td>\n",
              "      <td>-4.932733</td>\n",
              "      <td>-0.523439</td>\n",
              "      <td>-0.031193</td>\n",
              "      <td>0.480060</td>\n",
              "      <td>5.228342</td>\n",
              "    </tr>\n",
              "    <tr>\n",
              "      <th>V20</th>\n",
              "      <td>45646.0</td>\n",
              "      <td>0.047651</td>\n",
              "      <td>0.706841</td>\n",
              "      <td>-13.694584</td>\n",
              "      <td>-0.164529</td>\n",
              "      <td>-0.022592</td>\n",
              "      <td>0.170526</td>\n",
              "      <td>17.281859</td>\n",
              "    </tr>\n",
              "    <tr>\n",
              "      <th>V21</th>\n",
              "      <td>45646.0</td>\n",
              "      <td>-0.027109</td>\n",
              "      <td>0.733319</td>\n",
              "      <td>-20.262054</td>\n",
              "      <td>-0.232749</td>\n",
              "      <td>-0.070244</td>\n",
              "      <td>0.105614</td>\n",
              "      <td>22.614889</td>\n",
              "    </tr>\n",
              "    <tr>\n",
              "      <th>V22</th>\n",
              "      <td>45646.0</td>\n",
              "      <td>-0.108694</td>\n",
              "      <td>0.636667</td>\n",
              "      <td>-8.593642</td>\n",
              "      <td>-0.529628</td>\n",
              "      <td>-0.083455</td>\n",
              "      <td>0.303450</td>\n",
              "      <td>5.805795</td>\n",
              "    </tr>\n",
              "    <tr>\n",
              "      <th>V23</th>\n",
              "      <td>45646.0</td>\n",
              "      <td>-0.039059</td>\n",
              "      <td>0.572031</td>\n",
              "      <td>-26.751119</td>\n",
              "      <td>-0.179135</td>\n",
              "      <td>-0.051299</td>\n",
              "      <td>0.077897</td>\n",
              "      <td>17.297845</td>\n",
              "    </tr>\n",
              "    <tr>\n",
              "      <th>V24</th>\n",
              "      <td>45646.0</td>\n",
              "      <td>0.009365</td>\n",
              "      <td>0.592171</td>\n",
              "      <td>-2.836627</td>\n",
              "      <td>-0.321992</td>\n",
              "      <td>0.062233</td>\n",
              "      <td>0.401389</td>\n",
              "      <td>4.014444</td>\n",
              "    </tr>\n",
              "    <tr>\n",
              "      <th>V25</th>\n",
              "      <td>45646.0</td>\n",
              "      <td>0.136683</td>\n",
              "      <td>0.437828</td>\n",
              "      <td>-7.495741</td>\n",
              "      <td>-0.128074</td>\n",
              "      <td>0.175770</td>\n",
              "      <td>0.421851</td>\n",
              "      <td>5.525093</td>\n",
              "    </tr>\n",
              "    <tr>\n",
              "      <th>V26</th>\n",
              "      <td>45646.0</td>\n",
              "      <td>0.022319</td>\n",
              "      <td>0.502719</td>\n",
              "      <td>-1.438650</td>\n",
              "      <td>-0.329707</td>\n",
              "      <td>-0.067775</td>\n",
              "      <td>0.302915</td>\n",
              "      <td>3.517346</td>\n",
              "    </tr>\n",
              "    <tr>\n",
              "      <th>V27</th>\n",
              "      <td>45646.0</td>\n",
              "      <td>0.005526</td>\n",
              "      <td>0.389237</td>\n",
              "      <td>-8.567638</td>\n",
              "      <td>-0.063668</td>\n",
              "      <td>0.008425</td>\n",
              "      <td>0.084021</td>\n",
              "      <td>11.135740</td>\n",
              "    </tr>\n",
              "    <tr>\n",
              "      <th>V28</th>\n",
              "      <td>45646.0</td>\n",
              "      <td>0.004636</td>\n",
              "      <td>0.338796</td>\n",
              "      <td>-9.617915</td>\n",
              "      <td>-0.006838</td>\n",
              "      <td>0.021808</td>\n",
              "      <td>0.076209</td>\n",
              "      <td>33.847808</td>\n",
              "    </tr>\n",
              "    <tr>\n",
              "      <th>Amount</th>\n",
              "      <td>45646.0</td>\n",
              "      <td>90.828023</td>\n",
              "      <td>240.296190</td>\n",
              "      <td>0.000000</td>\n",
              "      <td>7.580000</td>\n",
              "      <td>24.990000</td>\n",
              "      <td>82.592500</td>\n",
              "      <td>7879.420000</td>\n",
              "    </tr>\n",
              "    <tr>\n",
              "      <th>Class</th>\n",
              "      <td>45646.0</td>\n",
              "      <td>0.003111</td>\n",
              "      <td>0.055689</td>\n",
              "      <td>0.000000</td>\n",
              "      <td>0.000000</td>\n",
              "      <td>0.000000</td>\n",
              "      <td>0.000000</td>\n",
              "      <td>1.000000</td>\n",
              "    </tr>\n",
              "  </tbody>\n",
              "</table>\n",
              "</div>\n",
              "    <div class=\"colab-df-buttons\">\n",
              "\n",
              "  <div class=\"colab-df-container\">\n",
              "    <button class=\"colab-df-convert\" onclick=\"convertToInteractive('df-b1a11ab3-74f5-45f1-82d6-32d082722cde')\"\n",
              "            title=\"Convert this dataframe to an interactive table.\"\n",
              "            style=\"display:none;\">\n",
              "\n",
              "  <svg xmlns=\"http://www.w3.org/2000/svg\" height=\"24px\" viewBox=\"0 -960 960 960\">\n",
              "    <path d=\"M120-120v-720h720v720H120Zm60-500h600v-160H180v160Zm220 220h160v-160H400v160Zm0 220h160v-160H400v160ZM180-400h160v-160H180v160Zm440 0h160v-160H620v160ZM180-180h160v-160H180v160Zm440 0h160v-160H620v160Z\"/>\n",
              "  </svg>\n",
              "    </button>\n",
              "\n",
              "  <style>\n",
              "    .colab-df-container {\n",
              "      display:flex;\n",
              "      gap: 12px;\n",
              "    }\n",
              "\n",
              "    .colab-df-convert {\n",
              "      background-color: #E8F0FE;\n",
              "      border: none;\n",
              "      border-radius: 50%;\n",
              "      cursor: pointer;\n",
              "      display: none;\n",
              "      fill: #1967D2;\n",
              "      height: 32px;\n",
              "      padding: 0 0 0 0;\n",
              "      width: 32px;\n",
              "    }\n",
              "\n",
              "    .colab-df-convert:hover {\n",
              "      background-color: #E2EBFA;\n",
              "      box-shadow: 0px 1px 2px rgba(60, 64, 67, 0.3), 0px 1px 3px 1px rgba(60, 64, 67, 0.15);\n",
              "      fill: #174EA6;\n",
              "    }\n",
              "\n",
              "    .colab-df-buttons div {\n",
              "      margin-bottom: 4px;\n",
              "    }\n",
              "\n",
              "    [theme=dark] .colab-df-convert {\n",
              "      background-color: #3B4455;\n",
              "      fill: #D2E3FC;\n",
              "    }\n",
              "\n",
              "    [theme=dark] .colab-df-convert:hover {\n",
              "      background-color: #434B5C;\n",
              "      box-shadow: 0px 1px 3px 1px rgba(0, 0, 0, 0.15);\n",
              "      filter: drop-shadow(0px 1px 2px rgba(0, 0, 0, 0.3));\n",
              "      fill: #FFFFFF;\n",
              "    }\n",
              "  </style>\n",
              "\n",
              "    <script>\n",
              "      const buttonEl =\n",
              "        document.querySelector('#df-b1a11ab3-74f5-45f1-82d6-32d082722cde button.colab-df-convert');\n",
              "      buttonEl.style.display =\n",
              "        google.colab.kernel.accessAllowed ? 'block' : 'none';\n",
              "\n",
              "      async function convertToInteractive(key) {\n",
              "        const element = document.querySelector('#df-b1a11ab3-74f5-45f1-82d6-32d082722cde');\n",
              "        const dataTable =\n",
              "          await google.colab.kernel.invokeFunction('convertToInteractive',\n",
              "                                                    [key], {});\n",
              "        if (!dataTable) return;\n",
              "\n",
              "        const docLinkHtml = 'Like what you see? Visit the ' +\n",
              "          '<a target=\"_blank\" href=https://colab.research.google.com/notebooks/data_table.ipynb>data table notebook</a>'\n",
              "          + ' to learn more about interactive tables.';\n",
              "        element.innerHTML = '';\n",
              "        dataTable['output_type'] = 'display_data';\n",
              "        await google.colab.output.renderOutput(dataTable, element);\n",
              "        const docLink = document.createElement('div');\n",
              "        docLink.innerHTML = docLinkHtml;\n",
              "        element.appendChild(docLink);\n",
              "      }\n",
              "    </script>\n",
              "  </div>\n",
              "\n",
              "\n",
              "<div id=\"df-caa92a87-b3c4-4d46-acab-881270c14556\">\n",
              "  <button class=\"colab-df-quickchart\" onclick=\"quickchart('df-caa92a87-b3c4-4d46-acab-881270c14556')\"\n",
              "            title=\"Suggest charts\"\n",
              "            style=\"display:none;\">\n",
              "\n",
              "<svg xmlns=\"http://www.w3.org/2000/svg\" height=\"24px\"viewBox=\"0 0 24 24\"\n",
              "     width=\"24px\">\n",
              "    <g>\n",
              "        <path d=\"M19 3H5c-1.1 0-2 .9-2 2v14c0 1.1.9 2 2 2h14c1.1 0 2-.9 2-2V5c0-1.1-.9-2-2-2zM9 17H7v-7h2v7zm4 0h-2V7h2v10zm4 0h-2v-4h2v4z\"/>\n",
              "    </g>\n",
              "</svg>\n",
              "  </button>\n",
              "\n",
              "<style>\n",
              "  .colab-df-quickchart {\n",
              "      --bg-color: #E8F0FE;\n",
              "      --fill-color: #1967D2;\n",
              "      --hover-bg-color: #E2EBFA;\n",
              "      --hover-fill-color: #174EA6;\n",
              "      --disabled-fill-color: #AAA;\n",
              "      --disabled-bg-color: #DDD;\n",
              "  }\n",
              "\n",
              "  [theme=dark] .colab-df-quickchart {\n",
              "      --bg-color: #3B4455;\n",
              "      --fill-color: #D2E3FC;\n",
              "      --hover-bg-color: #434B5C;\n",
              "      --hover-fill-color: #FFFFFF;\n",
              "      --disabled-bg-color: #3B4455;\n",
              "      --disabled-fill-color: #666;\n",
              "  }\n",
              "\n",
              "  .colab-df-quickchart {\n",
              "    background-color: var(--bg-color);\n",
              "    border: none;\n",
              "    border-radius: 50%;\n",
              "    cursor: pointer;\n",
              "    display: none;\n",
              "    fill: var(--fill-color);\n",
              "    height: 32px;\n",
              "    padding: 0;\n",
              "    width: 32px;\n",
              "  }\n",
              "\n",
              "  .colab-df-quickchart:hover {\n",
              "    background-color: var(--hover-bg-color);\n",
              "    box-shadow: 0 1px 2px rgba(60, 64, 67, 0.3), 0 1px 3px 1px rgba(60, 64, 67, 0.15);\n",
              "    fill: var(--button-hover-fill-color);\n",
              "  }\n",
              "\n",
              "  .colab-df-quickchart-complete:disabled,\n",
              "  .colab-df-quickchart-complete:disabled:hover {\n",
              "    background-color: var(--disabled-bg-color);\n",
              "    fill: var(--disabled-fill-color);\n",
              "    box-shadow: none;\n",
              "  }\n",
              "\n",
              "  .colab-df-spinner {\n",
              "    border: 2px solid var(--fill-color);\n",
              "    border-color: transparent;\n",
              "    border-bottom-color: var(--fill-color);\n",
              "    animation:\n",
              "      spin 1s steps(1) infinite;\n",
              "  }\n",
              "\n",
              "  @keyframes spin {\n",
              "    0% {\n",
              "      border-color: transparent;\n",
              "      border-bottom-color: var(--fill-color);\n",
              "      border-left-color: var(--fill-color);\n",
              "    }\n",
              "    20% {\n",
              "      border-color: transparent;\n",
              "      border-left-color: var(--fill-color);\n",
              "      border-top-color: var(--fill-color);\n",
              "    }\n",
              "    30% {\n",
              "      border-color: transparent;\n",
              "      border-left-color: var(--fill-color);\n",
              "      border-top-color: var(--fill-color);\n",
              "      border-right-color: var(--fill-color);\n",
              "    }\n",
              "    40% {\n",
              "      border-color: transparent;\n",
              "      border-right-color: var(--fill-color);\n",
              "      border-top-color: var(--fill-color);\n",
              "    }\n",
              "    60% {\n",
              "      border-color: transparent;\n",
              "      border-right-color: var(--fill-color);\n",
              "    }\n",
              "    80% {\n",
              "      border-color: transparent;\n",
              "      border-right-color: var(--fill-color);\n",
              "      border-bottom-color: var(--fill-color);\n",
              "    }\n",
              "    90% {\n",
              "      border-color: transparent;\n",
              "      border-bottom-color: var(--fill-color);\n",
              "    }\n",
              "  }\n",
              "</style>\n",
              "\n",
              "  <script>\n",
              "    async function quickchart(key) {\n",
              "      const quickchartButtonEl =\n",
              "        document.querySelector('#' + key + ' button');\n",
              "      quickchartButtonEl.disabled = true;  // To prevent multiple clicks.\n",
              "      quickchartButtonEl.classList.add('colab-df-spinner');\n",
              "      try {\n",
              "        const charts = await google.colab.kernel.invokeFunction(\n",
              "            'suggestCharts', [key], {});\n",
              "      } catch (error) {\n",
              "        console.error('Error during call to suggestCharts:', error);\n",
              "      }\n",
              "      quickchartButtonEl.classList.remove('colab-df-spinner');\n",
              "      quickchartButtonEl.classList.add('colab-df-quickchart-complete');\n",
              "    }\n",
              "    (() => {\n",
              "      let quickchartButtonEl =\n",
              "        document.querySelector('#df-caa92a87-b3c4-4d46-acab-881270c14556 button');\n",
              "      quickchartButtonEl.style.display =\n",
              "        google.colab.kernel.accessAllowed ? 'block' : 'none';\n",
              "    })();\n",
              "  </script>\n",
              "</div>\n",
              "\n",
              "    </div>\n",
              "  </div>\n"
            ],
            "application/vnd.google.colaboratory.intrinsic+json": {
              "type": "dataframe",
              "summary": "{\n  \"name\": \"df\",\n  \"rows\": 31,\n  \"fields\": [\n    {\n      \"column\": \"count\",\n      \"properties\": {\n        \"dtype\": \"number\",\n        \"std\": 0.0,\n        \"min\": 45646.0,\n        \"max\": 45646.0,\n        \"num_unique_values\": 1,\n        \"samples\": [\n          45646.0\n        ],\n        \"semantic_type\": \"\",\n        \"description\": \"\"\n      }\n    },\n    {\n      \"column\": \"mean\",\n      \"properties\": {\n        \"dtype\": \"number\",\n        \"std\": 4946.783853140499,\n        \"min\": -0.3884996111005989,\n        \"max\": 27545.44133111335,\n        \"num_unique_values\": 31,\n        \"samples\": [\n          0.0055261227679892005\n        ],\n        \"semantic_type\": \"\",\n        \"description\": \"\"\n      }\n    },\n    {\n      \"column\": \"std\",\n      \"properties\": {\n        \"dtype\": \"number\",\n        \"std\": 2317.0929391397553,\n        \"min\": 0.055689201510316415,\n        \"max\": 12907.770468651253,\n        \"num_unique_values\": 31,\n        \"samples\": [\n          0.3892366859639479\n        ],\n        \"semantic_type\": \"\",\n        \"description\": \"\"\n      }\n    },\n    {\n      \"column\": \"min\",\n      \"properties\": {\n        \"dtype\": \"number\",\n        \"std\": 17.343363414665927,\n        \"min\": -72.7157275629303,\n        \"max\": 0.0,\n        \"num_unique_values\": 29,\n        \"samples\": [\n          -8.56763773820185\n        ],\n        \"semantic_type\": \"\",\n        \"description\": \"\"\n      }\n    },\n    {\n      \"column\": \"25%\",\n      \"properties\": {\n        \"dtype\": \"number\",\n        \"std\": 3572.556339540223,\n        \"min\": -1.07362252093099,\n        \"max\": 19891.0,\n        \"num_unique_values\": 31,\n        \"samples\": [\n          -0.06366843314030217\n        ],\n        \"semantic_type\": \"\",\n        \"description\": \"\"\n      }\n    },\n    {\n      \"column\": \"50%\",\n      \"properties\": {\n        \"dtype\": \"number\",\n        \"std\": 5827.498661208131,\n        \"min\": -0.28061953719815247,\n        \"max\": 32447.0,\n        \"num_unique_values\": 31,\n        \"samples\": [\n          0.008425150927987735\n        ],\n        \"semantic_type\": \"\",\n        \"description\": \"\"\n      }\n    },\n    {\n      \"column\": \"75%\",\n      \"properties\": {\n        \"dtype\": \"number\",\n        \"std\": 6747.515863984864,\n        \"min\": 0.0,\n        \"max\": 37571.75,\n        \"num_unique_values\": 31,\n        \"samples\": [\n          0.0840205745901352\n        ],\n        \"semantic_type\": \"\",\n        \"description\": \"\"\n      }\n    },\n    {\n      \"column\": \"max\",\n      \"properties\": {\n        \"dtype\": \"number\",\n        \"std\": 7703.136540956354,\n        \"min\": 1.0,\n        \"max\": 42437.0,\n        \"num_unique_values\": 31,\n        \"samples\": [\n          11.1357398445742\n        ],\n        \"semantic_type\": \"\",\n        \"description\": \"\"\n      }\n    }\n  ]\n}"
            }
          },
          "metadata": {},
          "execution_count": 18
        }
      ],
      "source": [
        "df.describe().T"
      ]
    },
    {
      "cell_type": "markdown",
      "id": "0844e945",
      "metadata": {
        "id": "0844e945"
      },
      "source": [
        "### En résumé notre exploration de la base de donnees nous a permis de savoir que sur 100% seul 0,2% contiennent des donnees frauduleuses. Pour ne pas que notre modele soit mauvais , nous avons faire recours a d autres alternatives avant l'entrainement de nos donnees."
      ]
    },
    {
      "cell_type": "markdown",
      "id": "5709637f",
      "metadata": {
        "id": "5709637f"
      },
      "source": [
        "## Préparation des données"
      ]
    },
    {
      "cell_type": "code",
      "execution_count": null,
      "id": "7dcba3d3",
      "metadata": {
        "id": "7dcba3d3"
      },
      "outputs": [],
      "source": [
        "#Copie de la base de donnees\n",
        "data = df.copy()"
      ]
    },
    {
      "cell_type": "code",
      "execution_count": null,
      "id": "82a6cc60",
      "metadata": {
        "colab": {
          "base_uri": "https://localhost:8080/"
        },
        "id": "82a6cc60",
        "outputId": "3ff82bd3-6e3f-43db-ba34-400093c027cc"
      },
      "outputs": [
        {
          "output_type": "execute_result",
          "data": {
            "text/plain": [
              "Time      0\n",
              "V1        0\n",
              "V2        0\n",
              "V3        0\n",
              "V4        0\n",
              "V5        0\n",
              "V6        0\n",
              "V7        0\n",
              "V8        0\n",
              "V9        0\n",
              "V10       0\n",
              "V11       0\n",
              "V12       0\n",
              "V13       0\n",
              "V14       0\n",
              "V15       0\n",
              "V16       0\n",
              "V17       0\n",
              "V18       0\n",
              "V19       0\n",
              "V20       0\n",
              "V21       0\n",
              "V22       0\n",
              "V23       0\n",
              "V24       0\n",
              "V25       0\n",
              "V26       0\n",
              "V27       0\n",
              "V28       0\n",
              "Amount    0\n",
              "Class     0\n",
              "dtype: int64"
            ]
          },
          "metadata": {},
          "execution_count": 20
        }
      ],
      "source": [
        "#Donnees manquantes\n",
        "data.isna().sum()"
      ]
    },
    {
      "cell_type": "code",
      "execution_count": null,
      "id": "a18335a1",
      "metadata": {
        "colab": {
          "base_uri": "https://localhost:8080/"
        },
        "id": "a18335a1",
        "outputId": "0a4d8a8f-87e1-459d-d631-b10d56ba4ee6"
      },
      "outputs": [
        {
          "output_type": "execute_result",
          "data": {
            "text/plain": [
              "Time        int32\n",
              "V1        float64\n",
              "V2        float64\n",
              "V3        float64\n",
              "V4        float64\n",
              "V5        float64\n",
              "V6        float64\n",
              "V7        float64\n",
              "V8        float64\n",
              "V9        float64\n",
              "V10       float64\n",
              "V11       float64\n",
              "V12       float64\n",
              "V13       float64\n",
              "V14       float64\n",
              "V15       float64\n",
              "V16       float64\n",
              "V17       float64\n",
              "V18       float64\n",
              "V19       float64\n",
              "V20       float64\n",
              "V21       float64\n",
              "V22       float64\n",
              "V23       float64\n",
              "V24       float64\n",
              "V25       float64\n",
              "V26       float64\n",
              "V27       float64\n",
              "V28       float64\n",
              "Amount    float64\n",
              "Class       int32\n",
              "dtype: object"
            ]
          },
          "metadata": {},
          "execution_count": 21
        }
      ],
      "source": [
        "data.dtypes"
      ]
    },
    {
      "cell_type": "code",
      "execution_count": null,
      "id": "947621f6",
      "metadata": {
        "colab": {
          "base_uri": "https://localhost:8080/"
        },
        "id": "947621f6",
        "outputId": "4e0d76cf-720b-4dbc-9d5a-547951eb5564"
      },
      "outputs": [
        {
          "output_type": "execute_result",
          "data": {
            "text/plain": [
              "Time      23476\n",
              "V1        44628\n",
              "V2        44628\n",
              "V3        44628\n",
              "V4        44628\n",
              "V5        44628\n",
              "V6        44628\n",
              "V7        44628\n",
              "V8        44628\n",
              "V9        44628\n",
              "V10       44628\n",
              "V11       44628\n",
              "V12       44628\n",
              "V13       44628\n",
              "V14       44628\n",
              "V15       44628\n",
              "V16       44628\n",
              "V17       44628\n",
              "V18       44628\n",
              "V19       44628\n",
              "V20       44628\n",
              "V21       44628\n",
              "V22       44628\n",
              "V23       44628\n",
              "V24       44628\n",
              "V25       44628\n",
              "V26       44628\n",
              "V27       44628\n",
              "V28       44628\n",
              "Amount    11882\n",
              "Class         2\n",
              "dtype: int64"
            ]
          },
          "metadata": {},
          "execution_count": 22
        }
      ],
      "source": [
        "data.nunique()"
      ]
    },
    {
      "cell_type": "markdown",
      "id": "7fd72e8d",
      "metadata": {
        "id": "7fd72e8d"
      },
      "source": [
        "### Reechantillonage par  tirage aléatoire"
      ]
    },
    {
      "cell_type": "code",
      "execution_count": null,
      "id": "44b71805",
      "metadata": {
        "id": "44b71805"
      },
      "outputs": [],
      "source": [
        "fraude = data[data['Class'] == 1]\n",
        "non_fraude = data[data['Class'] == 0]"
      ]
    },
    {
      "cell_type": "code",
      "execution_count": null,
      "id": "f281c669",
      "metadata": {
        "id": "f281c669"
      },
      "outputs": [],
      "source": [
        "# Suréchantillonnage de la classe minoritaire (fraude)\n",
        "fraude_upsampled = resample(fraude,\n",
        "                                replace=True,\n",
        "                                n_samples=len(non_fraude),\n",
        "                                random_state=42)"
      ]
    },
    {
      "cell_type": "code",
      "execution_count": null,
      "id": "29c5453e",
      "metadata": {
        "id": "29c5453e"
      },
      "outputs": [],
      "source": [
        "# Fusion des classes frauduleuses suréchantillonnées avec les non frauduleuses\n",
        "df_upsampled = pd.concat([non_fraude,fraude_upsampled])"
      ]
    },
    {
      "cell_type": "code",
      "execution_count": null,
      "id": "766f207b",
      "metadata": {
        "colab": {
          "base_uri": "https://localhost:8080/"
        },
        "id": "766f207b",
        "outputId": "6dcee7cd-47ec-473c-c1b1-d970fe542e5c"
      },
      "outputs": [
        {
          "output_type": "stream",
          "name": "stdout",
          "text": [
            "Class\n",
            "0    45504\n",
            "1    45504\n",
            "Name: count, dtype: int64\n"
          ]
        }
      ],
      "source": [
        "# Afficher les informations sur la répartition des classes\n",
        "print(df_upsampled['Class'].value_counts())"
      ]
    },
    {
      "cell_type": "code",
      "execution_count": null,
      "id": "7ad2e8eb",
      "metadata": {
        "colab": {
          "base_uri": "https://localhost:8080/"
        },
        "id": "7ad2e8eb",
        "outputId": "0c6ab682-625c-4fda-c0b9-ad175cb230bf"
      },
      "outputs": [
        {
          "output_type": "execute_result",
          "data": {
            "text/plain": [
              "Time        int32\n",
              "V1        float64\n",
              "V2        float64\n",
              "V3        float64\n",
              "V4        float64\n",
              "V5        float64\n",
              "V6        float64\n",
              "V7        float64\n",
              "V8        float64\n",
              "V9        float64\n",
              "V10       float64\n",
              "V11       float64\n",
              "V12       float64\n",
              "V13       float64\n",
              "V14       float64\n",
              "V15       float64\n",
              "V16       float64\n",
              "V17       float64\n",
              "V18       float64\n",
              "V19       float64\n",
              "V20       float64\n",
              "V21       float64\n",
              "V22       float64\n",
              "V23       float64\n",
              "V24       float64\n",
              "V25       float64\n",
              "V26       float64\n",
              "V27       float64\n",
              "V28       float64\n",
              "Amount    float64\n",
              "Class       int32\n",
              "dtype: object"
            ]
          },
          "metadata": {},
          "execution_count": 27
        }
      ],
      "source": [
        "df_upsampled.dtypes"
      ]
    },
    {
      "cell_type": "markdown",
      "id": "ba7fe4b7",
      "metadata": {
        "id": "ba7fe4b7"
      },
      "source": [
        " ###   En somme, nous avons choisi de faire un reechantillonnage car les donnees non fraudes étaient trop faible ce qui risquerais de biaiser notre modele. Parcontre nous n'avons pas touché aux données aberrantes car nous pensons que les variables ayant ces données tel que 'amount'peuvent potentiellement représenter des transactions frauduleuses."
      ]
    },
    {
      "cell_type": "markdown",
      "id": "9fd62255",
      "metadata": {
        "id": "9fd62255"
      },
      "source": [
        "# Entraînement du modèle à l'aide de Spark ML."
      ]
    },
    {
      "cell_type": "code",
      "execution_count": null,
      "id": "a2608734",
      "metadata": {
        "id": "a2608734"
      },
      "outputs": [],
      "source": [
        "# Convertir le DataFrame Pandas en un DataFrame Spark\n",
        "df_upsampled_spark = spark.createDataFrame(df_upsampled)"
      ]
    },
    {
      "cell_type": "code",
      "execution_count": null,
      "id": "09d5e31c",
      "metadata": {
        "id": "09d5e31c"
      },
      "outputs": [],
      "source": [
        "# Assembler les fonctionnalités dans une seule colonne \"features\"\n",
        "feature_cols = df_upsampled_spark.columns[:-1]  # toutes les colonnes sauf la dernière (qui est la variable cible)\n",
        "assembler = VectorAssembler(inputCols=feature_cols, outputCol=\"features\")\n",
        "data_assembled = assembler.transform(df_upsampled_spark)"
      ]
    },
    {
      "cell_type": "code",
      "execution_count": null,
      "id": "4270e6ef",
      "metadata": {
        "id": "4270e6ef"
      },
      "outputs": [],
      "source": [
        "# Diviser les données en ensembles d'entraînement et de test\n",
        "train_data, test_data = data_assembled.randomSplit([0.7, 0.3])"
      ]
    },
    {
      "cell_type": "code",
      "execution_count": null,
      "id": "475b00f7",
      "metadata": {
        "id": "475b00f7"
      },
      "outputs": [],
      "source": [
        "# Entraîner le modèle de RandomForestClassifier\n",
        "rf = RandomForestClassifier(labelCol=\"Class\", featuresCol=\"features\", numTrees=70)\n",
        "rf_model = rf.fit(train_data)"
      ]
    },
    {
      "cell_type": "code",
      "execution_count": null,
      "id": "a4bd5d94",
      "metadata": {
        "id": "a4bd5d94"
      },
      "outputs": [],
      "source": [
        "# Entraîner le modèle de Gradient Boosted Trees\n",
        "gbt = GBTClassifier(labelCol=\"Class\", featuresCol=\"features\", maxIter=10)\n",
        "gbt_model = gbt.fit(train_data)"
      ]
    },
    {
      "cell_type": "code",
      "source": [
        "# Évaluations des modèles sur les données de test\n",
        "rf_predictions = rf_model.transform(test_data)\n",
        "gbt_predictions = gbt_model.transform(test_data)"
      ],
      "metadata": {
        "id": "NFl3nj1QzDwz"
      },
      "id": "NFl3nj1QzDwz",
      "execution_count": null,
      "outputs": []
    },
    {
      "cell_type": "code",
      "execution_count": null,
      "id": "d7b45452",
      "metadata": {
        "id": "d7b45452",
        "colab": {
          "base_uri": "https://localhost:8080/"
        },
        "outputId": "f7c8ca54-e3d9-4938-c9d6-f7dfd63f8707"
      },
      "outputs": [
        {
          "output_type": "stream",
          "name": "stdout",
          "text": [
            "+----+------------------+-------------------+-------------------+------------------+-------------------+-------------------+-------------------+-------------------+-------------------+------------------+------------------+-------------------+-------------------+-------------------+------------------+------------------+-------------------+-------------------+-------------------+--------------------+--------------------+-------------------+-------------------+-------------------+-------------------+-------------------+--------------------+-------------------+-------+-----+--------------------+--------------------+--------------------+----------+\n",
            "|Time|                V1|                 V2|                 V3|                V4|                 V5|                 V6|                 V7|                 V8|                 V9|               V10|               V11|                V12|                V13|                V14|               V15|               V16|                V17|                V18|                V19|                 V20|                 V21|                V22|                V23|                V24|                V25|                V26|                 V27|                V28| Amount|Class|            features|       rawPrediction|         probability|prediction|\n",
            "+----+------------------+-------------------+-------------------+------------------+-------------------+-------------------+-------------------+-------------------+-------------------+------------------+------------------+-------------------+-------------------+-------------------+------------------+------------------+-------------------+-------------------+-------------------+--------------------+--------------------+-------------------+-------------------+-------------------+-------------------+-------------------+--------------------+-------------------+-------+-----+--------------------+--------------------+--------------------+----------+\n",
            "|   0|  -1.3598071336738|-0.0727811733098497|   2.53634673796914|  1.37815522427443| -0.338320769942518|  0.462387777762292|  0.239598554061257| 0.0986979012610507|  0.363786969611213|0.0907941719789316|-0.551599533260813| -0.617800855762348| -0.991389847235408| -0.311169353699879|  1.46817697209427|-0.470400525259478|  0.207971241929242| 0.0257905801985591|  0.403992960255733|   0.251412098239705|  -0.018306777944153|  0.277837575558899| -0.110473910188767| 0.0669280749146731|  0.128539358273528| -0.189114843888824|   0.133558376740387|-0.0210530534538215| 149.62|    0|[0.0,-1.359807133...|[69.1620981571593...|[0.98802997367370...|       0.0|\n",
            "|  10|    1.249998742053|  -1.22163680921816|  0.383930151282291| -1.23489868766892|  -1.48541947377961| -0.753230164566149| -0.689404975426345| -0.227487227519552|  -2.09401057344842|  1.32372927445937| 0.227666231237246| -0.242681998944186|   1.20541680770748| -0.317630527025074| 0.725674990179153|-0.815612186027305|  0.873936447614439| -0.847788598847099| -0.683192626267037|  -0.102755941505071|  -0.231809239223849| -0.483285330117712| 0.0846676908596583|  0.392830885335013|  0.161134553588505| -0.354990039673962|  0.0264155490776107| 0.0424220887282304|  121.5|    0|[10.0,1.249998742...|[69.1620981571593...|[0.98802997367370...|       0.0|\n",
            "|  12|-0.752417042956605|  0.345485415344747|   2.05732291276727| -1.46864329840046|   -1.1583936804082|-0.0778498291166733| -0.608581418236123|0.00360348436201849| -0.436166983515744| 0.747730827192802|-0.793980602837221| -0.770406728847129|   1.04762699748088|  -1.06660368148653|  1.10695345662141|  1.66011355713381| -0.279265373246772| -0.419994141181313|  0.432535348618175|   0.263450864446125|   0.499624954671111|   1.35365048557231| -0.256573280448308|-0.0650837078816517|-0.0391243535426488|-0.0870864732146962|  -0.180997500092721|  0.129394059390202|  15.99|    0|[12.0,-0.75241704...|[66.6579418417137...|[0.95225631202448...|       0.0|\n",
            "|  14| -5.40125766315825|  -5.45014783420644|   1.18630463143652|  1.73623880012095|   3.04910587764025|  -1.76340557365201|  -1.55973769907953|  0.160841747266769|   1.23308974041888| 0.345172827050629| 0.917229867699146|  0.970116716069048| -0.266567764915222| -0.479129929276704|-0.526608502569153|  0.47200411177674| -0.725480944982201|  0.075081351540202| -0.406866573198217|   -2.19684802485647|  -0.503600328973703|  0.984459785590244|   2.45858857639219| 0.0421188969891572| -0.481630823956716| -0.621272013713977|   0.392053289557744|  0.949594245504846|   46.8|    0|[14.0,-5.40125766...|[65.8091004009163...|[0.94013000572737...|       0.0|\n",
            "|  24|  1.23742903021294| 0.0610425841868962|  0.380525879794222| 0.761564111432371| -0.359770710369787| -0.494084149915291|0.00649421810779282| -0.133862379689891|  0.438809736716666|-0.207358045517011| -0.92918211475144|    0.5271060605933|  0.348675901114132| -0.152535138608542|-0.218385629647018|-0.191551818259596| -0.116580602716053| -0.633790816521738|  0.348415801097774| -0.0663513345433597|  -0.245682498259096| -0.530900256150069|-0.0442653968237672| 0.0791680288586917|   0.50913568954621|  0.288857833917937| -0.0227049816562784| 0.0118362314304161|  17.28|    0|[24.0,1.237429030...|[69.1620981571593...|[0.98802997367370...|       0.0|\n",
            "|  25|  1.11400859541157| 0.0855460896870318|  0.493702487395368|  1.33575998514475| -0.300188550950467|-0.0107537834263628|  -0.11876001509605|  0.188616695943139|   0.20568684906514|0.0822622587556722|  1.13355567149479|  0.626699002489221|  -1.49278039238295|  0.520787893899183|-0.674592596871812|-0.529108241855907|  0.158256197923207| -0.398751479349713|   -0.1457089090445|  -0.273832367278761| -0.0532336603921118|-0.0047601512119153|-0.0314701703936453|  0.198053718143193|  0.565007312878958| -0.337718126200803|  0.0290574021222937|0.00445263143187997|   4.45|    0|[25.0,1.114008595...|[68.9013723736374...|[0.98430531962339...|       0.0|\n",
            "|  29|  1.11088034163339|  0.168716770722767|  0.517143960377807|  1.32540691997371| -0.191573353787583| 0.0195037226488424|-0.0318491084003128|  0.117619919555324|  0.017664720727696|0.0448647914479061|   1.3450747987323|   1.28633962057665| -0.252267065685462|  0.274457682308765|-0.810394372378945|-0.587005063447401| 0.0874510738489092| -0.550473628153257|   -0.1547493550961|   -0.19011971084361| -0.0377086544989231| 0.0957014620432248|-0.0481976468634584|  0.232114939125133|  0.606200748965636| -0.342096828961882|  0.0367696053150443| 0.0074799607310723|   6.54|    0|[29.0,1.110880341...|[69.1702897382520...|[0.98814699626074...|       0.0|\n",
            "|  32| -2.00887179458613|   2.19852650316899|  0.144241739942708|  1.15943226211997| -0.815174287845416|  0.182288271256805| -0.617108301549016|   1.53081672758398| -0.586832286254875| 0.129875750830725| 0.658479448325034|   1.26504921848771|   -0.2065181664078|   1.01360321158387|-0.549413509634851|-0.708034201312287|  0.869643169489364|-0.0956595595028157|  0.944395409086946|  0.0287401249115119|  0.0949173066809993|  0.294982704383812| 0.0110813838630497| 0.0152493720986061| 0.0342106363420669| -0.236141101571547|   0.128290672598229|  0.117985989919298|   2.35|    0|[32.0,-2.00887179...|[68.9860097142399...|[0.98551442448914...|       0.0|\n",
            "|  32|  1.24905471963177| -0.624727077037783| -0.710588903536079|-0.991600360912692|   1.42997319213398|   3.69297701929891|  -1.09020864122523|  0.967290815452715|  0.850148519454057|-0.307081111779614|-0.456245308321934|  0.229981349844581|-0.0169130995868782| -0.220846086114885| 0.362417698896289| 0.315222304210749| -0.512265445432752|   0.11899461869584|  0.574720159539024|  0.0978526921491637|-0.00629271415563999|0.00920022451060978| -0.129463200605864|   1.11297017048455|  0.500382108623099|   1.19654919930281| -0.0482204354357297|0.00509362198376849|  29.89|    0|[32.0,1.249054719...|[69.1620981571593...|[0.98802997367370...|       0.0|\n",
            "|  33|-0.935731508971261|  0.170415774156885|   2.74626126916024| -1.07796491232198| -0.305594036012037|  0.011577039242069| -0.296178450741079|  0.402775569749032|-0.0404717463090409|-0.852045975590358|  1.55210930576859|  0.953561030493519|  0.415429902142844| -0.233899924821916| 0.452335831951489| 0.844368276957724| -0.822739085535726|  0.338821621743895|  -1.21423442764473|-0.00541945029011228|   0.401212016276093|   1.06486425408903|  -0.15832543563046|  0.295505486260758| -0.259369647631841|  0.754194722556598|  0.0466637698225124|  0.093947918225147|    9.1|    0|[33.0,-0.93573150...|[69.2091832502238...|[0.98870261786034...|       0.0|\n",
            "|  36| -1.00492933857661| -0.985977681437715|-0.0380388289597724|  3.71006135915003|  -6.63195083213121|   5.12210258142297|   4.37169125592055|  -2.00686750606648| -0.278736460739287|-0.230872923441907| 0.145155263239837|-0.0631560504596301|  -0.79958507056403| -0.341956368039262|-0.930529781903999| 0.510510185482595| 0.0924281060557055|  0.823984132238812|   1.19039780013038|-0.00197997769185823|    1.39340600409007| -0.381671395166542|  0.969719175646086| 0.0194447958389348|   0.57092281345927|  0.333277781691674|   0.857373192365587|-0.0755382461617961|1402.95|    0|[36.0,-1.00492933...|[63.1258512628591...|[0.90179787518370...|       0.0|\n",
            "|  36|  1.09552460629831| -0.116085345733392|   1.39791191546724|  1.49754690019101|   -1.0491239994212| 0.0728385348036489| -0.723802080255301|  0.287532472980736|  0.996326812363796|-0.149144652839117|-0.508291668719983|-0.0278409029803608|  -1.32155975244457|-0.0624044666639764| 0.505750535601976|-0.209298470605219|  0.207536533977023| -0.471334706912941| -0.736297582236995|  -0.275034578640693| -0.0332341723097201| 0.0932618845502939| 0.0894983953019386|  0.361261297686165|  0.250962947610691| -0.378279979683085|  0.0810238996896179| 0.0342269381560285|   2.09|    0|[36.0,1.095524606...|[68.9013723736374...|[0.98430531962339...|       0.0|\n",
            "|  38| 0.158331782301759|  0.872687435246972|  0.965524582020175|  1.80212716128867|  0.139021981009842|  0.110863099962207|  0.559079185876476|-0.0290709324327654| -0.394912253717594|0.0326744802467683|-0.500918900235755|  0.631916037705799|  0.754693616555678|-0.0476554686939835| 0.348217616820134| -1.49352680501418|  0.757230631601602|  -0.68436921621072|   1.30335875909536|   0.089837782828709|   0.116269965704937|  0.691685038730085|  0.121112830020818|  0.116142167643855|   -1.1127250116355| -0.303369145265663|    0.32753280391296|  0.255621383050512|  21.76|    0|[38.0,0.158331782...|[66.9474628328102...|[0.95639232618300...|       0.0|\n",
            "|  40|  1.11069200372208| 0.0819419013829698|  0.406063037313593|  1.29074038305994| -0.169813148258441|  0.120955382832246| -0.080845204793183|   0.17437308481531|  0.152070726014375|0.0652667231931254|  1.02454976986831|  0.793137179599713|  -1.01503970254654|  0.422995451627276|-0.706629551160314|-0.488455357544419| 0.0585314477120091| -0.383627225929433|-0.0740676980785363|    -0.2198461004264| -0.0560239846247868|-0.0116030864282728| -0.070482892402791|0.00434519145725972|   0.60392864054067| -0.327424451316207|  0.0298896885491626|0.00494429617585088|  13.84|    0|[40.0,1.110692003...|[69.1620981571593...|[0.98802997367370...|       0.0|\n",
            "|  41|   1.1387593359078|  -1.19295282747355|   1.40713083554771|-0.330070103385594|  -2.06950346000893| -0.242175406330976|  -1.30663511427275|  0.104510402617049|    0.1346282320753| 0.493931277386145|  -0.8951875984556| -0.182695452453829|  0.146080827117795| -0.586610838748991| 0.797189022079305|-0.891720829484445|-0.0792078211726979|   1.54158849386504| -0.983586179206678|  -0.299307434385076|  -0.156198371672557|-0.0305687768825267|-0.0197233842526695|  0.433752601084651|-0.0295214595585981|   1.14124130155645|-0.00861206031729643| 0.0415638961546465|  96.94|    0|[41.0,1.138759335...|[69.1963966630634...|[0.98851995232947...|       0.0|\n",
            "|  41|  1.14552438734553|  0.575067968122658|  0.194008459987088|  2.59819174498796|-0.0922100226629796|   -1.0444295836732|  0.531587592965216| -0.241888126572805| -0.896287173943134| 0.757952330755115|-0.448937077852659| -0.660863324849119|  -1.30852217275468|  0.788863794122663| 0.320294451189993| 0.295403810318671|  -0.28787845487047| -0.451452922896375|  -1.01144616734405|  -0.191049987046098|  0.0111063338152907| -0.119703100297783|-0.0765095275824603|  0.691320431435738|  0.633983977143587| 0.0487412744528967| -0.0531919416370361| 0.0162514987654748|  34.13|    0|[41.0,1.145524387...|[66.8739756493074...|[0.95534250927582...|       0.0|\n",
            "|  42|-0.249361327961551|  0.399227372862504|  0.068009333708328| -1.06061882632292|   2.41039917069756|   3.73657391553938|  0.316446080126551|  0.672296305826337|  0.015140168440884|-0.269501562245437|-0.495120449984549| -0.161505830003069| -0.274214413311662|  -0.27619076761852|-0.172408739733759|-0.118962106359993| -0.550002391086682| -0.148051640353341|  0.771761782834217|   0.107676349446719|  -0.257662841099466| -0.616762290166941| -0.156668822049934|   1.03113494324514|  0.120617108005851|  0.310494066716854|  -0.288298624314493| -0.223964274021454|  32.51|    0|[42.0,-0.24936132...|[69.1620981571593...|[0.98802997367370...|       0.0|\n",
            "|  44|-0.899992449383227|  0.136254782203579|   1.88366470990807|-0.208996095601994|   1.05144062021155|   1.90524133632435|  0.241423250138503|  0.647630723466254|-0.0534662496159594|-0.504170551077414|  1.25459880723608| -0.236629189514631|  -2.51758729019083|  0.384573507124186| 0.343832096830213| -1.37056313688268|  0.958567981636055|  -1.60724169293268| -0.647256440015303|  -0.121725831425047| -0.0815002177255612|-0.0169258892202723| -0.147706272837016|  -1.38462020304382|-0.0243520909920119|  0.412659496074958|  -0.106776267626847| -0.190475773260189|  21.55|    0|[44.0,-0.89999244...|[69.1694542800498...|[0.98813506114356...|       0.0|\n",
            "|  46| -1.92321320363186| -0.870482324116727|   2.32016962893044|  1.98877580146727|  0.417090785024797| -0.380013723200936|  0.472139269598768| -0.557333241041249| -0.649079050397235|  1.41088888300776|-0.517736958000633| -0.985201772757918| -0.400594745446622| -0.830664635864875| 0.338009486308628|0.0299241758036659|   0.37115031113381|  -1.05431867206706|   1.89036392388461|   -0.36922739831731|  -0.686487767489979| -0.779267566437133|   1.08605501915054|  0.518863427142479| -0.363712017511894|   3.06557569653728|  -0.589022174639728| -0.396109822649589|   35.0|    0|[46.0,-1.92321320...|[67.9400418882985...|[0.97057202697569...|       0.0|\n",
            "|  48| -1.79340624422786|   1.85460399082838|  0.979513976644481|  1.11226152645262| -0.206402962131258| -0.199545668092445|    0.6166424042353| 0.0641803531775705|  0.690271532341837|  1.55172381714636| -0.16196484167768|  0.424213060982246| 0.0159444010110314| -0.405832818314697| 0.271930432913219| -1.42302064864536|  0.676324382969801| -0.911048300036704|  0.461845498112606|   0.667846871696291|  -0.180722525691681|  0.235138169654476|-0.0914415713260925|  0.417654473831525|  0.122733846237321| -0.232985041190746|   0.811879841478301|  0.618568311939622|  26.72|    0|[48.0,-1.79340624...|[69.2641961667369...|[0.98948851666767...|       0.0|\n",
            "+----+------------------+-------------------+-------------------+------------------+-------------------+-------------------+-------------------+-------------------+-------------------+------------------+------------------+-------------------+-------------------+-------------------+------------------+------------------+-------------------+-------------------+-------------------+--------------------+--------------------+-------------------+-------------------+-------------------+-------------------+-------------------+--------------------+-------------------+-------+-----+--------------------+--------------------+--------------------+----------+\n",
            "only showing top 20 rows\n",
            "\n",
            "+----+------------------+-------------------+-------------------+------------------+-------------------+-------------------+-------------------+-------------------+-------------------+------------------+------------------+-------------------+-------------------+-------------------+------------------+------------------+-------------------+-------------------+-------------------+--------------------+--------------------+-------------------+-------------------+-------------------+-------------------+-------------------+--------------------+-------------------+-------+-----+--------------------+--------------------+--------------------+----------+\n",
            "|Time|                V1|                 V2|                 V3|                V4|                 V5|                 V6|                 V7|                 V8|                 V9|               V10|               V11|                V12|                V13|                V14|               V15|               V16|                V17|                V18|                V19|                 V20|                 V21|                V22|                V23|                V24|                V25|                V26|                 V27|                V28| Amount|Class|            features|       rawPrediction|         probability|prediction|\n",
            "+----+------------------+-------------------+-------------------+------------------+-------------------+-------------------+-------------------+-------------------+-------------------+------------------+------------------+-------------------+-------------------+-------------------+------------------+------------------+-------------------+-------------------+-------------------+--------------------+--------------------+-------------------+-------------------+-------------------+-------------------+-------------------+--------------------+-------------------+-------+-----+--------------------+--------------------+--------------------+----------+\n",
            "|   0|  -1.3598071336738|-0.0727811733098497|   2.53634673796914|  1.37815522427443| -0.338320769942518|  0.462387777762292|  0.239598554061257| 0.0986979012610507|  0.363786969611213|0.0907941719789316|-0.551599533260813| -0.617800855762348| -0.991389847235408| -0.311169353699879|  1.46817697209427|-0.470400525259478|  0.207971241929242| 0.0257905801985591|  0.403992960255733|   0.251412098239705|  -0.018306777944153|  0.277837575558899| -0.110473910188767| 0.0669280749146731|  0.128539358273528| -0.189114843888824|   0.133558376740387|-0.0210530534538215| 149.62|    0|[0.0,-1.359807133...|[1.32588776135918...|[0.93412033960021...|       0.0|\n",
            "|  10|    1.249998742053|  -1.22163680921816|  0.383930151282291| -1.23489868766892|  -1.48541947377961| -0.753230164566149| -0.689404975426345| -0.227487227519552|  -2.09401057344842|  1.32372927445937| 0.227666231237246| -0.242681998944186|   1.20541680770748| -0.317630527025074| 0.725674990179153|-0.815612186027305|  0.873936447614439| -0.847788598847099| -0.683192626267037|  -0.102755941505071|  -0.231809239223849| -0.483285330117712| 0.0846676908596583|  0.392830885335013|  0.161134553588505| -0.354990039673962|  0.0264155490776107| 0.0424220887282304|  121.5|    0|[10.0,1.249998742...|[1.32588776135918...|[0.93412033960021...|       0.0|\n",
            "|  12|-0.752417042956605|  0.345485415344747|   2.05732291276727| -1.46864329840046|   -1.1583936804082|-0.0778498291166733| -0.608581418236123|0.00360348436201849| -0.436166983515744| 0.747730827192802|-0.793980602837221| -0.770406728847129|   1.04762699748088|  -1.06660368148653|  1.10695345662141|  1.66011355713381| -0.279265373246772| -0.419994141181313|  0.432535348618175|   0.263450864446125|   0.499624954671111|   1.35365048557231| -0.256573280448308|-0.0650837078816517|-0.0391243535426488|-0.0870864732146962|  -0.180997500092721|  0.129394059390202|  15.99|    0|[12.0,-0.75241704...|[1.32588776135918...|[0.93412033960021...|       0.0|\n",
            "|  14| -5.40125766315825|  -5.45014783420644|   1.18630463143652|  1.73623880012095|   3.04910587764025|  -1.76340557365201|  -1.55973769907953|  0.160841747266769|   1.23308974041888| 0.345172827050629| 0.917229867699146|  0.970116716069048| -0.266567764915222| -0.479129929276704|-0.526608502569153|  0.47200411177674| -0.725480944982201|  0.075081351540202| -0.406866573198217|   -2.19684802485647|  -0.503600328973703|  0.984459785590244|   2.45858857639219| 0.0421188969891572| -0.481630823956716| -0.621272013713977|   0.392053289557744|  0.949594245504846|   46.8|    0|[14.0,-5.40125766...|[1.46950486347740...|[0.94974147954724...|       0.0|\n",
            "|  24|  1.23742903021294| 0.0610425841868962|  0.380525879794222| 0.761564111432371| -0.359770710369787| -0.494084149915291|0.00649421810779282| -0.133862379689891|  0.438809736716666|-0.207358045517011| -0.92918211475144|    0.5271060605933|  0.348675901114132| -0.152535138608542|-0.218385629647018|-0.191551818259596| -0.116580602716053| -0.633790816521738|  0.348415801097774| -0.0663513345433597|  -0.245682498259096| -0.530900256150069|-0.0442653968237672| 0.0791680288586917|   0.50913568954621|  0.288857833917937| -0.0227049816562784| 0.0118362314304161|  17.28|    0|[24.0,1.237429030...|[1.32588776135918...|[0.93412033960021...|       0.0|\n",
            "|  25|  1.11400859541157| 0.0855460896870318|  0.493702487395368|  1.33575998514475| -0.300188550950467|-0.0107537834263628|  -0.11876001509605|  0.188616695943139|   0.20568684906514|0.0822622587556722|  1.13355567149479|  0.626699002489221|  -1.49278039238295|  0.520787893899183|-0.674592596871812|-0.529108241855907|  0.158256197923207| -0.398751479349713|   -0.1457089090445|  -0.273832367278761| -0.0532336603921118|-0.0047601512119153|-0.0314701703936453|  0.198053718143193|  0.565007312878958| -0.337718126200803|  0.0290574021222937|0.00445263143187997|   4.45|    0|[25.0,1.114008595...|[1.32588776135918...|[0.93412033960021...|       0.0|\n",
            "|  29|  1.11088034163339|  0.168716770722767|  0.517143960377807|  1.32540691997371| -0.191573353787583| 0.0195037226488424|-0.0318491084003128|  0.117619919555324|  0.017664720727696|0.0448647914479061|   1.3450747987323|   1.28633962057665| -0.252267065685462|  0.274457682308765|-0.810394372378945|-0.587005063447401| 0.0874510738489092| -0.550473628153257|   -0.1547493550961|   -0.19011971084361| -0.0377086544989231| 0.0957014620432248|-0.0481976468634584|  0.232114939125133|  0.606200748965636| -0.342096828961882|  0.0367696053150443| 0.0074799607310723|   6.54|    0|[29.0,1.110880341...|[1.32588776135918...|[0.93412033960021...|       0.0|\n",
            "|  32| -2.00887179458613|   2.19852650316899|  0.144241739942708|  1.15943226211997| -0.815174287845416|  0.182288271256805| -0.617108301549016|   1.53081672758398| -0.586832286254875| 0.129875750830725| 0.658479448325034|   1.26504921848771|   -0.2065181664078|   1.01360321158387|-0.549413509634851|-0.708034201312287|  0.869643169489364|-0.0956595595028157|  0.944395409086946|  0.0287401249115119|  0.0949173066809993|  0.294982704383812| 0.0110813838630497| 0.0152493720986061| 0.0342106363420669| -0.236141101571547|   0.128290672598229|  0.117985989919298|   2.35|    0|[32.0,-2.00887179...|[1.32588776135918...|[0.93412033960021...|       0.0|\n",
            "|  32|  1.24905471963177| -0.624727077037783| -0.710588903536079|-0.991600360912692|   1.42997319213398|   3.69297701929891|  -1.09020864122523|  0.967290815452715|  0.850148519454057|-0.307081111779614|-0.456245308321934|  0.229981349844581|-0.0169130995868782| -0.220846086114885| 0.362417698896289| 0.315222304210749| -0.512265445432752|   0.11899461869584|  0.574720159539024|  0.0978526921491637|-0.00629271415563999|0.00920022451060978| -0.129463200605864|   1.11297017048455|  0.500382108623099|   1.19654919930281| -0.0482204354357297|0.00509362198376849|  29.89|    0|[32.0,1.249054719...|[1.32588776135918...|[0.93412033960021...|       0.0|\n",
            "|  33|-0.935731508971261|  0.170415774156885|   2.74626126916024| -1.07796491232198| -0.305594036012037|  0.011577039242069| -0.296178450741079|  0.402775569749032|-0.0404717463090409|-0.852045975590358|  1.55210930576859|  0.953561030493519|  0.415429902142844| -0.233899924821916| 0.452335831951489| 0.844368276957724| -0.822739085535726|  0.338821621743895|  -1.21423442764473|-0.00541945029011228|   0.401212016276093|   1.06486425408903|  -0.15832543563046|  0.295505486260758| -0.259369647631841|  0.754194722556598|  0.0466637698225124|  0.093947918225147|    9.1|    0|[33.0,-0.93573150...|[1.32588776135918...|[0.93412033960021...|       0.0|\n",
            "|  36| -1.00492933857661| -0.985977681437715|-0.0380388289597724|  3.71006135915003|  -6.63195083213121|   5.12210258142297|   4.37169125592055|  -2.00686750606648| -0.278736460739287|-0.230872923441907| 0.145155263239837|-0.0631560504596301|  -0.79958507056403| -0.341956368039262|-0.930529781903999| 0.510510185482595| 0.0924281060557055|  0.823984132238812|   1.19039780013038|-0.00197997769185823|    1.39340600409007| -0.381671395166542|  0.969719175646086| 0.0194447958389348|   0.57092281345927|  0.333277781691674|   0.857373192365587|-0.0755382461617961|1402.95|    0|[36.0,-1.00492933...|[0.73408051295777...|[0.81277771009979...|       0.0|\n",
            "|  36|  1.09552460629831| -0.116085345733392|   1.39791191546724|  1.49754690019101|   -1.0491239994212| 0.0728385348036489| -0.723802080255301|  0.287532472980736|  0.996326812363796|-0.149144652839117|-0.508291668719983|-0.0278409029803608|  -1.32155975244457|-0.0624044666639764| 0.505750535601976|-0.209298470605219|  0.207536533977023| -0.471334706912941| -0.736297582236995|  -0.275034578640693| -0.0332341723097201| 0.0932618845502939| 0.0894983953019386|  0.361261297686165|  0.250962947610691| -0.378279979683085|  0.0810238996896179| 0.0342269381560285|   2.09|    0|[36.0,1.095524606...|[1.32588776135918...|[0.93412033960021...|       0.0|\n",
            "|  38| 0.158331782301759|  0.872687435246972|  0.965524582020175|  1.80212716128867|  0.139021981009842|  0.110863099962207|  0.559079185876476|-0.0290709324327654| -0.394912253717594|0.0326744802467683|-0.500918900235755|  0.631916037705799|  0.754693616555678|-0.0476554686939835| 0.348217616820134| -1.49352680501418|  0.757230631601602|  -0.68436921621072|   1.30335875909536|   0.089837782828709|   0.116269965704937|  0.691685038730085|  0.121112830020818|  0.116142167643855|   -1.1127250116355| -0.303369145265663|    0.32753280391296|  0.255621383050512|  21.76|    0|[38.0,0.158331782...|[1.46950486347740...|[0.94974147954724...|       0.0|\n",
            "|  40|  1.11069200372208| 0.0819419013829698|  0.406063037313593|  1.29074038305994| -0.169813148258441|  0.120955382832246| -0.080845204793183|   0.17437308481531|  0.152070726014375|0.0652667231931254|  1.02454976986831|  0.793137179599713|  -1.01503970254654|  0.422995451627276|-0.706629551160314|-0.488455357544419| 0.0585314477120091| -0.383627225929433|-0.0740676980785363|    -0.2198461004264| -0.0560239846247868|-0.0116030864282728| -0.070482892402791|0.00434519145725972|   0.60392864054067| -0.327424451316207|  0.0298896885491626|0.00494429617585088|  13.84|    0|[40.0,1.110692003...|[1.32588776135918...|[0.93412033960021...|       0.0|\n",
            "|  41|   1.1387593359078|  -1.19295282747355|   1.40713083554771|-0.330070103385594|  -2.06950346000893| -0.242175406330976|  -1.30663511427275|  0.104510402617049|    0.1346282320753| 0.493931277386145|  -0.8951875984556| -0.182695452453829|  0.146080827117795| -0.586610838748991| 0.797189022079305|-0.891720829484445|-0.0792078211726979|   1.54158849386504| -0.983586179206678|  -0.299307434385076|  -0.156198371672557|-0.0305687768825267|-0.0197233842526695|  0.433752601084651|-0.0295214595585981|   1.14124130155645|-0.00861206031729643| 0.0415638961546465|  96.94|    0|[41.0,1.138759335...|[1.32588776135918...|[0.93412033960021...|       0.0|\n",
            "|  41|  1.14552438734553|  0.575067968122658|  0.194008459987088|  2.59819174498796|-0.0922100226629796|   -1.0444295836732|  0.531587592965216| -0.241888126572805| -0.896287173943134| 0.757952330755115|-0.448937077852659| -0.660863324849119|  -1.30852217275468|  0.788863794122663| 0.320294451189993| 0.295403810318671|  -0.28787845487047| -0.451452922896375|  -1.01144616734405|  -0.191049987046098|  0.0111063338152907| -0.119703100297783|-0.0765095275824603|  0.691320431435738|  0.633983977143587| 0.0487412744528967| -0.0531919416370361| 0.0162514987654748|  34.13|    0|[41.0,1.145524387...|[1.32590267922033...|[0.93412217565278...|       0.0|\n",
            "|  42|-0.249361327961551|  0.399227372862504|  0.068009333708328| -1.06061882632292|   2.41039917069756|   3.73657391553938|  0.316446080126551|  0.672296305826337|  0.015140168440884|-0.269501562245437|-0.495120449984549| -0.161505830003069| -0.274214413311662|  -0.27619076761852|-0.172408739733759|-0.118962106359993| -0.550002391086682| -0.148051640353341|  0.771761782834217|   0.107676349446719|  -0.257662841099466| -0.616762290166941| -0.156668822049934|   1.03113494324514|  0.120617108005851|  0.310494066716854|  -0.288298624314493| -0.223964274021454|  32.51|    0|[42.0,-0.24936132...|[1.32588776135918...|[0.93412033960021...|       0.0|\n",
            "|  44|-0.899992449383227|  0.136254782203579|   1.88366470990807|-0.208996095601994|   1.05144062021155|   1.90524133632435|  0.241423250138503|  0.647630723466254|-0.0534662496159594|-0.504170551077414|  1.25459880723608| -0.236629189514631|  -2.51758729019083|  0.384573507124186| 0.343832096830213| -1.37056313688268|  0.958567981636055|  -1.60724169293268| -0.647256440015303|  -0.121725831425047| -0.0815002177255612|-0.0169258892202723| -0.147706272837016|  -1.38462020304382|-0.0243520909920119|  0.412659496074958|  -0.106776267626847| -0.190475773260189|  21.55|    0|[44.0,-0.89999244...|[1.32588776135918...|[0.93412033960021...|       0.0|\n",
            "|  46| -1.92321320363186| -0.870482324116727|   2.32016962893044|  1.98877580146727|  0.417090785024797| -0.380013723200936|  0.472139269598768| -0.557333241041249| -0.649079050397235|  1.41088888300776|-0.517736958000633| -0.985201772757918| -0.400594745446622| -0.830664635864875| 0.338009486308628|0.0299241758036659|   0.37115031113381|  -1.05431867206706|   1.89036392388461|   -0.36922739831731|  -0.686487767489979| -0.779267566437133|   1.08605501915054|  0.518863427142479| -0.363712017511894|   3.06557569653728|  -0.589022174639728| -0.396109822649589|   35.0|    0|[46.0,-1.92321320...|[1.46950486347740...|[0.94974147954724...|       0.0|\n",
            "|  48| -1.79340624422786|   1.85460399082838|  0.979513976644481|  1.11226152645262| -0.206402962131258| -0.199545668092445|    0.6166424042353| 0.0641803531775705|  0.690271532341837|  1.55172381714636| -0.16196484167768|  0.424213060982246| 0.0159444010110314| -0.405832818314697| 0.271930432913219| -1.42302064864536|  0.676324382969801| -0.911048300036704|  0.461845498112606|   0.667846871696291|  -0.180722525691681|  0.235138169654476|-0.0914415713260925|  0.417654473831525|  0.122733846237321| -0.232985041190746|   0.811879841478301|  0.618568311939622|  26.72|    0|[48.0,-1.79340624...|[1.32588776135918...|[0.93412033960021...|       0.0|\n",
            "+----+------------------+-------------------+-------------------+------------------+-------------------+-------------------+-------------------+-------------------+-------------------+------------------+------------------+-------------------+-------------------+-------------------+------------------+------------------+-------------------+-------------------+-------------------+--------------------+--------------------+-------------------+-------------------+-------------------+-------------------+-------------------+--------------------+-------------------+-------+-----+--------------------+--------------------+--------------------+----------+\n",
            "only showing top 20 rows\n",
            "\n"
          ]
        }
      ],
      "source": [
        "# Affichage des prédictions\n",
        "rf_predictions.show()\n",
        "gbt_predictions.show()"
      ]
    },
    {
      "cell_type": "markdown",
      "source": [
        "**Évaluation du modèle: évaluer la performance du modèle en utilisant des\n",
        "métriques telles que la précision, le rappel et le F1-score.**\n"
      ],
      "metadata": {
        "id": "z6mQBCSV2AF4"
      },
      "id": "z6mQBCSV2AF4"
    },
    {
      "cell_type": "code",
      "source": [
        "# Création d un évaluateur pour la précision\n",
        "evaluator = MulticlassClassificationEvaluator(labelCol=\"Class\", predictionCol=\"prediction\", metricName=\"accuracy\")"
      ],
      "metadata": {
        "id": "e7xJAiSN0RYS"
      },
      "id": "e7xJAiSN0RYS",
      "execution_count": null,
      "outputs": []
    },
    {
      "cell_type": "code",
      "source": [
        "# Calcule la précision pour RandomForest\n",
        "accuracy_rf = evaluator.evaluate(rf_predictions)\n",
        "print(\"Précision RandomForest :\", accuracy_rf)"
      ],
      "metadata": {
        "id": "xaAowVsP05O7",
        "colab": {
          "base_uri": "https://localhost:8080/"
        },
        "outputId": "32232df2-5add-46b2-fa2d-7226b202b3b8"
      },
      "id": "xaAowVsP05O7",
      "execution_count": null,
      "outputs": [
        {
          "output_type": "stream",
          "name": "stdout",
          "text": [
            "Précision RandomForest : 0.9924178908613713\n"
          ]
        }
      ]
    },
    {
      "cell_type": "code",
      "source": [
        "# Calcule la précision pour Gradient Boosted Trees\n",
        "accuracy_gbt = evaluator.evaluate(gbt_predictions)\n",
        "print(\"Précision Gradient Boosted Trees :\", accuracy_gbt)"
      ],
      "metadata": {
        "id": "BoWLyuzB1K_-",
        "colab": {
          "base_uri": "https://localhost:8080/"
        },
        "outputId": "9d5f6071-11cd-489e-9a48-d62d587e84d3"
      },
      "id": "BoWLyuzB1K_-",
      "execution_count": null,
      "outputs": [
        {
          "output_type": "stream",
          "name": "stdout",
          "text": [
            "Précision Gradient Boosted Trees : 0.9965370174607225\n"
          ]
        }
      ]
    },
    {
      "cell_type": "code",
      "source": [
        "# Comparer les performances en termes de précision\n",
        "if accuracy_rf > accuracy_gbt:\n",
        "    print(\"RandomForest est plus performant en termes de précision.\")\n",
        "elif accuracy_rf < accuracy_gbt:\n",
        "    print(\"Gradient Boosted Trees est plus performant en termes de précision.\")\n",
        "else:\n",
        "    print(\"Les deux modèles ont la même précision.\")"
      ],
      "metadata": {
        "id": "B3Vu2llO1a2A",
        "colab": {
          "base_uri": "https://localhost:8080/"
        },
        "outputId": "e2ce2989-b6dd-47c3-b186-d9454c0acea4"
      },
      "id": "B3Vu2llO1a2A",
      "execution_count": null,
      "outputs": [
        {
          "output_type": "stream",
          "name": "stdout",
          "text": [
            "Gradient Boosted Trees est plus performant en termes de précision.\n"
          ]
        }
      ]
    },
    {
      "cell_type": "code",
      "source": [
        "# Création d un évaluateur pour le rappel\n",
        "evaluator = MulticlassClassificationEvaluator(labelCol=\"Class\", predictionCol=\"prediction\", metricName=\"weightedRecall\")"
      ],
      "metadata": {
        "id": "FWmPpxUb20jh"
      },
      "id": "FWmPpxUb20jh",
      "execution_count": null,
      "outputs": []
    },
    {
      "cell_type": "code",
      "source": [
        "# Calcule du rappel pour RandomForest et Gradient Boosted Trees\n",
        "recall_rf = evaluator.evaluate(rf_predictions)\n",
        "print(\"Rappel RandomForest :\", recall_rf)\n",
        "recall_gbt = evaluator.evaluate(gbt_predictions)\n",
        "print(\"Gradient Boosted Trees :\", recall_gbt)"
      ],
      "metadata": {
        "id": "uSuKKSUW3ezB",
        "colab": {
          "base_uri": "https://localhost:8080/"
        },
        "outputId": "2e3947fa-923d-469a-b7fc-f5f410983b9d"
      },
      "id": "uSuKKSUW3ezB",
      "execution_count": null,
      "outputs": [
        {
          "output_type": "stream",
          "name": "stdout",
          "text": [
            "Rappel RandomForest : 0.9924178908613713\n",
            "Gradient Boosted Trees : 0.9965370174607224\n"
          ]
        }
      ]
    },
    {
      "cell_type": "code",
      "source": [
        "# Création un évaluateur pour le F1-score\n",
        "evaluator = MulticlassClassificationEvaluator(labelCol=\"Class\", predictionCol=\"prediction\", metricName=\"f1\")"
      ],
      "metadata": {
        "id": "n472moNB4gO7"
      },
      "id": "n472moNB4gO7",
      "execution_count": null,
      "outputs": []
    },
    {
      "cell_type": "code",
      "source": [
        "# Calcule du F1-score\n",
        "f1_score_rf = evaluator.evaluate(rf_predictions)\n",
        "print(\"F1-score  du rf :\", f1_score_rf)\n",
        "f1_score_gbt = evaluator.evaluate(gbt_predictions)\n",
        "print(\"F1-score du gbt:\", f1_score_gbt)"
      ],
      "metadata": {
        "id": "M_ZmIURg4v69",
        "colab": {
          "base_uri": "https://localhost:8080/"
        },
        "outputId": "3b0f4cbc-1f0b-4c22-e2c2-3003e53713cc"
      },
      "id": "M_ZmIURg4v69",
      "execution_count": null,
      "outputs": [
        {
          "output_type": "stream",
          "name": "stdout",
          "text": [
            "F1-score  du rf : 0.9924177025575696\n",
            "F1-score du gbt: 0.9965369440173063\n"
          ]
        }
      ]
    },
    {
      "cell_type": "markdown",
      "source": [
        "Nous avons choisi ces 2 modeles car ils sont robustes aux donnees mais apres l evaluation des modeles avec les metriques nous remarquons que notre modele avec Gradient Boosted Trees  est plus performant . Nous continuons avec ce modele."
      ],
      "metadata": {
        "id": "6rAH5xAQ5Y1l"
      },
      "id": "6rAH5xAQ5Y1l"
    },
    {
      "cell_type": "markdown",
      "source": [
        "**# Optimisation du modèle: explorer différentes approches pour améliorer les\n",
        "performances du modèle, telles que la sélection de caractéristiques, le réglage\n",
        " des hyperparamètres et l'ensemble d'algorithmes.**"
      ],
      "metadata": {
        "id": "7ulsg-5vHRzH"
      },
      "id": "7ulsg-5vHRzH"
    },
    {
      "cell_type": "code",
      "source": [
        "from pyspark.ml.classification import  LogisticRegression, DecisionTreeClassifier"
      ],
      "metadata": {
        "id": "roJ7G_eoH5dE"
      },
      "id": "roJ7G_eoH5dE",
      "execution_count": null,
      "outputs": []
    },
    {
      "cell_type": "code",
      "source": [
        "#Définition des autres modèles\n",
        "dt = DecisionTreeClassifier(labelCol=\"Class\", featuresCol=\"features\")\n",
        "lr = LogisticRegression(labelCol=\"Class\", featuresCol=\"features\")"
      ],
      "metadata": {
        "id": "GFkeYevQIBVJ"
      },
      "id": "GFkeYevQIBVJ",
      "execution_count": null,
      "outputs": []
    },
    {
      "cell_type": "code",
      "source": [
        "# Définition des grilles d'hyperparamètres pour chaque modèle\n",
        "param_grid_dt = ParamGridBuilder() \\\n",
        "    .addGrid(dt.maxDepth, [5, 10, 15]) \\\n",
        "    .addGrid(dt.maxBins, [20, 30, 40]) \\\n",
        "    .build()\n",
        "\n",
        "param_grid_lr = ParamGridBuilder() \\\n",
        "    .addGrid(lr.regParam, [0.1, 0.01]) \\\n",
        "    .addGrid(lr.elasticNetParam, [0.0, 0.5]) \\\n",
        "    .build()"
      ],
      "metadata": {
        "id": "kR-WIbm4Oqv2"
      },
      "id": "kR-WIbm4Oqv2",
      "execution_count": null,
      "outputs": []
    },
    {
      "cell_type": "code",
      "source": [
        "# Combinaison des grilles d'hyperparamètres pour former un ensemble d'algorithmes\n",
        "ensemble_param_grid = param_grid_dt + param_grid_lr"
      ],
      "metadata": {
        "id": "yGu9-4S6Oy9n"
      },
      "id": "yGu9-4S6Oy9n",
      "execution_count": null,
      "outputs": []
    },
    {
      "cell_type": "code",
      "source": [
        "# Affichage de l'ensemble des grilles d'hyperparamètres\n",
        "for param_grid in ensemble_param_grid:\n",
        "    print(param_grid)"
      ],
      "metadata": {
        "id": "KsCRio4nIJns",
        "colab": {
          "base_uri": "https://localhost:8080/"
        },
        "outputId": "4a197763-21c1-4aaa-d58d-3a4d4a5a9423"
      },
      "id": "KsCRio4nIJns",
      "execution_count": null,
      "outputs": [
        {
          "output_type": "stream",
          "name": "stdout",
          "text": [
            "{Param(parent='RandomForestClassifier_57820dbaff93', name='numTrees', doc='Number of trees to train (>= 1).'): 10, Param(parent='RandomForestClassifier_57820dbaff93', name='maxDepth', doc='Maximum depth of the tree. (>= 0) E.g., depth 0 means 1 leaf node; depth 1 means 1 internal node + 2 leaf nodes. Must be in range [0, 30].'): 5}\n",
            "{Param(parent='RandomForestClassifier_57820dbaff93', name='numTrees', doc='Number of trees to train (>= 1).'): 10, Param(parent='RandomForestClassifier_57820dbaff93', name='maxDepth', doc='Maximum depth of the tree. (>= 0) E.g., depth 0 means 1 leaf node; depth 1 means 1 internal node + 2 leaf nodes. Must be in range [0, 30].'): 10}\n",
            "{Param(parent='RandomForestClassifier_57820dbaff93', name='numTrees', doc='Number of trees to train (>= 1).'): 10, Param(parent='RandomForestClassifier_57820dbaff93', name='maxDepth', doc='Maximum depth of the tree. (>= 0) E.g., depth 0 means 1 leaf node; depth 1 means 1 internal node + 2 leaf nodes. Must be in range [0, 30].'): 15}\n",
            "{Param(parent='RandomForestClassifier_57820dbaff93', name='numTrees', doc='Number of trees to train (>= 1).'): 20, Param(parent='RandomForestClassifier_57820dbaff93', name='maxDepth', doc='Maximum depth of the tree. (>= 0) E.g., depth 0 means 1 leaf node; depth 1 means 1 internal node + 2 leaf nodes. Must be in range [0, 30].'): 5}\n",
            "{Param(parent='RandomForestClassifier_57820dbaff93', name='numTrees', doc='Number of trees to train (>= 1).'): 20, Param(parent='RandomForestClassifier_57820dbaff93', name='maxDepth', doc='Maximum depth of the tree. (>= 0) E.g., depth 0 means 1 leaf node; depth 1 means 1 internal node + 2 leaf nodes. Must be in range [0, 30].'): 10}\n",
            "{Param(parent='RandomForestClassifier_57820dbaff93', name='numTrees', doc='Number of trees to train (>= 1).'): 20, Param(parent='RandomForestClassifier_57820dbaff93', name='maxDepth', doc='Maximum depth of the tree. (>= 0) E.g., depth 0 means 1 leaf node; depth 1 means 1 internal node + 2 leaf nodes. Must be in range [0, 30].'): 15}\n",
            "{Param(parent='RandomForestClassifier_57820dbaff93', name='numTrees', doc='Number of trees to train (>= 1).'): 30, Param(parent='RandomForestClassifier_57820dbaff93', name='maxDepth', doc='Maximum depth of the tree. (>= 0) E.g., depth 0 means 1 leaf node; depth 1 means 1 internal node + 2 leaf nodes. Must be in range [0, 30].'): 5}\n",
            "{Param(parent='RandomForestClassifier_57820dbaff93', name='numTrees', doc='Number of trees to train (>= 1).'): 30, Param(parent='RandomForestClassifier_57820dbaff93', name='maxDepth', doc='Maximum depth of the tree. (>= 0) E.g., depth 0 means 1 leaf node; depth 1 means 1 internal node + 2 leaf nodes. Must be in range [0, 30].'): 10}\n",
            "{Param(parent='RandomForestClassifier_57820dbaff93', name='numTrees', doc='Number of trees to train (>= 1).'): 30, Param(parent='RandomForestClassifier_57820dbaff93', name='maxDepth', doc='Maximum depth of the tree. (>= 0) E.g., depth 0 means 1 leaf node; depth 1 means 1 internal node + 2 leaf nodes. Must be in range [0, 30].'): 15}\n",
            "{Param(parent='DecisionTreeClassifier_c143f530b8bf', name='maxDepth', doc='Maximum depth of the tree. (>= 0) E.g., depth 0 means 1 leaf node; depth 1 means 1 internal node + 2 leaf nodes. Must be in range [0, 30].'): 5, Param(parent='DecisionTreeClassifier_c143f530b8bf', name='maxBins', doc='Max number of bins for discretizing continuous features.  Must be >=2 and >= number of categories for any categorical feature.'): 20}\n",
            "{Param(parent='DecisionTreeClassifier_c143f530b8bf', name='maxDepth', doc='Maximum depth of the tree. (>= 0) E.g., depth 0 means 1 leaf node; depth 1 means 1 internal node + 2 leaf nodes. Must be in range [0, 30].'): 5, Param(parent='DecisionTreeClassifier_c143f530b8bf', name='maxBins', doc='Max number of bins for discretizing continuous features.  Must be >=2 and >= number of categories for any categorical feature.'): 30}\n",
            "{Param(parent='DecisionTreeClassifier_c143f530b8bf', name='maxDepth', doc='Maximum depth of the tree. (>= 0) E.g., depth 0 means 1 leaf node; depth 1 means 1 internal node + 2 leaf nodes. Must be in range [0, 30].'): 5, Param(parent='DecisionTreeClassifier_c143f530b8bf', name='maxBins', doc='Max number of bins for discretizing continuous features.  Must be >=2 and >= number of categories for any categorical feature.'): 40}\n",
            "{Param(parent='DecisionTreeClassifier_c143f530b8bf', name='maxDepth', doc='Maximum depth of the tree. (>= 0) E.g., depth 0 means 1 leaf node; depth 1 means 1 internal node + 2 leaf nodes. Must be in range [0, 30].'): 10, Param(parent='DecisionTreeClassifier_c143f530b8bf', name='maxBins', doc='Max number of bins for discretizing continuous features.  Must be >=2 and >= number of categories for any categorical feature.'): 20}\n",
            "{Param(parent='DecisionTreeClassifier_c143f530b8bf', name='maxDepth', doc='Maximum depth of the tree. (>= 0) E.g., depth 0 means 1 leaf node; depth 1 means 1 internal node + 2 leaf nodes. Must be in range [0, 30].'): 10, Param(parent='DecisionTreeClassifier_c143f530b8bf', name='maxBins', doc='Max number of bins for discretizing continuous features.  Must be >=2 and >= number of categories for any categorical feature.'): 30}\n",
            "{Param(parent='DecisionTreeClassifier_c143f530b8bf', name='maxDepth', doc='Maximum depth of the tree. (>= 0) E.g., depth 0 means 1 leaf node; depth 1 means 1 internal node + 2 leaf nodes. Must be in range [0, 30].'): 10, Param(parent='DecisionTreeClassifier_c143f530b8bf', name='maxBins', doc='Max number of bins for discretizing continuous features.  Must be >=2 and >= number of categories for any categorical feature.'): 40}\n",
            "{Param(parent='DecisionTreeClassifier_c143f530b8bf', name='maxDepth', doc='Maximum depth of the tree. (>= 0) E.g., depth 0 means 1 leaf node; depth 1 means 1 internal node + 2 leaf nodes. Must be in range [0, 30].'): 15, Param(parent='DecisionTreeClassifier_c143f530b8bf', name='maxBins', doc='Max number of bins for discretizing continuous features.  Must be >=2 and >= number of categories for any categorical feature.'): 20}\n",
            "{Param(parent='DecisionTreeClassifier_c143f530b8bf', name='maxDepth', doc='Maximum depth of the tree. (>= 0) E.g., depth 0 means 1 leaf node; depth 1 means 1 internal node + 2 leaf nodes. Must be in range [0, 30].'): 15, Param(parent='DecisionTreeClassifier_c143f530b8bf', name='maxBins', doc='Max number of bins for discretizing continuous features.  Must be >=2 and >= number of categories for any categorical feature.'): 30}\n",
            "{Param(parent='DecisionTreeClassifier_c143f530b8bf', name='maxDepth', doc='Maximum depth of the tree. (>= 0) E.g., depth 0 means 1 leaf node; depth 1 means 1 internal node + 2 leaf nodes. Must be in range [0, 30].'): 15, Param(parent='DecisionTreeClassifier_c143f530b8bf', name='maxBins', doc='Max number of bins for discretizing continuous features.  Must be >=2 and >= number of categories for any categorical feature.'): 40}\n",
            "{Param(parent='LogisticRegression_9dc9179fa896', name='regParam', doc='regularization parameter (>= 0).'): 0.1, Param(parent='LogisticRegression_9dc9179fa896', name='elasticNetParam', doc='the ElasticNet mixing parameter, in range [0, 1]. For alpha = 0, the penalty is an L2 penalty. For alpha = 1, it is an L1 penalty.'): 0.0}\n",
            "{Param(parent='LogisticRegression_9dc9179fa896', name='regParam', doc='regularization parameter (>= 0).'): 0.1, Param(parent='LogisticRegression_9dc9179fa896', name='elasticNetParam', doc='the ElasticNet mixing parameter, in range [0, 1]. For alpha = 0, the penalty is an L2 penalty. For alpha = 1, it is an L1 penalty.'): 0.5}\n",
            "{Param(parent='LogisticRegression_9dc9179fa896', name='regParam', doc='regularization parameter (>= 0).'): 0.01, Param(parent='LogisticRegression_9dc9179fa896', name='elasticNetParam', doc='the ElasticNet mixing parameter, in range [0, 1]. For alpha = 0, the penalty is an L2 penalty. For alpha = 1, it is an L1 penalty.'): 0.0}\n",
            "{Param(parent='LogisticRegression_9dc9179fa896', name='regParam', doc='regularization parameter (>= 0).'): 0.01, Param(parent='LogisticRegression_9dc9179fa896', name='elasticNetParam', doc='the ElasticNet mixing parameter, in range [0, 1]. For alpha = 0, the penalty is an L2 penalty. For alpha = 1, it is an L1 penalty.'): 0.5}\n"
          ]
        }
      ]
    },
    {
      "cell_type": "code",
      "source": [
        "evaluator = MulticlassClassificationEvaluator(metricName=\"accuracy\")"
      ],
      "metadata": {
        "id": "YKPYQLBISxBh"
      },
      "id": "YKPYQLBISxBh",
      "execution_count": null,
      "outputs": []
    },
    {
      "cell_type": "code",
      "source": [
        "cv_dt = CrossValidator(estimator=dt,\n",
        "                       estimatorParamMaps=param_grid_dt,\n",
        "                       evaluator=evaluator,\n",
        "                       numFolds=5)\n",
        "\n",
        "cv_lr = CrossValidator(estimator=lr,\n",
        "                       estimatorParamMaps=param_grid_lr,\n",
        "                       evaluator=evaluator,\n",
        "                       numFolds=5)\n"
      ],
      "metadata": {
        "id": "wzmKFWbPS3vT"
      },
      "id": "wzmKFWbPS3vT",
      "execution_count": null,
      "outputs": []
    },
    {
      "cell_type": "markdown",
      "source": [
        "**• Déploiement du modèle: déployer le modèle en utilisant Spark Streaming pour\n",
        "la détection en temps réel de la fraude bancaire.**"
      ],
      "metadata": {
        "id": "HSv549trP4jx"
      },
      "id": "HSv549trP4jx"
    },
    {
      "cell_type": "code",
      "source": [],
      "metadata": {
        "id": "IaCIIc4-rJpt"
      },
      "id": "IaCIIc4-rJpt",
      "execution_count": null,
      "outputs": []
    }
  ],
  "metadata": {
    "kernelspec": {
      "display_name": "Python 3 (ipykernel)",
      "language": "python",
      "name": "python3"
    },
    "language_info": {
      "codemirror_mode": {
        "name": "ipython",
        "version": 3
      },
      "file_extension": ".py",
      "mimetype": "text/x-python",
      "name": "python",
      "nbconvert_exporter": "python",
      "pygments_lexer": "ipython3",
      "version": "3.11.5"
    },
    "colab": {
      "provenance": []
    }
  },
  "nbformat": 4,
  "nbformat_minor": 5
}